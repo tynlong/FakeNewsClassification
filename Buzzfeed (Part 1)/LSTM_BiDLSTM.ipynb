{
 "cells": [
  {
   "cell_type": "markdown",
   "metadata": {
    "colab_type": "text",
    "id": "EFGyHrNaELx1"
   },
   "source": [
    "# LSTM/BiDLSTM Models with Self-embedding Layers"
   ]
  },
  {
   "cell_type": "markdown",
   "metadata": {
    "colab_type": "text",
    "id": "EBKhBtGSEZo_"
   },
   "source": [
    "### Import Necessary Packages"
   ]
  },
  {
   "cell_type": "code",
   "execution_count": 2,
   "metadata": {
    "ExecuteTime": {
     "end_time": "2019-12-04T15:01:10.965174Z",
     "start_time": "2019-12-04T15:01:03.990047Z"
    },
    "colab": {
     "base_uri": "https://localhost:8080/",
     "height": 0
    },
    "colab_type": "code",
    "executionInfo": {
     "elapsed": 27493,
     "status": "ok",
     "timestamp": 1575431966344,
     "user": {
      "displayName": "Tyn Long Tay",
      "photoUrl": "",
      "userId": "05995455900473544360"
     },
     "user_tz": -480
    },
    "id": "KrORAedZ94fR",
    "outputId": "874d66fc-6eca-49ba-fc94-d164d7b6f89a"
   },
   "outputs": [
    {
     "name": "stderr",
     "output_type": "stream",
     "text": [
      "Using TensorFlow backend.\n"
     ]
    },
    {
     "name": "stdout",
     "output_type": "stream",
     "text": [
      "using Keras version: 2.2.4\n"
     ]
    }
   ],
   "source": [
    "import pandas as pd\n",
    "import numpy as np\n",
    "import seaborn as sns\n",
    "import matplotlib.pyplot as plt\n",
    "import string\n",
    "\n",
    "#import metrics and preprocessing\n",
    "from sklearn.model_selection import train_test_split,cross_val_score,GridSearchCV,StratifiedKFold\n",
    "from sklearn.metrics import f1_score,accuracy_score,recall_score,confusion_matrix,roc_auc_score,precision_score\n",
    "\n",
    "#import keras packages\n",
    "from keras.models import Sequential\n",
    "from keras.layers import Dense,Embedding,SpatialDropout1D,LSTM,Bidirectional\n",
    "from keras.utils import to_categorical\n",
    "from keras.preprocessing.text import Tokenizer\n",
    "from keras.preprocessing.sequence import pad_sequences\n",
    "from keras.callbacks import EarlyStopping,ModelCheckpoint\n",
    "from keras import metrics\n",
    "from keras import optimizers\n",
    "\n",
    "%matplotlib inline\n",
    "# import ktrain\n",
    "import ktrain\n",
    "from ktrain import text"
   ]
  },
  {
   "cell_type": "markdown",
   "metadata": {
    "colab_type": "text",
    "id": "hDeUdiDv925X"
   },
   "source": [
    "### Load Cleaned Files"
   ]
  },
  {
   "cell_type": "code",
   "execution_count": 3,
   "metadata": {
    "ExecuteTime": {
     "end_time": "2019-12-04T15:01:11.308639Z",
     "start_time": "2019-12-04T15:01:10.967913Z"
    },
    "colab": {},
    "colab_type": "code",
    "id": "Ip9NOmqX94fx"
   },
   "outputs": [],
   "source": [
    "filepath='Cleaned CSV/'\n",
    "df=pd.read_csv(filepath+'buzzfeedclean.csv')\n",
    "test=pd.read_csv(filepath+'snopesclean.csv')"
   ]
  },
  {
   "cell_type": "code",
   "execution_count": 4,
   "metadata": {
    "ExecuteTime": {
     "end_time": "2019-12-04T15:01:14.078091Z",
     "start_time": "2019-12-04T15:01:14.048841Z"
    },
    "colab": {
     "base_uri": "https://localhost:8080/",
     "height": 0
    },
    "colab_type": "code",
    "executionInfo": {
     "elapsed": 49008,
     "status": "ok",
     "timestamp": 1575431990028,
     "user": {
      "displayName": "Tyn Long Tay",
      "photoUrl": "",
      "userId": "05995455900473544360"
     },
     "user_tz": -480
    },
    "id": "WTkRhGMlSTAt",
    "outputId": "353e2b2b-e2d8-4ed5-f5ac-43689e0785d7"
   },
   "outputs": [
    {
     "data": {
      "text/html": [
       "<div>\n",
       "<style scoped>\n",
       "    .dataframe tbody tr th:only-of-type {\n",
       "        vertical-align: middle;\n",
       "    }\n",
       "\n",
       "    .dataframe tbody tr th {\n",
       "        vertical-align: top;\n",
       "    }\n",
       "\n",
       "    .dataframe thead th {\n",
       "        text-align: right;\n",
       "    }\n",
       "</style>\n",
       "<table border=\"1\" class=\"dataframe\">\n",
       "  <thead>\n",
       "    <tr style=\"text-align: right;\">\n",
       "      <th></th>\n",
       "      <th>id</th>\n",
       "      <th>url</th>\n",
       "      <th>rating</th>\n",
       "      <th>text</th>\n",
       "      <th>domain</th>\n",
       "      <th>source</th>\n",
       "      <th>lower text</th>\n",
       "      <th>target</th>\n",
       "      <th>nltklemma</th>\n",
       "      <th>spacylemma</th>\n",
       "      <th>spacylemma2</th>\n",
       "      <th>spacy_pos</th>\n",
       "      <th>spacy_pos2</th>\n",
       "    </tr>\n",
       "  </thead>\n",
       "  <tbody>\n",
       "    <tr>\n",
       "      <th>0</th>\n",
       "      <td>1204</td>\n",
       "      <td>http://occupydemocrats.com/2016/09/23/donald-t...</td>\n",
       "      <td>mostly true</td>\n",
       "      <td>A few days ago, DonaldTrump despicable spawn ...</td>\n",
       "      <td>occupydemocrats.com</td>\n",
       "      <td>buzzfeed</td>\n",
       "      <td>a few days ago, donaldtrump despicable spawn ...</td>\n",
       "      <td>0</td>\n",
       "      <td>day ago donaldtrump despicable spawn tweeted m...</td>\n",
       "      <td>day ago , DonaldTrump despicable spawn tweet...</td>\n",
       "      <td>day ago , PROPN despicable spawn tweet meme ...</td>\n",
       "      <td>SPACE NOUN ADV PUNCT PROPN ADJ NOUN VERB NOUN ...</td>\n",
       "      <td>SPACE DET ADJ NOUN ADV PROPN ADJ NOUN VERB ADP...</td>\n",
       "    </tr>\n",
       "    <tr>\n",
       "      <th>1</th>\n",
       "      <td>1157</td>\n",
       "      <td>http://occupydemocrats.com/2016/09/19/just-50-...</td>\n",
       "      <td>mostly true</td>\n",
       "      <td>A group of over fifty former intelligence off...</td>\n",
       "      <td>occupydemocrats.com</td>\n",
       "      <td>buzzfeed</td>\n",
       "      <td>a group of over fifty former intelligence off...</td>\n",
       "      <td>0</td>\n",
       "      <td>group fifty former intelligence official natio...</td>\n",
       "      <td>group intelligence official national securit...</td>\n",
       "      <td>group intelligence official national securit...</td>\n",
       "      <td>SPACE NOUN NOUN NOUN ADJ NOUN NOUN VERB NOUN V...</td>\n",
       "      <td>SPACE DET NOUN ADP ADP NUM ADJ NOUN NOUN CCONJ...</td>\n",
       "    </tr>\n",
       "    <tr>\n",
       "      <th>2</th>\n",
       "      <td>1165</td>\n",
       "      <td>http://occupydemocrats.com/2016/09/20/proof-tr...</td>\n",
       "      <td>mixture of true and false</td>\n",
       "      <td>A new investigation has determined that Donal...</td>\n",
       "      <td>occupydemocrats.com</td>\n",
       "      <td>buzzfeed</td>\n",
       "      <td>a new investigation has determined that donal...</td>\n",
       "      <td>1</td>\n",
       "      <td>new investigation determined donaldtrump chari...</td>\n",
       "      <td>new investigation determine DonaldTrump char...</td>\n",
       "      <td>new investigation determine PROPN charitable...</td>\n",
       "      <td>SPACE ADJ NOUN VERB PROPN ADJ NOUN VERB ADJ NO...</td>\n",
       "      <td>SPACE DET ADJ NOUN AUX VERB SCONJ PROPN ADJ NO...</td>\n",
       "    </tr>\n",
       "    <tr>\n",
       "      <th>3</th>\n",
       "      <td>1199</td>\n",
       "      <td>http://occupydemocrats.com/2016/09/23/breaking...</td>\n",
       "      <td>mostly true</td>\n",
       "      <td>A new video has emerged of the moments before...</td>\n",
       "      <td>occupydemocrats.com</td>\n",
       "      <td>buzzfeed</td>\n",
       "      <td>a new video has emerged of the moments before...</td>\n",
       "      <td>0</td>\n",
       "      <td>new video emerged moment police officer gunned...</td>\n",
       "      <td>new video emerge moment police officer gun K...</td>\n",
       "      <td>new video emerge moment police officer gun P...</td>\n",
       "      <td>SPACE ADJ NOUN VERB NOUN NOUN NOUN VERB PROPN ...</td>\n",
       "      <td>SPACE DET ADJ NOUN AUX VERB ADP DET NOUN ADV C...</td>\n",
       "    </tr>\n",
       "    <tr>\n",
       "      <th>4</th>\n",
       "      <td>1210</td>\n",
       "      <td>http://occupydemocrats.com/2016/09/26/wwii-vet...</td>\n",
       "      <td>mostly true</td>\n",
       "      <td>A ninety-six-year-old World War II veteran an...</td>\n",
       "      <td>occupydemocrats.com</td>\n",
       "      <td>buzzfeed</td>\n",
       "      <td>a ninety-six-year-old world war ii veteran an...</td>\n",
       "      <td>0</td>\n",
       "      <td>ninetysixyearold world war ii veteran longtime...</td>\n",
       "      <td>ninety - - year - old World War II veteran l...</td>\n",
       "      <td>ninety - - year - old PROPN PROPN PROPN vete...</td>\n",
       "      <td>SPACE NUM PUNCT PUNCT NOUN PUNCT ADJ PROPN PRO...</td>\n",
       "      <td>SPACE DET NUM NUM NOUN ADJ PROPN PROPN PROPN N...</td>\n",
       "    </tr>\n",
       "  </tbody>\n",
       "</table>\n",
       "</div>"
      ],
      "text/plain": [
       "     id                                                url  \\\n",
       "0  1204  http://occupydemocrats.com/2016/09/23/donald-t...   \n",
       "1  1157  http://occupydemocrats.com/2016/09/19/just-50-...   \n",
       "2  1165  http://occupydemocrats.com/2016/09/20/proof-tr...   \n",
       "3  1199  http://occupydemocrats.com/2016/09/23/breaking...   \n",
       "4  1210  http://occupydemocrats.com/2016/09/26/wwii-vet...   \n",
       "\n",
       "                      rating  \\\n",
       "0                mostly true   \n",
       "1                mostly true   \n",
       "2  mixture of true and false   \n",
       "3                mostly true   \n",
       "4                mostly true   \n",
       "\n",
       "                                                text               domain  \\\n",
       "0   A few days ago, DonaldTrump despicable spawn ...  occupydemocrats.com   \n",
       "1   A group of over fifty former intelligence off...  occupydemocrats.com   \n",
       "2   A new investigation has determined that Donal...  occupydemocrats.com   \n",
       "3   A new video has emerged of the moments before...  occupydemocrats.com   \n",
       "4   A ninety-six-year-old World War II veteran an...  occupydemocrats.com   \n",
       "\n",
       "     source                                         lower text  target  \\\n",
       "0  buzzfeed   a few days ago, donaldtrump despicable spawn ...       0   \n",
       "1  buzzfeed   a group of over fifty former intelligence off...       0   \n",
       "2  buzzfeed   a new investigation has determined that donal...       1   \n",
       "3  buzzfeed   a new video has emerged of the moments before...       0   \n",
       "4  buzzfeed   a ninety-six-year-old world war ii veteran an...       0   \n",
       "\n",
       "                                           nltklemma  \\\n",
       "0  day ago donaldtrump despicable spawn tweeted m...   \n",
       "1  group fifty former intelligence official natio...   \n",
       "2  new investigation determined donaldtrump chari...   \n",
       "3  new video emerged moment police officer gunned...   \n",
       "4  ninetysixyearold world war ii veteran longtime...   \n",
       "\n",
       "                                          spacylemma  \\\n",
       "0    day ago , DonaldTrump despicable spawn tweet...   \n",
       "1    group intelligence official national securit...   \n",
       "2    new investigation determine DonaldTrump char...   \n",
       "3    new video emerge moment police officer gun K...   \n",
       "4    ninety - - year - old World War II veteran l...   \n",
       "\n",
       "                                         spacylemma2  \\\n",
       "0    day ago , PROPN despicable spawn tweet meme ...   \n",
       "1    group intelligence official national securit...   \n",
       "2    new investigation determine PROPN charitable...   \n",
       "3    new video emerge moment police officer gun P...   \n",
       "4    ninety - - year - old PROPN PROPN PROPN vete...   \n",
       "\n",
       "                                           spacy_pos  \\\n",
       "0  SPACE NOUN ADV PUNCT PROPN ADJ NOUN VERB NOUN ...   \n",
       "1  SPACE NOUN NOUN NOUN ADJ NOUN NOUN VERB NOUN V...   \n",
       "2  SPACE ADJ NOUN VERB PROPN ADJ NOUN VERB ADJ NO...   \n",
       "3  SPACE ADJ NOUN VERB NOUN NOUN NOUN VERB PROPN ...   \n",
       "4  SPACE NUM PUNCT PUNCT NOUN PUNCT ADJ PROPN PRO...   \n",
       "\n",
       "                                          spacy_pos2  \n",
       "0  SPACE DET ADJ NOUN ADV PROPN ADJ NOUN VERB ADP...  \n",
       "1  SPACE DET NOUN ADP ADP NUM ADJ NOUN NOUN CCONJ...  \n",
       "2  SPACE DET ADJ NOUN AUX VERB SCONJ PROPN ADJ NO...  \n",
       "3  SPACE DET ADJ NOUN AUX VERB ADP DET NOUN ADV C...  \n",
       "4  SPACE DET NUM NUM NOUN ADJ PROPN PROPN PROPN N...  "
      ]
     },
     "execution_count": 4,
     "metadata": {},
     "output_type": "execute_result"
    }
   ],
   "source": [
    "df.head()"
   ]
  },
  {
   "cell_type": "markdown",
   "metadata": {
    "colab_type": "text",
    "id": "G-H2PKxse5TZ"
   },
   "source": [
    "### Assessment Functions"
   ]
  },
  {
   "cell_type": "code",
   "execution_count": 0,
   "metadata": {
    "colab": {},
    "colab_type": "code",
    "id": "DXk2UlNTBsmL"
   },
   "outputs": [],
   "source": [
    "## Prints a Confusion Matrix with columns and indexes labeled correctly\n",
    "def printcm(Y,predictions,ground_truth):\n",
    "    \n",
    "    columns=pd.get_dummies(Y).columns\n",
    "    print(columns)\n",
    "    predictions=pd.DataFrame(predictions)\n",
    "    predictions[0]=predictions[0].map({n:col for n,col in enumerate(columns)})\n",
    "\n",
    "    cm=pd.DataFrame(confusion_matrix(ground_truth,predictions[0]),columns=[('Predicted '+str(x)) for x in columns])\n",
    "    cm['index']=cm['index']=[('Real '+str(x)) for x in columns]\n",
    "    cm.set_index('index',inplace=True)\n",
    "    display(cm)"
   ]
  },
  {
   "cell_type": "code",
   "execution_count": 0,
   "metadata": {
    "colab": {},
    "colab_type": "code",
    "id": "co6WxnR2R0Tv"
   },
   "outputs": [],
   "source": [
    "## prints  accuracy,f1,precision,recall scores and the confusion matrix\n",
    "def assess_model(pred_prob,y_test,threshold):   \n",
    "\n",
    "    pred_df=pd.DataFrame(pred_prob,columns=['pred_probs'])\n",
    "\n",
    "\n",
    "    pred_df['true_values']=y_test.values\n",
    "    pred_df['predict']=pred_df['pred_probs']>threshold\n",
    "    pred_df['predict']=pred_df['predict'].astype(int)\n",
    "    predictions=pred_df['predict'].values\n",
    "    method={}\n",
    "    \n",
    "    method['accuracy']=accuracy_score(y_test,predictions)\n",
    "    method['f']=f1_score(y_test,predictions)\n",
    "    method['precision']=precision_score(y_test,predictions)\n",
    "    method['recall']=recall_score(y_test,predictions)\n",
    "    method['fprate']=FPR(pred_df,'true_values','pred_probs',threshold)\n",
    "    method['tprate']=TPR(pred_df,'true_values','pred_probs',threshold)\n",
    "    columns=pd.get_dummies(y_test).columns\n",
    "    \n",
    "\n",
    "    printcm(y_test,predictions,y_test.values)\n",
    "    \n",
    "    print(method)\n",
    "\n",
    "    return pred_df"
   ]
  },
  {
   "cell_type": "code",
   "execution_count": 0,
   "metadata": {
    "colab": {},
    "colab_type": "code",
    "id": "pKl0T09LVOMV"
   },
   "outputs": [],
   "source": [
    "## returns precision and recall at a particular threshold\n",
    "def custom_pr(true_col,pred_prob_col,threshold,beta=1):\n",
    "    fbeta=0\n",
    "    df=pd.DataFrame()\n",
    "    df['true_col']=true_col\n",
    "    df['pred_prob_col']=pred_prob_col\n",
    "\n",
    "    TN = df[(df['true_col'] == 0) & (df['pred_prob_col'] <= threshold)].shape[0]\n",
    "    FP = df[(df['true_col'] == 0) & (df['pred_prob_col'] > threshold)].shape[0]\n",
    "    TP = df[(df['true_col'] == 1) & (df['pred_prob_col'] >= threshold)].shape[0]\n",
    "    FN = df[(df['true_col'] == 1) & (df['pred_prob_col'] < threshold)].shape[0]\n",
    "    #print(TN,FP,TP,FN)\n",
    "    \n",
    "    \n",
    "    if TP==0:\n",
    "        precision=0\n",
    "        recall=0\n",
    "    else:\n",
    "        precision=TP/(TP+FP)\n",
    "        recall=TP/(TP+FN)\n",
    "        \n",
    "    if (precision==0 or recall==0):\n",
    "        fbeta=0\n",
    "    else:\n",
    "        fbeta=(1+beta**2) * (precision * recall) / ((beta**2)*precision + recall)\n",
    "    return [precision,recall]"
   ]
  },
  {
   "cell_type": "code",
   "execution_count": 0,
   "metadata": {
    "colab": {},
    "colab_type": "code",
    "id": "eNb53gXw9X8f"
   },
   "outputs": [],
   "source": [
    "# plots a probability distribution of the predictions\n",
    "def plotprob(pred_df):\n",
    "# Create figure.\n",
    "  plt.figure(figsize = (10,7))\n",
    "\n",
    "# Create two histograms of observations.\n",
    "  plt.hist(pred_df[pred_df['true_values'] == 0]['pred_probs'],\n",
    "          bins=25,\n",
    "          color='b',\n",
    "          alpha = 0.6,\n",
    "          label='Outcome = 0')\n",
    "  plt.hist(pred_df[pred_df['true_values'] == 1]['pred_probs'],\n",
    "          bins=25,\n",
    "          color='orange',\n",
    "          alpha = 0.6,\n",
    "          label='Outcome = 1')\n",
    "\n",
    "# Label axes.\n",
    "  plt.title('Distribution of P(Outcome = 1)', fontsize=22)\n",
    "  plt.ylabel('Frequency', fontsize=18)\n",
    "  plt.xlabel('Predicted Probability that Outcome = 1', fontsize=18)\n",
    "\n",
    "# Create legend.\n",
    "  plt.legend(fontsize=20);\n",
    "  pass"
   ]
  },
  {
   "cell_type": "code",
   "execution_count": 0,
   "metadata": {
    "colab": {},
    "colab_type": "code",
    "id": "_EA60DpV9oTF"
   },
   "outputs": [],
   "source": [
    "# Define function to calculate sensitivity. (True positive rate.)\n",
    "def TPR(df, true_col, pred_prob_col, threshold):\n",
    "    true_positive = df[(df[true_col] == 1) & (df[pred_prob_col] >= threshold)].shape[0]\n",
    "    false_negative = df[(df[true_col] == 1) & (df[pred_prob_col] < threshold)].shape[0]\n",
    "    return true_positive / (true_positive + false_negative)\n",
    "    \n",
    "\n",
    "# Define function to calculate 1 - specificity. (False positive rate.)\n",
    "def FPR(df, true_col, pred_prob_col, threshold):\n",
    "    true_negative = df[(df[true_col] == 0) & (df[pred_prob_col] <= threshold)].shape[0]\n",
    "    false_positive = df[(df[true_col] == 0) & (df[pred_prob_col] > threshold)].shape[0]\n",
    "    return 1 - (true_negative / (true_negative + false_positive))\n",
    "\n",
    "#define function to calculate f1 score for a particular threshold\n",
    "def f1(df,true_col,pred_prob_col,threshold):\n",
    "    TN = df[(df[true_col] == 0) & (df[pred_prob_col] <= threshold)].shape[0]\n",
    "    FP = df[(df[true_col] == 0) & (df[pred_prob_col] > threshold)].shape[0]\n",
    "    TP = df[(df[true_col] == 1) & (df[pred_prob_col] >= threshold)].shape[0]\n",
    "    FN = df[(df[true_col] == 1) & (df[pred_prob_col] < threshold)].shape[0]\n",
    "    if TP==0:\n",
    "        precision=0\n",
    "    else:\n",
    "        precision=TP/(TP+FP)\n",
    "        \n",
    "    recall=TP/(TP+FN)\n",
    "    if (precision==0 or recall==0):\n",
    "        f1=0\n",
    "    else:\n",
    "        f1=2 * (precision * recall) / (precision + recall)\n",
    "    return f1"
   ]
  },
  {
   "cell_type": "code",
   "execution_count": 0,
   "metadata": {
    "colab": {},
    "colab_type": "code",
    "id": "IqrIGLnN9_nA"
   },
   "outputs": [],
   "source": [
    "#plots the receiver operating curve\n",
    "def rocauccurve(pred_df):\n",
    "  # Create figure.\n",
    "  plt.figure(figsize = (10,7))\n",
    "  # Create threshold values. (Dashed red line in image.)\n",
    "  thresholds = np.linspace(0, 1, 200)\n",
    "  # Calculate sensitivity & 1-specificity for each threshold between 0 and 1.\n",
    "  tpr_values = [TPR(pred_df, 'true_values', 'pred_probs', prob) for prob in thresholds]\n",
    "  fpr_values = [FPR(pred_df, 'true_values', 'pred_probs', prob) for prob in thresholds]\n",
    "\n",
    "  # Plot ROC curve.\n",
    "  plt.plot(fpr_values, # False Positive Rate on X-axis\n",
    "          tpr_values,\n",
    "          label='ROC Curve')\n",
    "  # Plot ROC curve.\n",
    "  plt.plot(thresholds, # False Positive Rate on X-axis\n",
    "          thresholds,\n",
    "          label='ROC Curve')\n",
    "  # Label axes.\n",
    "  plt.title(f'ROC Curve with AUC = {round(roc_auc_score(pred_df[\"true_values\"], pred_df[\"pred_probs\"]),3)}', fontsize=22)\n",
    "  plt.ylabel('Sensitivity', fontsize=18)\n",
    "  plt.xlabel('1 - Specificity', fontsize=18)\n",
    "\n",
    "  # Create legend.\n",
    "  plt.legend(fontsize=16);"
   ]
  },
  {
   "cell_type": "markdown",
   "metadata": {
    "colab_type": "text",
    "id": "ZCuW-zVzgBtc"
   },
   "source": [
    "### Neural Network Preprocessing"
   ]
  },
  {
   "cell_type": "code",
   "execution_count": 11,
   "metadata": {
    "ExecuteTime": {
     "end_time": "2019-11-21T07:53:50.366627Z",
     "start_time": "2019-11-21T07:53:49.428263Z"
    },
    "colab": {
     "base_uri": "https://localhost:8080/",
     "height": 0
    },
    "colab_type": "code",
    "executionInfo": {
     "elapsed": 1049,
     "status": "ok",
     "timestamp": 1575432218401,
     "user": {
      "displayName": "Tyn Long Tay",
      "photoUrl": "",
      "userId": "05995455900473544360"
     },
     "user_tz": -480
    },
    "id": "JYigJ_0S94ho",
    "outputId": "e3ed13bc-caeb-4164-f57c-0fe821f99301"
   },
   "outputs": [
    {
     "name": "stdout",
     "output_type": "stream",
     "text": [
      "Found 40413 unique tokens.\n"
     ]
    }
   ],
   "source": [
    "# The maximum number of words to be used. (most frequent)\n",
    "MAX_NB_WORDS = 50000\n",
    "# Max number of words in each complaint.\n",
    "MAX_SEQUENCE_LENGTH = 5000\n",
    "# This is fixed.\n",
    "EMBEDDING_DIM = 64\n",
    "\n",
    "\n",
    "tokenizer = Tokenizer(num_words=MAX_NB_WORDS, filters='!\"#$%&()*+,-./:;<=>?@[\\]^_`{|}~', lower=True)\n",
    "tokenizer.fit_on_texts(np.hstack((df['text'].values,test['text'].values)))\n",
    "word_index = tokenizer.word_index\n",
    "print('Found %s unique tokens.' % len(word_index))"
   ]
  },
  {
   "cell_type": "code",
   "execution_count": 12,
   "metadata": {
    "ExecuteTime": {
     "end_time": "2019-11-21T07:55:04.644610Z",
     "start_time": "2019-11-21T07:55:04.002098Z"
    },
    "colab": {
     "base_uri": "https://localhost:8080/",
     "height": 0
    },
    "colab_type": "code",
    "executionInfo": {
     "elapsed": 1172,
     "status": "ok",
     "timestamp": 1575432219655,
     "user": {
      "displayName": "Tyn Long Tay",
      "photoUrl": "",
      "userId": "05995455900473544360"
     },
     "user_tz": -480
    },
    "id": "BdMVFdO194h8",
    "outputId": "bf8cbc3f-7332-4728-edad-f4151d481a6a"
   },
   "outputs": [
    {
     "name": "stdout",
     "output_type": "stream",
     "text": [
      "Shape of data tensor: (1380, 5000)\n"
     ]
    }
   ],
   "source": [
    "# Turns text into a number sequence where a number represents a word in the corpus dictionary\n",
    "X = tokenizer.texts_to_sequences(df['text'].values)\n",
    "X = pad_sequences(X, maxlen=MAX_SEQUENCE_LENGTH)\n",
    "print('Shape of data tensor:', X.shape)"
   ]
  },
  {
   "cell_type": "markdown",
   "metadata": {
    "colab_type": "text",
    "id": "X3ypgMXMFVe_"
   },
   "source": [
    "#### Prepare Target Variables"
   ]
  },
  {
   "cell_type": "code",
   "execution_count": 13,
   "metadata": {
    "ExecuteTime": {
     "end_time": "2019-11-21T07:55:06.312371Z",
     "start_time": "2019-11-21T07:55:06.297816Z"
    },
    "colab": {
     "base_uri": "https://localhost:8080/",
     "height": 0
    },
    "colab_type": "code",
    "executionInfo": {
     "elapsed": 809,
     "status": "ok",
     "timestamp": 1575432219662,
     "user": {
      "displayName": "Tyn Long Tay",
      "photoUrl": "",
      "userId": "05995455900473544360"
     },
     "user_tz": -480
    },
    "id": "PrSN_nmL94iM",
    "outputId": "9ffe70a9-24d9-48b0-b138-e6aadf6c3c58"
   },
   "outputs": [
    {
     "name": "stdout",
     "output_type": "stream",
     "text": [
      "Shape of label tensor: (1380,)\n"
     ]
    }
   ],
   "source": [
    "#Define Target\n",
    "Y=df['target']\n",
    "print('Shape of label tensor:', Y.shape)"
   ]
  },
  {
   "cell_type": "code",
   "execution_count": 0,
   "metadata": {
    "colab": {},
    "colab_type": "code",
    "id": "4J_i6jdWxr-N"
   },
   "outputs": [],
   "source": [
    "#Dummy the target columns(Not necessary for binary, but necessary for multiclass)\n",
    "targets=pd.get_dummies(df['target']).columns"
   ]
  },
  {
   "cell_type": "code",
   "execution_count": 15,
   "metadata": {
    "colab": {
     "base_uri": "https://localhost:8080/",
     "height": 0
    },
    "colab_type": "code",
    "executionInfo": {
     "elapsed": 743,
     "status": "ok",
     "timestamp": 1575432220116,
     "user": {
      "displayName": "Tyn Long Tay",
      "photoUrl": "",
      "userId": "05995455900473544360"
     },
     "user_tz": -480
    },
    "id": "hOp7cFMLHBD9",
    "outputId": "769636f6-9554-48ef-db07-d39d975fd6e5"
   },
   "outputs": [
    {
     "data": {
      "text/plain": [
       "array([0.78985507, 0.21014493])"
      ]
     },
     "execution_count": 15,
     "metadata": {
      "tags": []
     },
     "output_type": "execute_result"
    }
   ],
   "source": [
    "df['target'].value_counts(normalize=True).values"
   ]
  },
  {
   "cell_type": "markdown",
   "metadata": {
    "colab_type": "text",
    "id": "ADrYxObZFYLL"
   },
   "source": [
    "#### Create class weights to counter the difference in class size"
   ]
  },
  {
   "cell_type": "code",
   "execution_count": 0,
   "metadata": {
    "colab": {},
    "colab_type": "code",
    "id": "LXSp4HQ-vpE2"
   },
   "outputs": [],
   "source": [
    "\n",
    "counter_weight={}\n",
    "weights=df['target'].value_counts()\n",
    "for n,x in enumerate(targets):\n",
    "  counter_weight[n]=(np.max(weights)/weights[x])\n",
    "  "
   ]
  },
  {
   "cell_type": "code",
   "execution_count": 19,
   "metadata": {
    "colab": {
     "base_uri": "https://localhost:8080/",
     "height": 0
    },
    "colab_type": "code",
    "executionInfo": {
     "elapsed": 717,
     "status": "ok",
     "timestamp": 1575432288975,
     "user": {
      "displayName": "Tyn Long Tay",
      "photoUrl": "",
      "userId": "05995455900473544360"
     },
     "user_tz": -480
    },
    "id": "Ab9KHOOWxaUG",
    "outputId": "2e02e215-1b07-40b4-d4ad-4cf908ad1ee7"
   },
   "outputs": [
    {
     "data": {
      "text/plain": [
       "{0: 1.0, 1: 3.7586206896551726}"
      ]
     },
     "execution_count": 19,
     "metadata": {
      "tags": []
     },
     "output_type": "execute_result"
    }
   ],
   "source": [
    "counter_weight"
   ]
  },
  {
   "cell_type": "markdown",
   "metadata": {
    "colab_type": "text",
    "id": "4wsGtNryFbfu"
   },
   "source": [
    "####Train Test Split"
   ]
  },
  {
   "cell_type": "code",
   "execution_count": 20,
   "metadata": {
    "ExecuteTime": {
     "end_time": "2019-11-21T07:55:06.874948Z",
     "start_time": "2019-11-21T07:55:06.849790Z"
    },
    "colab": {
     "base_uri": "https://localhost:8080/",
     "height": 0
    },
    "colab_type": "code",
    "executionInfo": {
     "elapsed": 716,
     "status": "ok",
     "timestamp": 1575432289325,
     "user": {
      "displayName": "Tyn Long Tay",
      "photoUrl": "",
      "userId": "05995455900473544360"
     },
     "user_tz": -480
    },
    "id": "Le0mutuf94ic",
    "outputId": "b7dc5102-8d33-40b6-a672-63e7a49f8730"
   },
   "outputs": [
    {
     "name": "stdout",
     "output_type": "stream",
     "text": [
      "(1104, 5000) (1104,)\n",
      "(276, 5000) (276,)\n"
     ]
    }
   ],
   "source": [
    "\n",
    "X_train, X_test, Y_train, Y_test = train_test_split(X,Y, test_size = 0.20, random_state = 23,stratify=Y)\n",
    "Y_train_d=pd.get_dummies(Y_train)\n",
    "Y_test_d=pd.get_dummies(Y_test)\n",
    "print(X_train.shape,Y_train.shape)\n",
    "print(X_test.shape,Y_test.shape)"
   ]
  },
  {
   "cell_type": "markdown",
   "metadata": {
    "colab_type": "text",
    "id": "VWXDlFv3gLRB"
   },
   "source": [
    "### LSTM Model"
   ]
  },
  {
   "cell_type": "code",
   "execution_count": 0,
   "metadata": {
    "ExecuteTime": {
     "end_time": "2019-11-21T07:56:00.886877Z",
     "start_time": "2019-11-21T07:55:08.166215Z"
    },
    "colab": {},
    "colab_type": "code",
    "id": "MdYSYvtf94iu"
   },
   "outputs": [],
   "source": [
    "model = Sequential()\n",
    "model.add(Embedding(MAX_NB_WORDS, EMBEDDING_DIM, input_length=X.shape[1]))\n",
    "model.add(SpatialDropout1D(0.2))\n",
    "model.add(LSTM(8, dropout=0.2, recurrent_dropout=0.2))\n",
    "model.add(Dense(1, activation='sigmoid'))\n",
    "\n",
    "model.compile(loss='binary_crossentropy', optimizer='adam', metrics=['accuracy'])\n",
    "\n",
    "class_weight = counter_weight\n",
    "\n",
    "\n"
   ]
  },
  {
   "cell_type": "code",
   "execution_count": 0,
   "metadata": {
    "colab": {},
    "colab_type": "code",
    "id": "aov-eBMUsT6w"
   },
   "outputs": [],
   "source": [
    "learner = ktrain.get_learner(model,train_data=(X_train, Y_train.values), val_data=(X_test, Y_test.values), batch_size=128,)"
   ]
  },
  {
   "cell_type": "code",
   "execution_count": 83,
   "metadata": {
    "colab": {
     "base_uri": "https://localhost:8080/",
     "height": 358
    },
    "colab_type": "code",
    "executionInfo": {
     "elapsed": 753189,
     "status": "ok",
     "timestamp": 1575394294146,
     "user": {
      "displayName": "Tyn Long Tay",
      "photoUrl": "",
      "userId": "05995455900473544360"
     },
     "user_tz": -480
    },
    "id": "hFJt89rrqWzA",
    "outputId": "e97838a9-5454-47f8-d176-f99a2c275ce5"
   },
   "outputs": [
    {
     "name": "stdout",
     "output_type": "stream",
     "text": [
      "\n",
      "\n",
      "begin training using triangular learning rate policy with max lr of 0.005...\n",
      "Train on 1104 samples, validate on 276 samples\n",
      "Epoch 1/20\n",
      "1104/1104 [==============================] - 108s 97ms/step - loss: 1.0807 - acc: 0.4475 - val_loss: 0.6671 - val_acc: 0.6486\n",
      "Epoch 2/20\n",
      "1104/1104 [==============================] - 107s 97ms/step - loss: 0.9592 - acc: 0.8034 - val_loss: 0.5825 - val_acc: 0.7464\n",
      "Epoch 3/20\n",
      "1104/1104 [==============================] - 108s 98ms/step - loss: 0.7343 - acc: 0.8596 - val_loss: 0.5311 - val_acc: 0.7210\n",
      "Epoch 4/20\n",
      "1104/1104 [==============================] - 107s 97ms/step - loss: 0.5102 - acc: 0.8995 - val_loss: 0.5211 - val_acc: 0.7065\n",
      "Epoch 5/20\n",
      "1104/1104 [==============================] - 108s 97ms/step - loss: 0.3579 - acc: 0.9230 - val_loss: 0.4397 - val_acc: 0.8007\n",
      "Epoch 6/20\n",
      "1104/1104 [==============================] - 107s 97ms/step - loss: 0.3327 - acc: 0.9411 - val_loss: 0.5129 - val_acc: 0.7319\n",
      "Epoch 7/20\n",
      "1104/1104 [==============================] - 107s 97ms/step - loss: 0.2702 - acc: 0.9321 - val_loss: 0.6119 - val_acc: 0.6957\n",
      "Restoring model weights from the end of the best epoch\n",
      "Epoch 00007: early stopping\n",
      "Weights from best epoch have been loaded into model.\n"
     ]
    }
   ],
   "source": [
    "history=learner.autofit(0.005,20,early_stopping=2,monitor='val_loss',checkpoint_folder='../Deeplearning Models/LSTM',class_weight=counter_weight)"
   ]
  },
  {
   "cell_type": "code",
   "execution_count": 84,
   "metadata": {
    "colab": {
     "base_uri": "https://localhost:8080/",
     "height": 281
    },
    "colab_type": "code",
    "executionInfo": {
     "elapsed": 752124,
     "status": "ok",
     "timestamp": 1575394294152,
     "user": {
      "displayName": "Tyn Long Tay",
      "photoUrl": "",
      "userId": "05995455900473544360"
     },
     "user_tz": -480
    },
    "id": "WgLipJBV3D25",
    "outputId": "362075c6-6545-4c24-a1c1-e29097e8fed9"
   },
   "outputs": [
    {
     "data": {
      "text/plain": [
       "<matplotlib.legend.Legend at 0x7f05d4c71470>"
      ]
     },
     "execution_count": 84,
     "metadata": {
      "tags": []
     },
     "output_type": "execute_result"
    },
    {
     "data": {
      "image/png": "[encoded data removed]",
      "text/plain": [
       "<Figure size 432x288 with 1 Axes>"
      ]
     },
     "metadata": {
      "tags": []
     },
     "output_type": "display_data"
    }
   ],
   "source": [
    "trainingloss=history.history['loss']\n",
    "testloss=history.history['val_loss']\n",
    "plt.plot(trainingloss,label='Training Loss')\n",
    "plt.plot(testloss,label=\"Validation Loss\")\n",
    "plt.legend()"
   ]
  },
  {
   "cell_type": "code",
   "execution_count": 0,
   "metadata": {
    "colab": {},
    "colab_type": "code",
    "id": "0GDukN4fgUyG"
   },
   "outputs": [],
   "source": [
    "model.load_weights(\"../Deeplearning Models/LSTM/weights-05.hdf5\")"
   ]
  },
  {
   "cell_type": "markdown",
   "metadata": {
    "colab_type": "text",
    "id": "zDC2I_btsjkb"
   },
   "source": [
    "### Validation Results"
   ]
  },
  {
   "cell_type": "code",
   "execution_count": 0,
   "metadata": {
    "colab": {},
    "colab_type": "code",
    "id": "j8b-8BQNVJTw"
   },
   "outputs": [],
   "source": [
    "LSTM_pred_prob=model.predict(X_test)"
   ]
  },
  {
   "cell_type": "code",
   "execution_count": 0,
   "metadata": {
    "colab": {},
    "colab_type": "code",
    "id": "q9POV8KT7QXJ"
   },
   "outputs": [],
   "source": [
    "LSTM_predictions=model.predict_classes(X_test)"
   ]
  },
  {
   "cell_type": "code",
   "execution_count": 28,
   "metadata": {
    "colab": {
     "base_uri": "https://localhost:8080/",
     "height": 186
    },
    "colab_type": "code",
    "executionInfo": {
     "elapsed": 754,
     "status": "ok",
     "timestamp": 1575432502468,
     "user": {
      "displayName": "Tyn Long Tay",
      "photoUrl": "",
      "userId": "05995455900473544360"
     },
     "user_tz": -480
    },
    "id": "WXmd3lzlUfBp",
    "outputId": "0af6dde8-6415-4201-ca94-bc8d269c7d99"
   },
   "outputs": [
    {
     "name": "stdout",
     "output_type": "stream",
     "text": [
      "Int64Index([0, 1], dtype='int64')\n"
     ]
    },
    {
     "data": {
      "text/html": [
       "<div>\n",
       "<style scoped>\n",
       "    .dataframe tbody tr th:only-of-type {\n",
       "        vertical-align: middle;\n",
       "    }\n",
       "\n",
       "    .dataframe tbody tr th {\n",
       "        vertical-align: top;\n",
       "    }\n",
       "\n",
       "    .dataframe thead th {\n",
       "        text-align: right;\n",
       "    }\n",
       "</style>\n",
       "<table border=\"1\" class=\"dataframe\">\n",
       "  <thead>\n",
       "    <tr style=\"text-align: right;\">\n",
       "      <th></th>\n",
       "      <th>Predicted 0</th>\n",
       "      <th>Predicted 1</th>\n",
       "    </tr>\n",
       "    <tr>\n",
       "      <th>index</th>\n",
       "      <th></th>\n",
       "      <th></th>\n",
       "    </tr>\n",
       "  </thead>\n",
       "  <tbody>\n",
       "    <tr>\n",
       "      <th>Real 0</th>\n",
       "      <td>192</td>\n",
       "      <td>26</td>\n",
       "    </tr>\n",
       "    <tr>\n",
       "      <th>Real 1</th>\n",
       "      <td>29</td>\n",
       "      <td>29</td>\n",
       "    </tr>\n",
       "  </tbody>\n",
       "</table>\n",
       "</div>"
      ],
      "text/plain": [
       "        Predicted 0  Predicted 1\n",
       "index                           \n",
       "Real 0          192           26\n",
       "Real 1           29           29"
      ]
     },
     "metadata": {
      "tags": []
     },
     "output_type": "display_data"
    },
    {
     "name": "stdout",
     "output_type": "stream",
     "text": [
      "{'accuracy': 0.8007246376811594, 'f': 0.5132743362831858, 'precision': 0.5272727272727272, 'recall': 0.5, 'fprate': 0.11926605504587151, 'tprate': 0.5}\n"
     ]
    }
   ],
   "source": [
    "LSTM_pred_df=assess_model(LSTM_pred_prob,Y_test,0.5)"
   ]
  },
  {
   "cell_type": "code",
   "execution_count": 29,
   "metadata": {
    "colab": {
     "base_uri": "https://localhost:8080/",
     "height": 472
    },
    "colab_type": "code",
    "executionInfo": {
     "elapsed": 1198,
     "status": "ok",
     "timestamp": 1575432505074,
     "user": {
      "displayName": "Tyn Long Tay",
      "photoUrl": "",
      "userId": "05995455900473544360"
     },
     "user_tz": -480
    },
    "id": "VENCGoQowj4E",
    "outputId": "77a0eae3-f4b8-4e35-fe38-da65d318f255"
   },
   "outputs": [
    {
     "data": {
      "image/png": "[encoded data removed]",
      "text/plain": [
       "<Figure size 720x504 with 1 Axes>"
      ]
     },
     "metadata": {
      "tags": []
     },
     "output_type": "display_data"
    }
   ],
   "source": [
    "plotprob(LSTM_pred_df)"
   ]
  },
  {
   "cell_type": "code",
   "execution_count": 30,
   "metadata": {
    "colab": {
     "base_uri": "https://localhost:8080/",
     "height": 472
    },
    "colab_type": "code",
    "executionInfo": {
     "elapsed": 2231,
     "status": "ok",
     "timestamp": 1575432506293,
     "user": {
      "displayName": "Tyn Long Tay",
      "photoUrl": "",
      "userId": "05995455900473544360"
     },
     "user_tz": -480
    },
    "id": "eD3PggNfwlcK",
    "outputId": "d3552136-a5b9-4a2d-d5c9-608a4e2291bb"
   },
   "outputs": [
    {
     "data": {
      "image/png": "[encoded data removed]",
      "text/plain": [
       "<Figure size 720x504 with 1 Axes>"
      ]
     },
     "metadata": {
      "tags": []
     },
     "output_type": "display_data"
    }
   ],
   "source": [
    "rocauccurve(LSTM_pred_df)"
   ]
  },
  {
   "cell_type": "markdown",
   "metadata": {
    "colab_type": "text",
    "id": "CoFkXQv3mftj"
   },
   "source": [
    "### Bidirectional LSTM"
   ]
  },
  {
   "cell_type": "code",
   "execution_count": 0,
   "metadata": {
    "colab": {},
    "colab_type": "code",
    "id": "DsuhJPUg19LQ"
   },
   "outputs": [],
   "source": [
    "modelbi = Sequential()\n",
    "modelbi.add(Embedding(MAX_NB_WORDS, EMBEDDING_DIM, input_length=X.shape[1]))\n",
    "modelbi.add(SpatialDropout1D(0.2))\n",
    "modelbi.add(Bidirectional(LSTM(8, dropout=0.2, recurrent_dropout=0.2)))\n",
    "modelbi.add(Dense(1, activation='sigmoid'))\n",
    "\n",
    "modelbi.compile(loss='binary_crossentropy', optimizer='adam', metrics=['accuracy'])\n",
    "\n",
    "\n",
    "\n"
   ]
  },
  {
   "cell_type": "code",
   "execution_count": 112,
   "metadata": {
    "colab": {
     "base_uri": "https://localhost:8080/",
     "height": 326
    },
    "colab_type": "code",
    "executionInfo": {
     "elapsed": 1333381,
     "status": "ok",
     "timestamp": 1575397710443,
     "user": {
      "displayName": "Tyn Long Tay",
      "photoUrl": "",
      "userId": "05995455900473544360"
     },
     "user_tz": -480
    },
    "id": "BNlwHuMTLJh0",
    "outputId": "63f4d94f-3f5e-4497-aae4-352326cf4ec3"
   },
   "outputs": [
    {
     "name": "stdout",
     "output_type": "stream",
     "text": [
      "\n",
      "\n",
      "begin training using triangular learning rate policy with max lr of 0.005...\n",
      "Train on 1104 samples, validate on 276 samples\n",
      "Epoch 1/20\n",
      "1104/1104 [==============================] - 222s 201ms/step - loss: 1.0880 - acc: 0.5924 - val_loss: 0.6561 - val_acc: 0.7355\n",
      "Epoch 2/20\n",
      "1104/1104 [==============================] - 219s 198ms/step - loss: 0.9567 - acc: 0.8188 - val_loss: 0.5682 - val_acc: 0.7029\n",
      "Epoch 3/20\n",
      "1104/1104 [==============================] - 218s 197ms/step - loss: 0.6768 - acc: 0.8487 - val_loss: 0.5420 - val_acc: 0.7101\n",
      "Epoch 4/20\n",
      "1104/1104 [==============================] - 220s 199ms/step - loss: 0.4780 - acc: 0.8931 - val_loss: 0.4655 - val_acc: 0.7935\n",
      "Epoch 5/20\n",
      "1104/1104 [==============================] - 222s 201ms/step - loss: 0.3682 - acc: 0.9239 - val_loss: 0.5440 - val_acc: 0.7391\n",
      "Epoch 6/20\n",
      "1104/1104 [==============================] - 221s 200ms/step - loss: 0.2575 - acc: 0.9357 - val_loss: 0.5350 - val_acc: 0.7536\n",
      "Restoring model weights from the end of the best epoch\n",
      "Epoch 00006: early stopping\n",
      "Weights from best epoch have been loaded into model.\n"
     ]
    }
   ],
   "source": [
    "learner = ktrain.get_learner(modelbi,train_data=(X_train, Y_train.values), val_data=(X_test, Y_test.values), batch_size=128,)\n",
    "\n",
    "historybi=learner.autofit(0.005,20,early_stopping=2,monitor='val_loss',checkpoint_folder='../Deeplearning Models/BiLSTM',class_weight=counter_weight)"
   ]
  },
  {
   "cell_type": "code",
   "execution_count": 1,
   "metadata": {
    "colab": {
     "base_uri": "https://localhost:8080/",
     "height": 0
    },
    "colab_type": "code",
    "executionInfo": {
     "elapsed": 744,
     "status": "error",
     "timestamp": 1575438273309,
     "user": {
      "displayName": "Tyn Long Tay",
      "photoUrl": "",
      "userId": "05995455900473544360"
     },
     "user_tz": -480
    },
    "id": "yRPjMsnUY3wX",
    "outputId": "ec46ad9d-c03d-4569-87a4-909a5e0ed0a4"
   },
   "outputs": [
    {
     "ename": "NameError",
     "evalue": "ignored",
     "output_type": "error",
     "traceback": [
      "\u001b[0;31m---------------------------------------------------------------------------\u001b[0m",
      "\u001b[0;31mNameError\u001b[0m                                 Traceback (most recent call last)",
      "\u001b[0;32m<ipython-input-1-9366382c3114>\u001b[0m in \u001b[0;36m<module>\u001b[0;34m()\u001b[0m\n\u001b[0;32m----> 1\u001b[0;31m \u001b[0mmodelbi\u001b[0m\u001b[0;34m.\u001b[0m\u001b[0mload_weights\u001b[0m\u001b[0;34m(\u001b[0m\u001b[0;34m\"/content/drive/My Drive/Capstone_DSI/Misinformation_detection/Deeplearning Models/BiLSTM/weights-04.hdf5\"\u001b[0m\u001b[0;34m)\u001b[0m\u001b[0;34m\u001b[0m\u001b[0;34m\u001b[0m\u001b[0m\n\u001b[0m",
      "\u001b[0;31mNameError\u001b[0m: name 'modelbi' is not defined"
     ]
    }
   ],
   "source": [
    "modelbi.load_weights(\"../Deeplearning Models/BiLSTM/weights-04.hdf5\")"
   ]
  },
  {
   "cell_type": "code",
   "execution_count": 0,
   "metadata": {
    "colab": {},
    "colab_type": "code",
    "id": "XMHELtkAY-H4"
   },
   "outputs": [],
   "source": [
    "validation_pred_prob=modelbi.predict(X_test)"
   ]
  },
  {
   "cell_type": "code",
   "execution_count": 0,
   "metadata": {
    "colab": {},
    "colab_type": "code",
    "id": "JLjmPjzkY-H9"
   },
   "outputs": [],
   "source": [
    "validation_predictions=modelbi.predict_classes(X_test)"
   ]
  },
  {
   "cell_type": "code",
   "execution_count": 35,
   "metadata": {
    "colab": {
     "base_uri": "https://localhost:8080/",
     "height": 186
    },
    "colab_type": "code",
    "executionInfo": {
     "elapsed": 114836,
     "status": "ok",
     "timestamp": 1575432633583,
     "user": {
      "displayName": "Tyn Long Tay",
      "photoUrl": "",
      "userId": "05995455900473544360"
     },
     "user_tz": -480
    },
    "id": "m1GzQuLYY-H_",
    "outputId": "f7bd5b90-0bfe-4e95-f22e-bb8b86374e00"
   },
   "outputs": [
    {
     "name": "stdout",
     "output_type": "stream",
     "text": [
      "Int64Index([0, 1], dtype='int64')\n"
     ]
    },
    {
     "data": {
      "text/html": [
       "<div>\n",
       "<style scoped>\n",
       "    .dataframe tbody tr th:only-of-type {\n",
       "        vertical-align: middle;\n",
       "    }\n",
       "\n",
       "    .dataframe tbody tr th {\n",
       "        vertical-align: top;\n",
       "    }\n",
       "\n",
       "    .dataframe thead th {\n",
       "        text-align: right;\n",
       "    }\n",
       "</style>\n",
       "<table border=\"1\" class=\"dataframe\">\n",
       "  <thead>\n",
       "    <tr style=\"text-align: right;\">\n",
       "      <th></th>\n",
       "      <th>Predicted 0</th>\n",
       "      <th>Predicted 1</th>\n",
       "    </tr>\n",
       "    <tr>\n",
       "      <th>index</th>\n",
       "      <th></th>\n",
       "      <th></th>\n",
       "    </tr>\n",
       "  </thead>\n",
       "  <tbody>\n",
       "    <tr>\n",
       "      <th>Real 0</th>\n",
       "      <td>190</td>\n",
       "      <td>28</td>\n",
       "    </tr>\n",
       "    <tr>\n",
       "      <th>Real 1</th>\n",
       "      <td>29</td>\n",
       "      <td>29</td>\n",
       "    </tr>\n",
       "  </tbody>\n",
       "</table>\n",
       "</div>"
      ],
      "text/plain": [
       "        Predicted 0  Predicted 1\n",
       "index                           \n",
       "Real 0          190           28\n",
       "Real 1           29           29"
      ]
     },
     "metadata": {
      "tags": []
     },
     "output_type": "display_data"
    },
    {
     "name": "stdout",
     "output_type": "stream",
     "text": [
      "{'accuracy': 0.7934782608695652, 'f': 0.5043478260869565, 'precision': 0.5087719298245614, 'recall': 0.5, 'fprate': 0.12844036697247707, 'tprate': 0.5}\n"
     ]
    }
   ],
   "source": [
    "valid_pred_df=assess_model(validation_pred_prob,Y_test,0.5)"
   ]
  },
  {
   "cell_type": "code",
   "execution_count": 36,
   "metadata": {
    "colab": {
     "base_uri": "https://localhost:8080/",
     "height": 472
    },
    "colab_type": "code",
    "executionInfo": {
     "elapsed": 114600,
     "status": "ok",
     "timestamp": 1575432633584,
     "user": {
      "displayName": "Tyn Long Tay",
      "photoUrl": "",
      "userId": "05995455900473544360"
     },
     "user_tz": -480
    },
    "id": "py1DBpLqY-ID",
    "outputId": "0136e515-1dac-47d7-822a-a30c844bdc8d"
   },
   "outputs": [
    {
     "data": {
      "image/png": "[encoded data removed]",
      "text/plain": [
       "<Figure size 720x504 with 1 Axes>"
      ]
     },
     "metadata": {
      "tags": []
     },
     "output_type": "display_data"
    }
   ],
   "source": [
    "plotprob(valid_pred_df)"
   ]
  },
  {
   "cell_type": "code",
   "execution_count": 37,
   "metadata": {
    "colab": {
     "base_uri": "https://localhost:8080/",
     "height": 472
    },
    "colab_type": "code",
    "executionInfo": {
     "elapsed": 115578,
     "status": "ok",
     "timestamp": 1575432634990,
     "user": {
      "displayName": "Tyn Long Tay",
      "photoUrl": "",
      "userId": "05995455900473544360"
     },
     "user_tz": -480
    },
    "id": "k-x8BfSKY-IG",
    "outputId": "4cf5a57c-c8b8-4957-96a7-6d96f93eca08"
   },
   "outputs": [
    {
     "data": {
      "image/png": "[encoded data removed]",
      "text/plain": [
       "<Figure size 720x504 with 1 Axes>"
      ]
     },
     "metadata": {
      "tags": []
     },
     "output_type": "display_data"
    }
   ],
   "source": [
    "rocauccurve(valid_pred_df)"
   ]
  },
  {
   "cell_type": "code",
   "execution_count": 0,
   "metadata": {
    "colab": {},
    "colab_type": "code",
    "id": "wAoze3XhvzIF"
   },
   "outputs": [],
   "source": [
    "0.82"
   ]
  }
 ],
 "metadata": {
  "accelerator": "GPU",
  "colab": {
   "collapsed_sections": [],
   "machine_shape": "hm",
   "name": "LSTM/BiDLSTM.ipynb",
   "provenance": [
    {
     "file_id": "1ONLkT8RBhDODwojqehADmNUM48VBBSkk",
     "timestamp": 1574927473544
    }
   ],
   "toc_visible": true
  },
  "kernelspec": {
   "display_name": "Python 3",
   "language": "python",
   "name": "python3"
  },
  "language_info": {
   "codemirror_mode": {
    "name": "ipython",
    "version": 3
   },
   "file_extension": ".py",
   "mimetype": "text/x-python",
   "name": "python",
   "nbconvert_exporter": "python",
   "pygments_lexer": "ipython3",
   "version": "3.7.3"
  },
  "toc": {
   "base_numbering": 1,
   "nav_menu": {},
   "number_sections": true,
   "sideBar": true,
   "skip_h1_title": false,
   "title_cell": "Table of Contents",
   "title_sidebar": "Contents",
   "toc_cell": false,
   "toc_position": {},
   "toc_section_display": true,
   "toc_window_display": true
  }
 },
 "nbformat": 4,
 "nbformat_minor": 1
}
