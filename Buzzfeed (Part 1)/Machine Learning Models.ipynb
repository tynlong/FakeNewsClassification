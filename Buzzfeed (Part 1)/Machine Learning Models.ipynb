{
 "cells": [
  {
   "cell_type": "code",
   "execution_count": 41,
   "metadata": {
    "ExecuteTime": {
     "end_time": "2019-12-04T17:32:50.797079Z",
     "start_time": "2019-12-04T17:32:50.776366Z"
    },
    "colab": {
     "base_uri": "https://localhost:8080/",
     "height": 72
    },
    "colab_type": "code",
    "id": "Ck1L8hN5Oex0",
    "outputId": "77d12e15-138c-4574-996b-5e319b0ccd93"
   },
   "outputs": [],
   "source": [
    "import pandas as pd\n",
    "import numpy as np\n",
    "import seaborn as sns\n",
    "import matplotlib.pyplot as plt\n",
    "from datetime import datetime\n",
    "# To allow interactive plot.\n",
    "from ipywidgets import *\n",
    "from IPython.display import display\n",
    "from datetime import datetime, timedelta\n",
    "import requests\n",
    "import json\n",
    "from time import sleep\n",
    "import string\n",
    "\n",
    "#import wordcloud\n",
    "\n",
    "from wordcloud import WordCloud, STOPWORDS, ImageColorGenerator\n",
    "\n",
    "#import pipeline, machine learning models, metrics and preprocessing\n",
    "from sklearn.pipeline import Pipeline\n",
    "from sklearn.naive_bayes import MultinomialNB\n",
    "from sklearn.ensemble import BaggingClassifier, GradientBoostingClassifier, AdaBoostClassifier, VotingClassifier\n",
    "from sklearn.model_selection import train_test_split,cross_val_score,GridSearchCV,StratifiedKFold\n",
    "from sklearn.preprocessing import StandardScaler,PolynomialFeatures\n",
    "from sklearn.linear_model import LogisticRegression,LogisticRegressionCV\n",
    "from sklearn.ensemble import RandomForestClassifier\n",
    "from sklearn.metrics import f1_score,accuracy_score,recall_score,confusion_matrix,roc_auc_score,precision_score\n",
    "from sklearn.metrics.scorer import make_scorer\n",
    "from imblearn.pipeline import make_pipeline,Pipeline\n",
    "from imblearn.over_sampling import ADASYN, SMOTE, RandomOverSampler\n",
    "\n",
    "#import feature extraction from nltk and sklearn\n",
    "from nltk.corpus import stopwords # Import the stop word list\n",
    "from sklearn.feature_extraction.text import CountVectorizer, TfidfVectorizer\n",
    "from nltk.tokenize import RegexpTokenizer\n",
    "from nltk.stem import PorterStemmer, WordNetLemmatizer\n",
    "from nltk.tokenize import RegexpTokenizer\n",
    "from scipy.sparse import hstack,csr_matrix\n",
    "\n",
    "from spacy.lemmatizer import Lemmatizer\n",
    "import en_core_web_sm\n",
    "from spacy import vocab\n",
    "import scipy.stats\n"
   ]
  },
  {
   "cell_type": "markdown",
   "metadata": {
    "colab_type": "text",
    "id": "64RGbPmsOex7"
   },
   "source": [
    "## Data Problem Statement\n",
    "\n",
    "   **FAKE NEWS is a problem:**\n",
    "   In the era of Social Media where news spread is just one click away, fake news spreads quicker and further than ever, creating division and misleading news-readers into wrong conclusions and decisions. \n",
    "   Even more insidiously, the fake news problems causes an inability in more canny readers to trust mainstream media: eroding even further at the foundations of democracies.\n",
    "   \n",
    "   Unfortunately, the haystack in which fake news hides is massive: everyday, more than 3,200,000 news articles are published online. Against this tide, a small but growing number of fact-checking organisations attempt to combat the misinformation; Reporters Lab has the number at 226.  \n",
    "   \n",
    "   Motivation shown, we move on to the meat of this data-science project: creating a fake news detector to assist a hypothetical fact-checking organisation. \n",
    "   \n",
    "   In this project we use a labeled datasets to attempt fake news detection.\n",
    "\n",
    "**Dataset 1: MisInfoText, Buzzfeed Dataset (2019)**\n",
    "    Fatemeh Torabi Asr and Maite Taboada (2019) MisInfoText. A collection of news articles, with false and true labels. Dataset.\n",
    "    \n",
    "The news for this source was first taken from various Facebook groups by three Buzzfeed reporters, and were labeled with 4 classes:\n",
    "    \n",
    "        -Mostly True\n",
    "        -Mixture of True and False\n",
    "        -Mostly False\n",
    "        -No Factual Content\n",
    "    \n",
    "The authors of this dataset then followed the URLs in the first dataset, and scraped the full text of each news article from its original source. The resulting dataset includes a total of 1380 news articles on a focused topic (US election and candidates). Veracity labels come in a four-way classification scheme including 1090 mostly true, 170 mixture of true and false, 64 mostly false and 56 articles containing no factual content.\n",
    "\n",
    "| Type | Count |\n",
    "| ------------- |:-------------:|\n",
    "| **Mostly True** | 1090| \n",
    "| **Mixture of True and False** |  170 | \n",
    "| **Mostly False** |  64| \n",
    "| **No Factual Content** |  56 | \n",
    "    "
   ]
  },
  {
   "cell_type": "markdown",
   "metadata": {
    "colab_type": "text",
    "id": "aU-wdATd5W-d"
   },
   "source": [
    "### Read CSVs"
   ]
  },
  {
   "cell_type": "code",
   "execution_count": 42,
   "metadata": {
    "ExecuteTime": {
     "end_time": "2019-12-04T17:32:52.700559Z",
     "start_time": "2019-12-04T17:32:52.428266Z"
    },
    "colab": {},
    "colab_type": "code",
    "id": "Lg0zN3f-5W-s"
   },
   "outputs": [],
   "source": [
    "buzzfeed=pd.read_csv('Cleaned CSV/buzzfeedclean.csv')"
   ]
  },
  {
   "cell_type": "code",
   "execution_count": 43,
   "metadata": {
    "ExecuteTime": {
     "end_time": "2019-12-04T17:32:52.799169Z",
     "start_time": "2019-12-04T17:32:52.769696Z"
    },
    "colab": {
     "base_uri": "https://localhost:8080/",
     "height": 156
    },
    "colab_type": "code",
    "id": "ejVpdY2vrgju",
    "outputId": "67cac6c1-ac76-4563-cb9f-44fca68411cb"
   },
   "outputs": [
    {
     "data": {
      "text/plain": [
       "id             0\n",
       "url            0\n",
       "rating         0\n",
       "text           0\n",
       "domain         0\n",
       "source         0\n",
       "lower text     0\n",
       "target         0\n",
       "nltklemma      0\n",
       "spacylemma     0\n",
       "spacylemma2    0\n",
       "spacy_pos      0\n",
       "spacy_pos2     0\n",
       "dtype: int64"
      ]
     },
     "execution_count": 43,
     "metadata": {},
     "output_type": "execute_result"
    }
   ],
   "source": [
    "buzzfeed.isnull().sum()"
   ]
  },
  {
   "cell_type": "code",
   "execution_count": 44,
   "metadata": {
    "ExecuteTime": {
     "end_time": "2019-12-04T17:32:53.017899Z",
     "start_time": "2019-12-04T17:32:53.006833Z"
    }
   },
   "outputs": [],
   "source": [
    "df=buzzfeed[['rating', 'text', 'target', 'nltklemma', 'spacylemma2', 'spacylemma',\n",
    "       'spacy_pos', 'spacy_pos2']]"
   ]
  },
  {
   "cell_type": "markdown",
   "metadata": {
    "colab_type": "text",
    "id": "_g29VZO3Oezl"
   },
   "source": [
    "## Gridsearch for best parameters"
   ]
  },
  {
   "cell_type": "markdown",
   "metadata": {
    "ExecuteTime": {
     "end_time": "2019-11-28T07:54:56.822932Z",
     "start_time": "2019-11-28T07:54:45.114Z"
    },
    "colab": {},
    "colab_type": "code",
    "id": "HdmjrCvAOezm"
   },
   "source": [
    "As stated in the Data Problem, we want to create a detector for fake news, so our positive class will be fake news.\n",
    "We will grid search over the following space to discover the best machine learning model.\n",
    "\n",
    "|Pipeline section|Search Space|Hyper Parameters|  \n",
    "|--|--|--|  \n",
    "Preprocessing|NLTK, Spacy, POS, PNscrub|-|  \n",
    "|Oversampler|SMOTE, Simple Oversampling|-|\n",
    "|Vectorizer|CVEC, TFIDF|ngrams,max_features|\n",
    "|Classifier|Logistic Regression,Naive Bayes,Random Forests|C,-,max_depth,max_features|\n"
   ]
  },
  {
   "cell_type": "markdown",
   "metadata": {
    "ExecuteTime": {
     "end_time": "2019-11-18T06:25:19.336812Z",
     "start_time": "2019-11-18T06:25:19.331133Z"
    },
    "colab_type": "text",
    "id": "Il8CdnhNOezp"
   },
   "source": [
    "### Pipeline function to iterate over different lemmatizers, vectorizers, classifiers and parameters, and save the results to a csv. Optimizing to f1 score"
   ]
  },
  {
   "cell_type": "code",
   "execution_count": 5,
   "metadata": {
    "ExecuteTime": {
     "end_time": "2019-12-03T18:20:30.980957Z",
     "start_time": "2019-12-03T18:20:30.957389Z"
    },
    "colab": {},
    "colab_type": "code",
    "id": "fmwxVkNVOezq"
   },
   "outputs": [],
   "source": [
    "def SupraPipeline(Lemmatizer,Vectorizerlist,ClassifierList,Dfnames,pipe_params,methodgridname,scorer):\n",
    "    Methodgrid=[]\n",
    "    metnum=len(Lemmatizer)*len(Vectorizerlist)*len(Classifierlist)\n",
    "    n=0\n",
    "    for index,column in enumerate(Lemmatizer):\n",
    "        X=df[column]\n",
    "        y=df['target']\n",
    "        X_train,X_test,y_train,y_test=train_test_split(X,y,stratify=y,random_state=23)\n",
    "        \n",
    "\n",
    "        for Vectorizer in Vectorizerlist:\n",
    "            for Classifier in ClassifierList:\n",
    "                n+=1\n",
    "                print(f'{n} of {metnum} of methods attempting')\n",
    "                method={}\n",
    "                pipe = Pipeline([\n",
    "                    ('vec', Vectorizer ),\n",
    "                    ('smote', SMOTE(random_state=77)),\n",
    "                    ('class', Classifier)\n",
    "                ])\n",
    "\n",
    "                gs = GridSearchCV(pipe, param_grid=pipe_params, cv=5,verbose=1,n_jobs=-1,scoring=scorer)\n",
    "                gs.fit(X_train, y_train)\n",
    "                predictions=gs.predict(X_test)\n",
    "                pred_prob=gs.predict_proba(X_test)[:,1]\n",
    "                \n",
    "                \n",
    "                \n",
    "                \n",
    "                method=(gs.best_params_)\n",
    "                method['Vectorizer']=str(Vectorizer).split('(')[0]\n",
    "                method['Lemmatizer']=str(Dfnames[index])\n",
    "                method['Classifier']=str(Classifier).split('(')[0]\n",
    "               \n",
    "                method['ROC-AUC score']=round(roc_auc_score(y_test, pred_prob),3)\n",
    "                \n",
    "                method['Cross_Val_Score']=(gs.best_score_)\n",
    "                method['accuracy']=accuracy_score(predictions,y_test)\n",
    "                method['f1']=f1_score(predictions,y_test)\n",
    "                method['precision']=precision_score(predictions,y_test)\n",
    "                method['recall']=recall_score(predictions,y_test)\n",
    "                Methodgrid.append(method)\n",
    "                \n",
    "    Methodgrid=pd.DataFrame(Methodgrid)\n",
    "    Methodgrid.to_csv('GridSearch Output/'+methodgridname,index=False)\n",
    "    return Methodgrid"
   ]
  },
  {
   "cell_type": "markdown",
   "metadata": {
    "colab_type": "text",
    "id": "G-H2PKxse5TZ"
   },
   "source": [
    "### Assessment Functions"
   ]
  },
  {
   "cell_type": "code",
   "execution_count": 13,
   "metadata": {
    "ExecuteTime": {
     "end_time": "2019-12-04T15:11:23.150505Z",
     "start_time": "2019-12-04T15:11:23.143623Z"
    },
    "colab": {},
    "colab_type": "code",
    "id": "DXk2UlNTBsmL"
   },
   "outputs": [],
   "source": [
    "## Prints a Confusion Matrix with columns and indexes labeled correctly\n",
    "def printcm(pred_df):\n",
    "    \n",
    "    predictions=pred_df['predict']\n",
    "    ground_truth=pred_df['true_values']\n",
    "    columns=['Real','Fake']\n",
    "    predictions=pd.DataFrame(predictions)\n",
    "\n",
    "\n",
    "    \n",
    "    cm=pd.DataFrame(confusion_matrix(ground_truth,predictions),columns=[('Predicted '+str(x)) for x in columns])\n",
    "    cm['index']=cm['index']=[('Real '+str(x)) for x in columns]\n",
    "    cm.set_index('index',inplace=True)\n",
    "    display(cm)"
   ]
  },
  {
   "cell_type": "code",
   "execution_count": 14,
   "metadata": {
    "ExecuteTime": {
     "end_time": "2019-12-04T15:11:23.295459Z",
     "start_time": "2019-12-04T15:11:23.284778Z"
    },
    "colab": {},
    "colab_type": "code",
    "id": "co6WxnR2R0Tv"
   },
   "outputs": [],
   "source": [
    "#prints out the various metrics, confusion matrix, and returns the prediction dataframe for later visualization\n",
    "def assess_model(model,X_test,y,threshold):   \n",
    "\n",
    "    y_test=y\n",
    "    \n",
    "    pred_prob=model.predict_proba(X_test)[:,1]\n",
    "    pred_df=pd.DataFrame(pred_prob,columns=['pred_probs'])\n",
    "    pred_df['titles']=X_test.values\n",
    "    pred_df['true_values']=y_test.values\n",
    "    pred_df['predict']=pred_df['pred_probs']>threshold\n",
    "    pred_df['predict']=pred_df['predict'].astype(int)\n",
    "    predictions=pred_df['predict'].values\n",
    "    method={}\n",
    "    \n",
    "    method['accuracy']=accuracy_score(y_test,predictions)\n",
    "    method['f']=f1_score(y_test,predictions)\n",
    "    method['precision']=precision_score(y_test,predictions)\n",
    "    method['recall']=recall_score(y_test,predictions)\n",
    "    method['fprate']=FPR(pred_df,'true_values','pred_probs',threshold)\n",
    "    method['tprate']=TPR(pred_df,'true_values','pred_probs',threshold)\n",
    "    method['tprate/fprate']=method['tprate']/method['fprate']\n",
    "    \n",
    "    printcm(pred_df)\n",
    "    \n",
    "    print(method)\n",
    "    return pred_df"
   ]
  },
  {
   "cell_type": "code",
   "execution_count": 15,
   "metadata": {
    "ExecuteTime": {
     "end_time": "2019-12-04T15:11:23.478200Z",
     "start_time": "2019-12-04T15:11:23.460387Z"
    },
    "colab": {},
    "colab_type": "code",
    "id": "pKl0T09LVOMV"
   },
   "outputs": [],
   "source": [
    "## returns precision and recall at a particular threshold\n",
    "def custom_pr(true_col,pred_prob_col,threshold,beta=1):\n",
    "    fbeta=0\n",
    "    df=pd.DataFrame()\n",
    "    df['true_col']=true_col\n",
    "    df['pred_prob_col']=pred_prob_col\n",
    "\n",
    "    TN = df[(df['true_col'] == 0) & (df['pred_prob_col'] <= threshold)].shape[0]\n",
    "    FP = df[(df['true_col'] == 0) & (df['pred_prob_col'] > threshold)].shape[0]\n",
    "    TP = df[(df['true_col'] == 1) & (df['pred_prob_col'] >= threshold)].shape[0]\n",
    "    FN = df[(df['true_col'] == 1) & (df['pred_prob_col'] < threshold)].shape[0]\n",
    "    #print(TN,FP,TP,FN)\n",
    "    \n",
    "    \n",
    "    if TP==0:\n",
    "        precision=0\n",
    "        recall=0\n",
    "    else:\n",
    "        precision=TP/(TP+FP)\n",
    "        recall=TP/(TP+FN)\n",
    "        \n",
    "    if (precision==0 or recall==0):\n",
    "        fbeta=0\n",
    "    else:\n",
    "        fbeta=(1+beta**2) * (precision * recall) / ((beta**2)*precision + recall)\n",
    "    return [precision,recall]"
   ]
  },
  {
   "cell_type": "code",
   "execution_count": 16,
   "metadata": {
    "ExecuteTime": {
     "end_time": "2019-12-04T15:11:23.846803Z",
     "start_time": "2019-12-04T15:11:23.838742Z"
    },
    "colab": {},
    "colab_type": "code",
    "id": "AGd7sHjPXQQQ"
   },
   "outputs": [],
   "source": [
    "#sets recall to a certain threshold, then checks precision of that point.\n",
    "def set_recall(ground_truth, pred_proba,recall_threshold=0.95):\n",
    "    error,max_error=0,0\n",
    "    thresholds=np.linspace(1,0,2001)\n",
    "    \n",
    "    for prob in thresholds:\n",
    "        if custom_pr(ground_truth,pred_proba, prob)[1]>recall_threshold:#if the recall is above the set point, return precision\n",
    "            print(f'probability threshold is{prob}')\n",
    "            return custom_pr(ground_truth,pred_proba, prob)\n",
    "\n",
    "setrecallscore=make_scorer(set_recall,greater_is_better=True,needs_proba=True)"
   ]
  },
  {
   "cell_type": "code",
   "execution_count": 17,
   "metadata": {
    "ExecuteTime": {
     "end_time": "2019-12-04T15:11:24.040583Z",
     "start_time": "2019-12-04T15:11:24.021303Z"
    },
    "colab": {},
    "colab_type": "code",
    "id": "eNb53gXw9X8f"
   },
   "outputs": [],
   "source": [
    "# plots a probability distribution of the predictions\n",
    "def plotprob(pred_df):\n",
    "# Create figure.\n",
    "  plt.figure(figsize = (10,7))\n",
    "\n",
    "# Create two histograms of observations.\n",
    "  plt.hist(pred_df[pred_df['true_values'] == 0]['pred_probs'],\n",
    "          bins=25,\n",
    "          color='b',\n",
    "          alpha = 0.6,\n",
    "          label='Outcome = 0')\n",
    "  plt.hist(pred_df[pred_df['true_values'] == 1]['pred_probs'],\n",
    "          bins=25,\n",
    "          color='orange',\n",
    "          alpha = 0.6,\n",
    "          label='Outcome = 1')\n",
    "\n",
    "# Label axes.\n",
    "  plt.title('Distribution of P(Outcome = 1)', fontsize=22)\n",
    "  plt.ylabel('Frequency', fontsize=18)\n",
    "  plt.xlabel('Predicted Probability that Outcome = 1', fontsize=18)\n",
    "\n",
    "# Create legend.\n",
    "  plt.legend(fontsize=20);\n",
    "  pass"
   ]
  },
  {
   "cell_type": "code",
   "execution_count": 18,
   "metadata": {
    "ExecuteTime": {
     "end_time": "2019-12-04T15:11:24.245160Z",
     "start_time": "2019-12-04T15:11:24.224032Z"
    },
    "colab": {},
    "colab_type": "code",
    "id": "_EA60DpV9oTF"
   },
   "outputs": [],
   "source": [
    "# Define function to calculate sensitivity. (True positive rate.)\n",
    "def TPR(df, true_col, pred_prob_col, threshold):\n",
    "    true_positive = df[(df[true_col] == 1) & (df[pred_prob_col] >= threshold)].shape[0]\n",
    "    false_negative = df[(df[true_col] == 1) & (df[pred_prob_col] < threshold)].shape[0]\n",
    "    return true_positive / (true_positive + false_negative)\n",
    "    \n",
    "\n",
    "# Define function to calculate 1 - specificity. (False positive rate.)\n",
    "def FPR(df, true_col, pred_prob_col, threshold):\n",
    "    true_negative = df[(df[true_col] == 0) & (df[pred_prob_col] <= threshold)].shape[0]\n",
    "    false_positive = df[(df[true_col] == 0) & (df[pred_prob_col] > threshold)].shape[0]\n",
    "    return 1 - (true_negative / (true_negative + false_positive))\n",
    "\n",
    "#define function to calculate f1 score for a particular threshold\n",
    "def f1(df,true_col,pred_prob_col,threshold):\n",
    "    TN = df[(df[true_col] == 0) & (df[pred_prob_col] <= threshold)].shape[0]\n",
    "    FP = df[(df[true_col] == 0) & (df[pred_prob_col] > threshold)].shape[0]\n",
    "    TP = df[(df[true_col] == 1) & (df[pred_prob_col] >= threshold)].shape[0]\n",
    "    FN = df[(df[true_col] == 1) & (df[pred_prob_col] < threshold)].shape[0]\n",
    "    if TP==0:\n",
    "        precision=0\n",
    "    else:\n",
    "        precision=TP/(TP+FP)\n",
    "        \n",
    "    recall=TP/(TP+FN)\n",
    "    if (precision==0 or recall==0):\n",
    "        f1=0\n",
    "    else:\n",
    "        f1=2 * (precision * recall) / (precision + recall)\n",
    "    return f1"
   ]
  },
  {
   "cell_type": "code",
   "execution_count": 19,
   "metadata": {
    "ExecuteTime": {
     "end_time": "2019-12-04T15:11:24.419451Z",
     "start_time": "2019-12-04T15:11:24.412905Z"
    },
    "colab": {},
    "colab_type": "code",
    "id": "0T7UdyLw4x_W"
   },
   "outputs": [],
   "source": [
    "#finds the f1 max, and the threshold for a set of prediction probabilities\n",
    "def f1max(valid_pred_df):\n",
    "  thresholds=np.linspace(0,1,200)\n",
    "  f1pr_values = [f1(valid_pred_df, 'true_values', 'pred_probs', prob) for prob in thresholds]\n",
    "  #print('f1 max:',np.max(f1pr_values))\n",
    "  optimal_threshold=thresholds[f1pr_values.index(np.max(f1pr_values))]\n",
    "  #print('At threshold:',optimal_threshold)\n",
    "  return optimal_threshold"
   ]
  },
  {
   "cell_type": "code",
   "execution_count": 20,
   "metadata": {
    "ExecuteTime": {
     "end_time": "2019-12-04T15:11:24.735365Z",
     "start_time": "2019-12-04T15:11:24.722896Z"
    },
    "colab": {},
    "colab_type": "code",
    "id": "IqrIGLnN9_nA"
   },
   "outputs": [],
   "source": [
    "#plots the receiver operating curve\n",
    "def rocauccurve(pred_df):\n",
    "  # Create figure.\n",
    "  plt.figure(figsize = (10,7))\n",
    "  # Create threshold values. (Dashed red line in image.)\n",
    "  thresholds = np.linspace(0, 1, 200)\n",
    "  # Calculate sensitivity & 1-specificity for each threshold between 0 and 1.\n",
    "  tpr_values = [TPR(pred_df, 'true_values', 'pred_probs', prob) for prob in thresholds]\n",
    "  fpr_values = [FPR(pred_df, 'true_values', 'pred_probs', prob) for prob in thresholds]\n",
    "\n",
    "  # Plot ROC curve.\n",
    "  plt.plot(fpr_values, # False Positive Rate on X-axis\n",
    "          tpr_values,\n",
    "          label='ROC Curve')\n",
    "  # Plot ROC curve.\n",
    "  plt.plot(thresholds, # False Positive Rate on X-axis\n",
    "          thresholds,\n",
    "          label='ROC Curve')\n",
    "  # Label axes.\n",
    "  plt.title(f'ROC Curve with AUC = {round(roc_auc_score(pred_df[\"true_values\"], pred_df[\"pred_probs\"]),3)}', fontsize=22)\n",
    "  plt.ylabel('Sensitivity', fontsize=18)\n",
    "  plt.xlabel('1 - Specificity', fontsize=18)\n",
    "\n",
    "  # Create legend.\n",
    "  plt.legend(fontsize=16);"
   ]
  },
  {
   "cell_type": "markdown",
   "metadata": {
    "ExecuteTime": {
     "end_time": "2019-11-18T06:27:22.708224Z",
     "start_time": "2019-11-18T06:27:22.700971Z"
    },
    "colab_type": "text",
    "id": "elaEA47POe0J"
   },
   "source": [
    "### Logistic Regression"
   ]
  },
  {
   "cell_type": "code",
   "execution_count": 14,
   "metadata": {
    "ExecuteTime": {
     "end_time": "2019-12-03T18:51:11.610561Z",
     "start_time": "2019-12-03T18:20:31.268191Z"
    },
    "colab": {
     "base_uri": "https://localhost:8080/",
     "height": 1000
    },
    "colab_type": "code",
    "id": "nnX6ZOPHOe0L",
    "outputId": "4007a90f-9683-435d-d7a5-b6919299c25a",
    "scrolled": true
   },
   "outputs": [
    {
     "name": "stdout",
     "output_type": "stream",
     "text": [
      "1 of 6 of methods attempting\n",
      "Fitting 5 folds for each of 60 candidates, totalling 300 fits\n"
     ]
    },
    {
     "name": "stderr",
     "output_type": "stream",
     "text": [
      "[Parallel(n_jobs=-1)]: Using backend LokyBackend with 4 concurrent workers.\n",
      "[Parallel(n_jobs=-1)]: Done  42 tasks      | elapsed:   57.7s\n",
      "[Parallel(n_jobs=-1)]: Done 192 tasks      | elapsed:  4.6min\n",
      "[Parallel(n_jobs=-1)]: Done 300 out of 300 | elapsed:  6.6min finished\n",
      "/Users/apple/anaconda3/lib/python3.7/site-packages/sklearn/linear_model/logistic.py:432: FutureWarning: Default solver will be changed to 'lbfgs' in 0.22. Specify a solver to silence this warning.\n",
      "  FutureWarning)\n"
     ]
    },
    {
     "name": "stdout",
     "output_type": "stream",
     "text": [
      "2 of 6 of methods attempting\n",
      "Fitting 5 folds for each of 60 candidates, totalling 300 fits\n"
     ]
    },
    {
     "name": "stderr",
     "output_type": "stream",
     "text": [
      "[Parallel(n_jobs=-1)]: Using backend LokyBackend with 4 concurrent workers.\n",
      "[Parallel(n_jobs=-1)]: Done  42 tasks      | elapsed:   49.7s\n",
      "[Parallel(n_jobs=-1)]: Done 192 tasks      | elapsed:  3.8min\n",
      "[Parallel(n_jobs=-1)]: Done 300 out of 300 | elapsed:  5.9min finished\n",
      "/Users/apple/anaconda3/lib/python3.7/site-packages/sklearn/linear_model/logistic.py:432: FutureWarning: Default solver will be changed to 'lbfgs' in 0.22. Specify a solver to silence this warning.\n",
      "  FutureWarning)\n"
     ]
    },
    {
     "name": "stdout",
     "output_type": "stream",
     "text": [
      "3 of 6 of methods attempting\n",
      "Fitting 5 folds for each of 60 candidates, totalling 300 fits\n"
     ]
    },
    {
     "name": "stderr",
     "output_type": "stream",
     "text": [
      "[Parallel(n_jobs=-1)]: Using backend LokyBackend with 4 concurrent workers.\n",
      "[Parallel(n_jobs=-1)]: Done  42 tasks      | elapsed:   37.8s\n",
      "[Parallel(n_jobs=-1)]: Done 192 tasks      | elapsed:  2.9min\n",
      "[Parallel(n_jobs=-1)]: Done 300 out of 300 | elapsed:  4.6min finished\n",
      "/Users/apple/anaconda3/lib/python3.7/site-packages/sklearn/linear_model/logistic.py:432: FutureWarning: Default solver will be changed to 'lbfgs' in 0.22. Specify a solver to silence this warning.\n",
      "  FutureWarning)\n"
     ]
    },
    {
     "name": "stdout",
     "output_type": "stream",
     "text": [
      "4 of 6 of methods attempting\n",
      "Fitting 5 folds for each of 60 candidates, totalling 300 fits\n"
     ]
    },
    {
     "name": "stderr",
     "output_type": "stream",
     "text": [
      "[Parallel(n_jobs=-1)]: Using backend LokyBackend with 4 concurrent workers.\n",
      "[Parallel(n_jobs=-1)]: Done  42 tasks      | elapsed:   39.6s\n",
      "[Parallel(n_jobs=-1)]: Done 192 tasks      | elapsed:  3.1min\n",
      "[Parallel(n_jobs=-1)]: Done 300 out of 300 | elapsed:  4.8min finished\n",
      "/Users/apple/anaconda3/lib/python3.7/site-packages/sklearn/model_selection/_search.py:813: DeprecationWarning: The default of the `iid` parameter will change from True to False in version 0.22 and will be removed in 0.24. This will change numeric results when test-set sizes are unequal.\n",
      "  DeprecationWarning)\n",
      "/Users/apple/anaconda3/lib/python3.7/site-packages/sklearn/linear_model/logistic.py:432: FutureWarning: Default solver will be changed to 'lbfgs' in 0.22. Specify a solver to silence this warning.\n",
      "  FutureWarning)\n"
     ]
    },
    {
     "name": "stdout",
     "output_type": "stream",
     "text": [
      "5 of 6 of methods attempting\n",
      "Fitting 5 folds for each of 60 candidates, totalling 300 fits\n"
     ]
    },
    {
     "name": "stderr",
     "output_type": "stream",
     "text": [
      "[Parallel(n_jobs=-1)]: Using backend LokyBackend with 4 concurrent workers.\n",
      "[Parallel(n_jobs=-1)]: Done  42 tasks      | elapsed:   33.3s\n",
      "[Parallel(n_jobs=-1)]: Done 192 tasks      | elapsed:  2.6min\n",
      "[Parallel(n_jobs=-1)]: Done 300 out of 300 | elapsed:  4.1min finished\n",
      "/Users/apple/anaconda3/lib/python3.7/site-packages/sklearn/linear_model/logistic.py:432: FutureWarning: Default solver will be changed to 'lbfgs' in 0.22. Specify a solver to silence this warning.\n",
      "  FutureWarning)\n"
     ]
    },
    {
     "name": "stdout",
     "output_type": "stream",
     "text": [
      "6 of 6 of methods attempting\n",
      "Fitting 5 folds for each of 60 candidates, totalling 300 fits\n"
     ]
    },
    {
     "name": "stderr",
     "output_type": "stream",
     "text": [
      "[Parallel(n_jobs=-1)]: Using backend LokyBackend with 4 concurrent workers.\n",
      "[Parallel(n_jobs=-1)]: Done  42 tasks      | elapsed:   35.2s\n",
      "[Parallel(n_jobs=-1)]: Done 192 tasks      | elapsed:  2.7min\n",
      "[Parallel(n_jobs=-1)]: Done 300 out of 300 | elapsed:  4.3min finished\n",
      "/Users/apple/anaconda3/lib/python3.7/site-packages/sklearn/model_selection/_search.py:813: DeprecationWarning: The default of the `iid` parameter will change from True to False in version 0.22 and will be removed in 0.24. This will change numeric results when test-set sizes are unequal.\n",
      "  DeprecationWarning)\n",
      "/Users/apple/anaconda3/lib/python3.7/site-packages/sklearn/linear_model/logistic.py:432: FutureWarning: Default solver will be changed to 'lbfgs' in 0.22. Specify a solver to silence this warning.\n",
      "  FutureWarning)\n"
     ]
    }
   ],
   "source": [
    "stopwords=['trump','hillary','bush','donald','clinton']\n",
    "Vectorizerlist=[TfidfVectorizer(stop_words=stopwords),CountVectorizer(stop_words=stopwords)]\n",
    "Lemmatizer=['nltklemma','spacylemma','spacylemma2']\n",
    "Dfnames=['nltk','spacy','spacy2']\n",
    "Classifierlist=[LogisticRegression()]\n",
    "pipe_params = {\n",
    "                    'vec__max_features': [int(i) for i in np.linspace(10000,50000,5)],\n",
    "                    'vec__min_df': [2,3],\n",
    "                    'vec__max_df': [.95,.90],\n",
    "                    'vec__ngram_range': [(1,1),(1,2),(1,3)],\n",
    "                    'vec__stop_words':[None],\n",
    "    \n",
    "                }\n",
    "\n",
    "logreg=SupraPipeline(Lemmatizer,Vectorizerlist,Classifierlist,Dfnames,pipe_params,'logreg.csv','f1')"
   ]
  },
  {
   "cell_type": "code",
   "execution_count": 15,
   "metadata": {
    "ExecuteTime": {
     "end_time": "2019-12-03T18:51:11.631071Z",
     "start_time": "2019-12-03T18:51:11.620034Z"
    },
    "colab": {},
    "colab_type": "code",
    "id": "Zn0Gu69VOe0S"
   },
   "outputs": [],
   "source": [
    "logreg=pd.read_csv('GridSearch Output/logreg.csv')"
   ]
  },
  {
   "cell_type": "code",
   "execution_count": 16,
   "metadata": {
    "ExecuteTime": {
     "end_time": "2019-12-03T18:51:11.663543Z",
     "start_time": "2019-12-03T18:51:11.635662Z"
    },
    "colab": {
     "base_uri": "https://localhost:8080/",
     "height": 288
    },
    "colab_type": "code",
    "id": "NojRIqThOe0U",
    "outputId": "fbf3c78a-6aee-4e85-ba6b-dc7cecff7f31",
    "scrolled": false
   },
   "outputs": [
    {
     "data": {
      "text/html": [
       "<div>\n",
       "<style scoped>\n",
       "    .dataframe tbody tr th:only-of-type {\n",
       "        vertical-align: middle;\n",
       "    }\n",
       "\n",
       "    .dataframe tbody tr th {\n",
       "        vertical-align: top;\n",
       "    }\n",
       "\n",
       "    .dataframe thead th {\n",
       "        text-align: right;\n",
       "    }\n",
       "</style>\n",
       "<table border=\"1\" class=\"dataframe\">\n",
       "  <thead>\n",
       "    <tr style=\"text-align: right;\">\n",
       "      <th></th>\n",
       "      <th>vec__max_df</th>\n",
       "      <th>vec__max_features</th>\n",
       "      <th>vec__min_df</th>\n",
       "      <th>vec__ngram_range</th>\n",
       "      <th>vec__stop_words</th>\n",
       "      <th>Vectorizer</th>\n",
       "      <th>Lemmatizer</th>\n",
       "      <th>Classifier</th>\n",
       "      <th>ROC-AUC score</th>\n",
       "      <th>Cross_Val_Score</th>\n",
       "      <th>accuracy</th>\n",
       "      <th>f1</th>\n",
       "      <th>precision</th>\n",
       "      <th>recall</th>\n",
       "    </tr>\n",
       "  </thead>\n",
       "  <tbody>\n",
       "    <tr>\n",
       "      <th>0</th>\n",
       "      <td>0.95</td>\n",
       "      <td>10000</td>\n",
       "      <td>3</td>\n",
       "      <td>(1, 3)</td>\n",
       "      <td>NaN</td>\n",
       "      <td>TfidfVectorizer</td>\n",
       "      <td>nltk</td>\n",
       "      <td>LogisticRegression</td>\n",
       "      <td>0.843</td>\n",
       "      <td>0.534456</td>\n",
       "      <td>0.788406</td>\n",
       "      <td>0.496552</td>\n",
       "      <td>0.493151</td>\n",
       "      <td>0.500000</td>\n",
       "    </tr>\n",
       "    <tr>\n",
       "      <th>2</th>\n",
       "      <td>0.95</td>\n",
       "      <td>10000</td>\n",
       "      <td>3</td>\n",
       "      <td>(1, 1)</td>\n",
       "      <td>NaN</td>\n",
       "      <td>TfidfVectorizer</td>\n",
       "      <td>spacy</td>\n",
       "      <td>LogisticRegression</td>\n",
       "      <td>0.839</td>\n",
       "      <td>0.530216</td>\n",
       "      <td>0.811594</td>\n",
       "      <td>0.557823</td>\n",
       "      <td>0.561644</td>\n",
       "      <td>0.554054</td>\n",
       "    </tr>\n",
       "    <tr>\n",
       "      <th>4</th>\n",
       "      <td>0.95</td>\n",
       "      <td>10000</td>\n",
       "      <td>3</td>\n",
       "      <td>(1, 2)</td>\n",
       "      <td>NaN</td>\n",
       "      <td>TfidfVectorizer</td>\n",
       "      <td>spacy2</td>\n",
       "      <td>LogisticRegression</td>\n",
       "      <td>0.844</td>\n",
       "      <td>0.512243</td>\n",
       "      <td>0.811594</td>\n",
       "      <td>0.551724</td>\n",
       "      <td>0.547945</td>\n",
       "      <td>0.555556</td>\n",
       "    </tr>\n",
       "    <tr>\n",
       "      <th>1</th>\n",
       "      <td>0.95</td>\n",
       "      <td>50000</td>\n",
       "      <td>2</td>\n",
       "      <td>(1, 3)</td>\n",
       "      <td>NaN</td>\n",
       "      <td>CountVectorizer</td>\n",
       "      <td>nltk</td>\n",
       "      <td>LogisticRegression</td>\n",
       "      <td>0.817</td>\n",
       "      <td>0.468276</td>\n",
       "      <td>0.794203</td>\n",
       "      <td>0.517007</td>\n",
       "      <td>0.520548</td>\n",
       "      <td>0.513514</td>\n",
       "    </tr>\n",
       "    <tr>\n",
       "      <th>3</th>\n",
       "      <td>0.95</td>\n",
       "      <td>10000</td>\n",
       "      <td>2</td>\n",
       "      <td>(1, 3)</td>\n",
       "      <td>NaN</td>\n",
       "      <td>CountVectorizer</td>\n",
       "      <td>spacy</td>\n",
       "      <td>LogisticRegression</td>\n",
       "      <td>0.816</td>\n",
       "      <td>0.451664</td>\n",
       "      <td>0.802899</td>\n",
       "      <td>0.507246</td>\n",
       "      <td>0.479452</td>\n",
       "      <td>0.538462</td>\n",
       "    </tr>\n",
       "    <tr>\n",
       "      <th>5</th>\n",
       "      <td>0.95</td>\n",
       "      <td>30000</td>\n",
       "      <td>2</td>\n",
       "      <td>(1, 3)</td>\n",
       "      <td>NaN</td>\n",
       "      <td>CountVectorizer</td>\n",
       "      <td>spacy2</td>\n",
       "      <td>LogisticRegression</td>\n",
       "      <td>0.786</td>\n",
       "      <td>0.434912</td>\n",
       "      <td>0.788406</td>\n",
       "      <td>0.451128</td>\n",
       "      <td>0.410959</td>\n",
       "      <td>0.500000</td>\n",
       "    </tr>\n",
       "  </tbody>\n",
       "</table>\n",
       "</div>"
      ],
      "text/plain": [
       "   vec__max_df  vec__max_features  vec__min_df vec__ngram_range  \\\n",
       "0         0.95              10000            3           (1, 3)   \n",
       "2         0.95              10000            3           (1, 1)   \n",
       "4         0.95              10000            3           (1, 2)   \n",
       "1         0.95              50000            2           (1, 3)   \n",
       "3         0.95              10000            2           (1, 3)   \n",
       "5         0.95              30000            2           (1, 3)   \n",
       "\n",
       "   vec__stop_words       Vectorizer Lemmatizer          Classifier  \\\n",
       "0              NaN  TfidfVectorizer       nltk  LogisticRegression   \n",
       "2              NaN  TfidfVectorizer      spacy  LogisticRegression   \n",
       "4              NaN  TfidfVectorizer     spacy2  LogisticRegression   \n",
       "1              NaN  CountVectorizer       nltk  LogisticRegression   \n",
       "3              NaN  CountVectorizer      spacy  LogisticRegression   \n",
       "5              NaN  CountVectorizer     spacy2  LogisticRegression   \n",
       "\n",
       "   ROC-AUC score  Cross_Val_Score  accuracy        f1  precision    recall  \n",
       "0          0.843         0.534456  0.788406  0.496552   0.493151  0.500000  \n",
       "2          0.839         0.530216  0.811594  0.557823   0.561644  0.554054  \n",
       "4          0.844         0.512243  0.811594  0.551724   0.547945  0.555556  \n",
       "1          0.817         0.468276  0.794203  0.517007   0.520548  0.513514  \n",
       "3          0.816         0.451664  0.802899  0.507246   0.479452  0.538462  \n",
       "5          0.786         0.434912  0.788406  0.451128   0.410959  0.500000  "
      ]
     },
     "execution_count": 16,
     "metadata": {},
     "output_type": "execute_result"
    }
   ],
   "source": [
    "logreg.sort_values('Cross_Val_Score',ascending=False)"
   ]
  },
  {
   "cell_type": "markdown",
   "metadata": {
    "colab_type": "text",
    "id": "LQWlcXdOOe0X"
   },
   "source": [
    "### Naive Bayes"
   ]
  },
  {
   "cell_type": "code",
   "execution_count": 17,
   "metadata": {
    "ExecuteTime": {
     "end_time": "2019-12-03T19:17:10.999172Z",
     "start_time": "2019-12-03T18:51:11.666750Z"
    },
    "colab": {
     "base_uri": "https://localhost:8080/",
     "height": 973
    },
    "colab_type": "code",
    "id": "iM97qYVwOe0Y",
    "outputId": "f7acfa6f-2560-448e-f01f-e77eb2eecbe6",
    "scrolled": true
   },
   "outputs": [
    {
     "name": "stdout",
     "output_type": "stream",
     "text": [
      "1 of 6 of methods attempting\n",
      "Fitting 5 folds for each of 60 candidates, totalling 300 fits\n"
     ]
    },
    {
     "name": "stderr",
     "output_type": "stream",
     "text": [
      "[Parallel(n_jobs=-1)]: Using backend LokyBackend with 4 concurrent workers.\n",
      "[Parallel(n_jobs=-1)]: Done  42 tasks      | elapsed:   42.4s\n",
      "[Parallel(n_jobs=-1)]: Done 192 tasks      | elapsed:  3.1min\n",
      "[Parallel(n_jobs=-1)]: Done 300 out of 300 | elapsed:  4.9min finished\n",
      "/Users/apple/anaconda3/lib/python3.7/site-packages/sklearn/model_selection/_search.py:813: DeprecationWarning: The default of the `iid` parameter will change from True to False in version 0.22 and will be removed in 0.24. This will change numeric results when test-set sizes are unequal.\n",
      "  DeprecationWarning)\n"
     ]
    },
    {
     "name": "stdout",
     "output_type": "stream",
     "text": [
      "2 of 6 of methods attempting\n",
      "Fitting 5 folds for each of 60 candidates, totalling 300 fits\n"
     ]
    },
    {
     "name": "stderr",
     "output_type": "stream",
     "text": [
      "[Parallel(n_jobs=-1)]: Using backend LokyBackend with 4 concurrent workers.\n",
      "[Parallel(n_jobs=-1)]: Done  42 tasks      | elapsed:   38.6s\n",
      "[Parallel(n_jobs=-1)]: Done 192 tasks      | elapsed:  2.9min\n",
      "[Parallel(n_jobs=-1)]: Done 300 out of 300 | elapsed:  4.6min finished\n",
      "/Users/apple/anaconda3/lib/python3.7/site-packages/sklearn/model_selection/_search.py:813: DeprecationWarning: The default of the `iid` parameter will change from True to False in version 0.22 and will be removed in 0.24. This will change numeric results when test-set sizes are unequal.\n",
      "  DeprecationWarning)\n"
     ]
    },
    {
     "name": "stdout",
     "output_type": "stream",
     "text": [
      "3 of 6 of methods attempting\n",
      "Fitting 5 folds for each of 60 candidates, totalling 300 fits\n"
     ]
    },
    {
     "name": "stderr",
     "output_type": "stream",
     "text": [
      "[Parallel(n_jobs=-1)]: Using backend LokyBackend with 4 concurrent workers.\n",
      "[Parallel(n_jobs=-1)]: Done  42 tasks      | elapsed:   36.2s\n",
      "[Parallel(n_jobs=-1)]: Done 192 tasks      | elapsed:  2.8min\n",
      "[Parallel(n_jobs=-1)]: Done 300 out of 300 | elapsed:  4.4min finished\n",
      "/Users/apple/anaconda3/lib/python3.7/site-packages/sklearn/model_selection/_search.py:813: DeprecationWarning: The default of the `iid` parameter will change from True to False in version 0.22 and will be removed in 0.24. This will change numeric results when test-set sizes are unequal.\n",
      "  DeprecationWarning)\n"
     ]
    },
    {
     "name": "stdout",
     "output_type": "stream",
     "text": [
      "4 of 6 of methods attempting\n",
      "Fitting 5 folds for each of 60 candidates, totalling 300 fits\n"
     ]
    },
    {
     "name": "stderr",
     "output_type": "stream",
     "text": [
      "[Parallel(n_jobs=-1)]: Using backend LokyBackend with 4 concurrent workers.\n",
      "[Parallel(n_jobs=-1)]: Done  42 tasks      | elapsed:   34.6s\n",
      "[Parallel(n_jobs=-1)]: Done 192 tasks      | elapsed:  2.7min\n",
      "[Parallel(n_jobs=-1)]: Done 300 out of 300 | elapsed:  4.2min finished\n",
      "/Users/apple/anaconda3/lib/python3.7/site-packages/sklearn/model_selection/_search.py:813: DeprecationWarning: The default of the `iid` parameter will change from True to False in version 0.22 and will be removed in 0.24. This will change numeric results when test-set sizes are unequal.\n",
      "  DeprecationWarning)\n"
     ]
    },
    {
     "name": "stdout",
     "output_type": "stream",
     "text": [
      "5 of 6 of methods attempting\n",
      "Fitting 5 folds for each of 60 candidates, totalling 300 fits\n"
     ]
    },
    {
     "name": "stderr",
     "output_type": "stream",
     "text": [
      "[Parallel(n_jobs=-1)]: Using backend LokyBackend with 4 concurrent workers.\n",
      "[Parallel(n_jobs=-1)]: Done  42 tasks      | elapsed:   32.7s\n",
      "[Parallel(n_jobs=-1)]: Done 192 tasks      | elapsed:  2.6min\n",
      "[Parallel(n_jobs=-1)]: Done 300 out of 300 | elapsed:  4.1min finished\n"
     ]
    },
    {
     "name": "stdout",
     "output_type": "stream",
     "text": [
      "6 of 6 of methods attempting\n",
      "Fitting 5 folds for each of 60 candidates, totalling 300 fits\n"
     ]
    },
    {
     "name": "stderr",
     "output_type": "stream",
     "text": [
      "[Parallel(n_jobs=-1)]: Using backend LokyBackend with 4 concurrent workers.\n",
      "[Parallel(n_jobs=-1)]: Done  42 tasks      | elapsed:   31.1s\n",
      "[Parallel(n_jobs=-1)]: Done 192 tasks      | elapsed:  2.4min\n",
      "[Parallel(n_jobs=-1)]: Done 300 out of 300 | elapsed:  3.7min finished\n"
     ]
    }
   ],
   "source": [
    "stopwords=['trump','hillary','bush','donald','clinton']\n",
    "Vectorizerlist=[TfidfVectorizer(stop_words=stopwords),CountVectorizer(stop_words=stopwords)]\n",
    "Lemmatizer=['nltklemma','spacylemma','spacylemma2']\n",
    "Dfnames=['nltk','spacy','spacy2']\n",
    "Classifierlist=[MultinomialNB()]\n",
    "pipe_params = {\n",
    "                    'vec__max_features': [int(i) for i in np.linspace(10000,50000,5)],\n",
    "                    'vec__min_df': [2,3],\n",
    "                    'vec__max_df': [.95,.90],\n",
    "                    'vec__ngram_range': [(1,1),(1,2),(1,3)],\n",
    "                    'vec__stop_words':[None],\n",
    "    \n",
    "                }\n",
    "\n",
    "NBsearch=SupraPipeline(Lemmatizer,Vectorizerlist,Classifierlist,Dfnames,pipe_params,'NB.csv','f1')"
   ]
  },
  {
   "cell_type": "code",
   "execution_count": 18,
   "metadata": {
    "ExecuteTime": {
     "end_time": "2019-12-03T19:17:11.013031Z",
     "start_time": "2019-12-03T19:17:11.001513Z"
    },
    "colab": {},
    "colab_type": "code",
    "id": "szvKAn1IOe0d"
   },
   "outputs": [],
   "source": [
    "NBsearch=pd.read_csv('GridSearch Output/NB.csv')"
   ]
  },
  {
   "cell_type": "code",
   "execution_count": 19,
   "metadata": {
    "ExecuteTime": {
     "end_time": "2019-12-03T19:17:11.043405Z",
     "start_time": "2019-12-03T19:17:11.016234Z"
    },
    "colab": {
     "base_uri": "https://localhost:8080/",
     "height": 288
    },
    "colab_type": "code",
    "id": "11JkzkmPOe0g",
    "outputId": "3ccb6ba9-5fdc-469e-b282-91ee606954c6",
    "scrolled": false
   },
   "outputs": [
    {
     "data": {
      "text/html": [
       "<div>\n",
       "<style scoped>\n",
       "    .dataframe tbody tr th:only-of-type {\n",
       "        vertical-align: middle;\n",
       "    }\n",
       "\n",
       "    .dataframe tbody tr th {\n",
       "        vertical-align: top;\n",
       "    }\n",
       "\n",
       "    .dataframe thead th {\n",
       "        text-align: right;\n",
       "    }\n",
       "</style>\n",
       "<table border=\"1\" class=\"dataframe\">\n",
       "  <thead>\n",
       "    <tr style=\"text-align: right;\">\n",
       "      <th></th>\n",
       "      <th>vec__max_df</th>\n",
       "      <th>vec__max_features</th>\n",
       "      <th>vec__min_df</th>\n",
       "      <th>vec__ngram_range</th>\n",
       "      <th>vec__stop_words</th>\n",
       "      <th>Vectorizer</th>\n",
       "      <th>Lemmatizer</th>\n",
       "      <th>Classifier</th>\n",
       "      <th>ROC-AUC score</th>\n",
       "      <th>Cross_Val_Score</th>\n",
       "      <th>accuracy</th>\n",
       "      <th>f1</th>\n",
       "      <th>precision</th>\n",
       "      <th>recall</th>\n",
       "    </tr>\n",
       "  </thead>\n",
       "  <tbody>\n",
       "    <tr>\n",
       "      <th>0</th>\n",
       "      <td>0.95</td>\n",
       "      <td>20000</td>\n",
       "      <td>2</td>\n",
       "      <td>(1, 1)</td>\n",
       "      <td>NaN</td>\n",
       "      <td>TfidfVectorizer</td>\n",
       "      <td>nltk</td>\n",
       "      <td>MultinomialNB</td>\n",
       "      <td>0.825</td>\n",
       "      <td>0.563040</td>\n",
       "      <td>0.776812</td>\n",
       "      <td>0.574586</td>\n",
       "      <td>0.712329</td>\n",
       "      <td>0.481481</td>\n",
       "    </tr>\n",
       "    <tr>\n",
       "      <th>2</th>\n",
       "      <td>0.95</td>\n",
       "      <td>30000</td>\n",
       "      <td>2</td>\n",
       "      <td>(1, 2)</td>\n",
       "      <td>NaN</td>\n",
       "      <td>TfidfVectorizer</td>\n",
       "      <td>spacy</td>\n",
       "      <td>MultinomialNB</td>\n",
       "      <td>0.821</td>\n",
       "      <td>0.538497</td>\n",
       "      <td>0.768116</td>\n",
       "      <td>0.578947</td>\n",
       "      <td>0.753425</td>\n",
       "      <td>0.470085</td>\n",
       "    </tr>\n",
       "    <tr>\n",
       "      <th>4</th>\n",
       "      <td>0.95</td>\n",
       "      <td>10000</td>\n",
       "      <td>2</td>\n",
       "      <td>(1, 2)</td>\n",
       "      <td>NaN</td>\n",
       "      <td>TfidfVectorizer</td>\n",
       "      <td>spacy2</td>\n",
       "      <td>MultinomialNB</td>\n",
       "      <td>0.822</td>\n",
       "      <td>0.535877</td>\n",
       "      <td>0.747826</td>\n",
       "      <td>0.539683</td>\n",
       "      <td>0.698630</td>\n",
       "      <td>0.439655</td>\n",
       "    </tr>\n",
       "    <tr>\n",
       "      <th>3</th>\n",
       "      <td>0.95</td>\n",
       "      <td>10000</td>\n",
       "      <td>3</td>\n",
       "      <td>(1, 2)</td>\n",
       "      <td>NaN</td>\n",
       "      <td>CountVectorizer</td>\n",
       "      <td>spacy</td>\n",
       "      <td>MultinomialNB</td>\n",
       "      <td>0.776</td>\n",
       "      <td>0.480043</td>\n",
       "      <td>0.768116</td>\n",
       "      <td>0.466667</td>\n",
       "      <td>0.479452</td>\n",
       "      <td>0.454545</td>\n",
       "    </tr>\n",
       "    <tr>\n",
       "      <th>1</th>\n",
       "      <td>0.95</td>\n",
       "      <td>10000</td>\n",
       "      <td>3</td>\n",
       "      <td>(1, 1)</td>\n",
       "      <td>NaN</td>\n",
       "      <td>CountVectorizer</td>\n",
       "      <td>nltk</td>\n",
       "      <td>MultinomialNB</td>\n",
       "      <td>0.771</td>\n",
       "      <td>0.470349</td>\n",
       "      <td>0.771014</td>\n",
       "      <td>0.439716</td>\n",
       "      <td>0.424658</td>\n",
       "      <td>0.455882</td>\n",
       "    </tr>\n",
       "    <tr>\n",
       "      <th>5</th>\n",
       "      <td>0.95</td>\n",
       "      <td>10000</td>\n",
       "      <td>3</td>\n",
       "      <td>(1, 2)</td>\n",
       "      <td>NaN</td>\n",
       "      <td>CountVectorizer</td>\n",
       "      <td>spacy2</td>\n",
       "      <td>MultinomialNB</td>\n",
       "      <td>0.775</td>\n",
       "      <td>0.440966</td>\n",
       "      <td>0.785507</td>\n",
       "      <td>0.478873</td>\n",
       "      <td>0.465753</td>\n",
       "      <td>0.492754</td>\n",
       "    </tr>\n",
       "  </tbody>\n",
       "</table>\n",
       "</div>"
      ],
      "text/plain": [
       "   vec__max_df  vec__max_features  vec__min_df vec__ngram_range  \\\n",
       "0         0.95              20000            2           (1, 1)   \n",
       "2         0.95              30000            2           (1, 2)   \n",
       "4         0.95              10000            2           (1, 2)   \n",
       "3         0.95              10000            3           (1, 2)   \n",
       "1         0.95              10000            3           (1, 1)   \n",
       "5         0.95              10000            3           (1, 2)   \n",
       "\n",
       "   vec__stop_words       Vectorizer Lemmatizer     Classifier  ROC-AUC score  \\\n",
       "0              NaN  TfidfVectorizer       nltk  MultinomialNB          0.825   \n",
       "2              NaN  TfidfVectorizer      spacy  MultinomialNB          0.821   \n",
       "4              NaN  TfidfVectorizer     spacy2  MultinomialNB          0.822   \n",
       "3              NaN  CountVectorizer      spacy  MultinomialNB          0.776   \n",
       "1              NaN  CountVectorizer       nltk  MultinomialNB          0.771   \n",
       "5              NaN  CountVectorizer     spacy2  MultinomialNB          0.775   \n",
       "\n",
       "   Cross_Val_Score  accuracy        f1  precision    recall  \n",
       "0         0.563040  0.776812  0.574586   0.712329  0.481481  \n",
       "2         0.538497  0.768116  0.578947   0.753425  0.470085  \n",
       "4         0.535877  0.747826  0.539683   0.698630  0.439655  \n",
       "3         0.480043  0.768116  0.466667   0.479452  0.454545  \n",
       "1         0.470349  0.771014  0.439716   0.424658  0.455882  \n",
       "5         0.440966  0.785507  0.478873   0.465753  0.492754  "
      ]
     },
     "execution_count": 19,
     "metadata": {},
     "output_type": "execute_result"
    }
   ],
   "source": [
    "NBsearch.sort_values('Cross_Val_Score',ascending=False)"
   ]
  },
  {
   "cell_type": "markdown",
   "metadata": {
    "colab_type": "text",
    "id": "3V1yzdX5Oe0i"
   },
   "source": [
    "### Random Forests Classifier"
   ]
  },
  {
   "cell_type": "code",
   "execution_count": 20,
   "metadata": {
    "ExecuteTime": {
     "end_time": "2019-12-03T19:17:11.058423Z",
     "start_time": "2019-12-03T19:17:11.046813Z"
    },
    "colab": {
     "base_uri": "https://localhost:8080/",
     "height": 138
    },
    "colab_type": "code",
    "id": "ViPLYt145W_3",
    "outputId": "00c297b5-6b7c-4b1d-f46e-3a17e7cb0057"
   },
   "outputs": [
    {
     "data": {
      "text/plain": [
       "RandomForestClassifier(bootstrap=True, class_weight=None, criterion='gini',\n",
       "                       max_depth=None, max_features='auto', max_leaf_nodes=None,\n",
       "                       min_impurity_decrease=0.0, min_impurity_split=None,\n",
       "                       min_samples_leaf=1, min_samples_split=2,\n",
       "                       min_weight_fraction_leaf=0.0, n_estimators='warn',\n",
       "                       n_jobs=None, oob_score=False, random_state=None,\n",
       "                       verbose=0, warm_start=False)"
      ]
     },
     "execution_count": 20,
     "metadata": {},
     "output_type": "execute_result"
    }
   ],
   "source": [
    "RandomForestClassifier()"
   ]
  },
  {
   "cell_type": "code",
   "execution_count": 21,
   "metadata": {
    "ExecuteTime": {
     "end_time": "2019-12-03T19:17:11.074494Z",
     "start_time": "2019-12-03T19:17:11.062182Z"
    },
    "colab": {
     "base_uri": "https://localhost:8080/",
     "height": 1000
    },
    "colab_type": "code",
    "id": "n4qnY9eqOe0j",
    "outputId": "a3f57483-408b-49ce-ed09-8bafd6a03b7e",
    "scrolled": true
   },
   "outputs": [],
   "source": [
    "stopwords=['trump','hillary','bush','donald','clinton']\n",
    "Vectorizerlist=[TfidfVectorizer(stop_words=stopwords),CountVectorizer(stop_words=stopwords)]\n",
    "Lemmatizer=['nltklemma','spacylemma','spacylemma2']\n",
    "Dfnames=['nltk','spacy','spacy2']\n",
    "Classifierlist=[RandomForestClassifier(n_estimators=100)]\n",
    "pipe_params = {\n",
    "                    'vec__max_features': [int(i) for i in np.linspace(10000,50000,5)],\n",
    "                    'vec__min_df': [2,3],\n",
    "                    'vec__max_df': [.95,.90],\n",
    "                    'vec__ngram_range': [(1,1),(1,2),(1,3)],\n",
    "                    'vec__stop_words':[None],\n",
    "                    'class__max_depth':[3,5,10],\n",
    "                    'class__max_features':[3,5,10,20]\n",
    "    \n",
    "                }\n",
    "\n",
    "#RFsearch=SupraPipeline(Lemmatizer,Vectorizerlist,Classifierlist,Dfnames,pipe_params,'RF.csv','f1')"
   ]
  },
  {
   "cell_type": "code",
   "execution_count": 22,
   "metadata": {
    "ExecuteTime": {
     "end_time": "2019-12-03T19:17:11.089368Z",
     "start_time": "2019-12-03T19:17:11.078431Z"
    },
    "colab": {},
    "colab_type": "code",
    "id": "Lm0gTJ96Oe0l"
   },
   "outputs": [],
   "source": [
    "RFsearch=pd.read_csv('GridSearch Output/RF.csv')"
   ]
  },
  {
   "cell_type": "code",
   "execution_count": 23,
   "metadata": {
    "ExecuteTime": {
     "end_time": "2019-12-03T19:17:11.122471Z",
     "start_time": "2019-12-03T19:17:11.097260Z"
    },
    "colab": {
     "base_uri": "https://localhost:8080/",
     "height": 288
    },
    "colab_type": "code",
    "id": "ct5Cb_8wOe0q",
    "outputId": "afefee37-d795-4d90-d85c-1366dd967baf",
    "scrolled": false
   },
   "outputs": [
    {
     "data": {
      "text/html": [
       "<div>\n",
       "<style scoped>\n",
       "    .dataframe tbody tr th:only-of-type {\n",
       "        vertical-align: middle;\n",
       "    }\n",
       "\n",
       "    .dataframe tbody tr th {\n",
       "        vertical-align: top;\n",
       "    }\n",
       "\n",
       "    .dataframe thead th {\n",
       "        text-align: right;\n",
       "    }\n",
       "</style>\n",
       "<table border=\"1\" class=\"dataframe\">\n",
       "  <thead>\n",
       "    <tr style=\"text-align: right;\">\n",
       "      <th></th>\n",
       "      <th>vec__max_df</th>\n",
       "      <th>vec__max_features</th>\n",
       "      <th>vec__min_df</th>\n",
       "      <th>vec__ngram_range</th>\n",
       "      <th>vec__stop_words</th>\n",
       "      <th>Vectorizer</th>\n",
       "      <th>Lemmatizer</th>\n",
       "      <th>Classifier</th>\n",
       "      <th>ROC-AUC score</th>\n",
       "      <th>Cross_Val_Score</th>\n",
       "      <th>accuracy</th>\n",
       "      <th>f1</th>\n",
       "      <th>precision</th>\n",
       "      <th>recall</th>\n",
       "    </tr>\n",
       "  </thead>\n",
       "  <tbody>\n",
       "    <tr>\n",
       "      <th>1</th>\n",
       "      <td>0.95</td>\n",
       "      <td>20000</td>\n",
       "      <td>2</td>\n",
       "      <td>(1, 3)</td>\n",
       "      <td>NaN</td>\n",
       "      <td>CountVectorizer</td>\n",
       "      <td>nltk</td>\n",
       "      <td>RandomForestClassifier</td>\n",
       "      <td>0.803</td>\n",
       "      <td>0.293446</td>\n",
       "      <td>0.785507</td>\n",
       "      <td>0.478873</td>\n",
       "      <td>0.465753</td>\n",
       "      <td>0.492754</td>\n",
       "    </tr>\n",
       "    <tr>\n",
       "      <th>2</th>\n",
       "      <td>0.95</td>\n",
       "      <td>50000</td>\n",
       "      <td>3</td>\n",
       "      <td>(1, 3)</td>\n",
       "      <td>NaN</td>\n",
       "      <td>TfidfVectorizer</td>\n",
       "      <td>spacy</td>\n",
       "      <td>RandomForestClassifier</td>\n",
       "      <td>0.802</td>\n",
       "      <td>0.282180</td>\n",
       "      <td>0.817391</td>\n",
       "      <td>0.546763</td>\n",
       "      <td>0.520548</td>\n",
       "      <td>0.575758</td>\n",
       "    </tr>\n",
       "    <tr>\n",
       "      <th>0</th>\n",
       "      <td>0.95</td>\n",
       "      <td>20000</td>\n",
       "      <td>3</td>\n",
       "      <td>(1, 3)</td>\n",
       "      <td>NaN</td>\n",
       "      <td>TfidfVectorizer</td>\n",
       "      <td>nltk</td>\n",
       "      <td>RandomForestClassifier</td>\n",
       "      <td>0.821</td>\n",
       "      <td>0.275703</td>\n",
       "      <td>0.820290</td>\n",
       "      <td>0.523077</td>\n",
       "      <td>0.465753</td>\n",
       "      <td>0.596491</td>\n",
       "    </tr>\n",
       "    <tr>\n",
       "      <th>3</th>\n",
       "      <td>0.95</td>\n",
       "      <td>40000</td>\n",
       "      <td>2</td>\n",
       "      <td>(1, 3)</td>\n",
       "      <td>NaN</td>\n",
       "      <td>CountVectorizer</td>\n",
       "      <td>spacy</td>\n",
       "      <td>RandomForestClassifier</td>\n",
       "      <td>0.802</td>\n",
       "      <td>0.273933</td>\n",
       "      <td>0.800000</td>\n",
       "      <td>0.510638</td>\n",
       "      <td>0.493151</td>\n",
       "      <td>0.529412</td>\n",
       "    </tr>\n",
       "  </tbody>\n",
       "</table>\n",
       "</div>"
      ],
      "text/plain": [
       "   vec__max_df  vec__max_features  vec__min_df vec__ngram_range  \\\n",
       "1         0.95              20000            2           (1, 3)   \n",
       "2         0.95              50000            3           (1, 3)   \n",
       "0         0.95              20000            3           (1, 3)   \n",
       "3         0.95              40000            2           (1, 3)   \n",
       "\n",
       "   vec__stop_words       Vectorizer Lemmatizer              Classifier  \\\n",
       "1              NaN  CountVectorizer       nltk  RandomForestClassifier   \n",
       "2              NaN  TfidfVectorizer      spacy  RandomForestClassifier   \n",
       "0              NaN  TfidfVectorizer       nltk  RandomForestClassifier   \n",
       "3              NaN  CountVectorizer      spacy  RandomForestClassifier   \n",
       "\n",
       "   ROC-AUC score  Cross_Val_Score  accuracy        f1  precision    recall  \n",
       "1          0.803         0.293446  0.785507  0.478873   0.465753  0.492754  \n",
       "2          0.802         0.282180  0.817391  0.546763   0.520548  0.575758  \n",
       "0          0.821         0.275703  0.820290  0.523077   0.465753  0.596491  \n",
       "3          0.802         0.273933  0.800000  0.510638   0.493151  0.529412  "
      ]
     },
     "execution_count": 23,
     "metadata": {},
     "output_type": "execute_result"
    }
   ],
   "source": [
    "RFsearch.sort_values('Cross_Val_Score',ascending=False)"
   ]
  },
  {
   "cell_type": "markdown",
   "metadata": {
    "colab_type": "text",
    "id": "2AvituUwOe07"
   },
   "source": [
    "## Best model"
   ]
  },
  {
   "cell_type": "markdown",
   "metadata": {
    "colab_type": "text",
    "id": "g_Fmpg1iOe08"
   },
   "source": [
    "The best model found is shown in the table below:  \n",
    "\n",
    "\n",
    "\n",
    "|Classifier|Lemmatization|Encoding|max_df|max_features|min_df|ngram_range|  \n",
    "|:----|----|----|----|----|----|:----:|  \n",
    "|Logistic Regressor|spacylemma2|Tfidf|0.95|10000|2|(1,1)|  "
   ]
  },
  {
   "cell_type": "markdown",
   "metadata": {},
   "source": [
    "### Train Model"
   ]
  },
  {
   "cell_type": "code",
   "execution_count": 45,
   "metadata": {
    "ExecuteTime": {
     "end_time": "2019-12-04T17:33:03.505778Z",
     "start_time": "2019-12-04T17:33:03.494304Z"
    },
    "colab": {
     "base_uri": "https://localhost:8080/",
     "height": 225
    },
    "colab_type": "code",
    "id": "ZJxI4H7QOe09",
    "outputId": "f9228bc6-b791-4f1f-9cca-39f0b55fe219",
    "scrolled": true
   },
   "outputs": [
    {
     "data": {
      "text/plain": [
       "0         day ago , PROPN despicable spawn tweet meme ...\n",
       "1         group intelligence official national securit...\n",
       "2         new investigation determine PROPN charitable...\n",
       "3         new video emerge moment police officer gun P...\n",
       "4         ninety - - year - old PROPN PROPN PROPN vete...\n",
       "                              ...                        \n",
       "1375    choose explanation happen PROPN PROPN recent w...\n",
       "1376    You?d think put list 8 bad mass murderer ameri...\n",
       "1377    PROPN standard bearer political party champion...\n",
       "1378    PROPN get love PROPN PROPN . PROPN PROPN futur...\n",
       "1379    PROPN probably see bumper sticker , ? Don?t li...\n",
       "Name: spacylemma2, Length: 1380, dtype: object"
      ]
     },
     "execution_count": 45,
     "metadata": {},
     "output_type": "execute_result"
    }
   ],
   "source": [
    "df['spacylemma2']"
   ]
  },
  {
   "cell_type": "code",
   "execution_count": 46,
   "metadata": {
    "ExecuteTime": {
     "end_time": "2019-12-04T17:33:03.810405Z",
     "start_time": "2019-12-04T17:33:03.796867Z"
    },
    "colab": {},
    "colab_type": "code",
    "id": "82Eh7B_AOe1C"
   },
   "outputs": [],
   "source": [
    "X=df['spacylemma2']\n",
    "y=df['target']\n",
    "\n",
    "X_train,X_test,y_train,y_test=train_test_split(X,y,stratify=y,random_state=23)"
   ]
  },
  {
   "cell_type": "code",
   "execution_count": 47,
   "metadata": {
    "ExecuteTime": {
     "end_time": "2019-12-04T17:33:06.880303Z",
     "start_time": "2019-12-04T17:33:04.524509Z"
    },
    "colab": {
     "base_uri": "https://localhost:8080/",
     "height": 488
    },
    "colab_type": "code",
    "id": "8JB_OVsiOe1J",
    "outputId": "c3ced16a-6368-4d34-fa6a-2b236e4dd6e2",
    "scrolled": true
   },
   "outputs": [
    {
     "name": "stderr",
     "output_type": "stream",
     "text": [
      "/Users/apple/anaconda3/lib/python3.7/site-packages/sklearn/linear_model/logistic.py:432: FutureWarning: Default solver will be changed to 'lbfgs' in 0.22. Specify a solver to silence this warning.\n",
      "  FutureWarning)\n"
     ]
    },
    {
     "data": {
      "text/plain": [
       "Pipeline(memory=None,\n",
       "         steps=[('tfidfvectorizer',\n",
       "                 TfidfVectorizer(analyzer='word', binary=False,\n",
       "                                 decode_error='strict',\n",
       "                                 dtype=<class 'numpy.float64'>,\n",
       "                                 encoding='utf-8', input='content',\n",
       "                                 lowercase=True, max_df=0.95,\n",
       "                                 max_features=10000, min_df=2,\n",
       "                                 ngram_range=(1, 2), norm='l2',\n",
       "                                 preprocessor=None, smooth_idf=True,\n",
       "                                 stop_words=None, strip_accents=None,\n",
       "                                 sublinear_tf=False,\n",
       "                                 tok...\n",
       "                       out_step='deprecated', random_state=77, ratio=None,\n",
       "                       sampling_strategy='auto', svm_estimator='deprecated')),\n",
       "                ('logisticregression',\n",
       "                 LogisticRegression(C=1, class_weight=None, dual=False,\n",
       "                                    fit_intercept=True, intercept_scaling=1,\n",
       "                                    l1_ratio=None, max_iter=100,\n",
       "                                    multi_class='warn', n_jobs=None,\n",
       "                                    penalty='l2', random_state=None,\n",
       "                                    solver='warn', tol=0.0001, verbose=0,\n",
       "                                    warm_start=False))],\n",
       "         verbose=False)"
      ]
     },
     "execution_count": 47,
     "metadata": {},
     "output_type": "execute_result"
    }
   ],
   "source": [
    "\n",
    "X_train,X_test,y_train,y_test=train_test_split(X,y,stratify=y,random_state=23,test_size=0.2)\n",
    "\n",
    "lr=LogisticRegression(C=1)\n",
    "tvec=TfidfVectorizer(max_df=0.95,min_df=2,ngram_range=(1,2),max_features=10000)\n",
    "smote=SMOTE(random_state=77)\n",
    "\n",
    "pipe=make_pipeline(tvec,smote,lr)\n",
    "pipe.fit(X_train,y_train)\n"
   ]
  },
  {
   "cell_type": "code",
   "execution_count": 49,
   "metadata": {
    "ExecuteTime": {
     "end_time": "2019-12-04T17:33:41.762717Z",
     "start_time": "2019-12-04T17:33:39.842425Z"
    }
   },
   "outputs": [
    {
     "data": {
      "text/plain": [
       "['finalized_model.sav']"
      ]
     },
     "execution_count": 49,
     "metadata": {},
     "output_type": "execute_result"
    }
   ],
   "source": [
    "import joblib\n",
    "filename = 'finalized_model.sav'\n",
    "joblib.dump(pipe, filename)"
   ]
  },
  {
   "cell_type": "markdown",
   "metadata": {},
   "source": [
    "### Assess Model"
   ]
  },
  {
   "cell_type": "markdown",
   "metadata": {},
   "source": [
    "#### Confusion Matrix"
   ]
  },
  {
   "cell_type": "code",
   "execution_count": 21,
   "metadata": {
    "ExecuteTime": {
     "end_time": "2019-12-04T15:11:31.390097Z",
     "start_time": "2019-12-04T15:11:31.156968Z"
    }
   },
   "outputs": [
    {
     "data": {
      "text/html": [
       "<div>\n",
       "<style scoped>\n",
       "    .dataframe tbody tr th:only-of-type {\n",
       "        vertical-align: middle;\n",
       "    }\n",
       "\n",
       "    .dataframe tbody tr th {\n",
       "        vertical-align: top;\n",
       "    }\n",
       "\n",
       "    .dataframe thead th {\n",
       "        text-align: right;\n",
       "    }\n",
       "</style>\n",
       "<table border=\"1\" class=\"dataframe\">\n",
       "  <thead>\n",
       "    <tr style=\"text-align: right;\">\n",
       "      <th></th>\n",
       "      <th>Predicted Real</th>\n",
       "      <th>Predicted Fake</th>\n",
       "    </tr>\n",
       "    <tr>\n",
       "      <th>index</th>\n",
       "      <th></th>\n",
       "      <th></th>\n",
       "    </tr>\n",
       "  </thead>\n",
       "  <tbody>\n",
       "    <tr>\n",
       "      <th>Real Real</th>\n",
       "      <td>189</td>\n",
       "      <td>29</td>\n",
       "    </tr>\n",
       "    <tr>\n",
       "      <th>Real Fake</th>\n",
       "      <td>20</td>\n",
       "      <td>38</td>\n",
       "    </tr>\n",
       "  </tbody>\n",
       "</table>\n",
       "</div>"
      ],
      "text/plain": [
       "           Predicted Real  Predicted Fake\n",
       "index                                    \n",
       "Real Real             189              29\n",
       "Real Fake              20              38"
      ]
     },
     "metadata": {},
     "output_type": "display_data"
    },
    {
     "name": "stdout",
     "output_type": "stream",
     "text": [
      "{'accuracy': 0.822463768115942, 'f': 0.608, 'precision': 0.5671641791044776, 'recall': 0.6551724137931034, 'fprate': 0.1330275229357798, 'tprate': 0.6551724137931034, 'tprate/fprate': 4.9250891795481575}\n"
     ]
    }
   ],
   "source": [
    "#Print the Confusion Matrix and create the prediction dataframe required for other assessment functions\n",
    "pred_df=assess_model(pipe,X_test,y_test,0.5)"
   ]
  },
  {
   "cell_type": "markdown",
   "metadata": {},
   "source": [
    "#### Probability Distribution"
   ]
  },
  {
   "cell_type": "code",
   "execution_count": 22,
   "metadata": {
    "ExecuteTime": {
     "end_time": "2019-12-04T15:11:33.122589Z",
     "start_time": "2019-12-04T15:11:32.498145Z"
    }
   },
   "outputs": [
    {
     "data": {
      "image/png": "[encoded data removed]",
      "text/plain": [
       "<Figure size 720x504 with 1 Axes>"
      ]
     },
     "metadata": {
      "needs_background": "light"
     },
     "output_type": "display_data"
    }
   ],
   "source": [
    "plotprob(pred_df)"
   ]
  },
  {
   "cell_type": "markdown",
   "metadata": {},
   "source": [
    "#### Receiver Operating Curve"
   ]
  },
  {
   "cell_type": "code",
   "execution_count": 23,
   "metadata": {
    "ExecuteTime": {
     "end_time": "2019-12-04T15:11:35.053459Z",
     "start_time": "2019-12-04T15:11:33.128254Z"
    }
   },
   "outputs": [
    {
     "data": {
      "image/png": "[encoded data removed]",
      "text/plain": [
       "<Figure size 720x504 with 1 Axes>"
      ]
     },
     "metadata": {
      "needs_background": "light"
     },
     "output_type": "display_data"
    }
   ],
   "source": [
    "rocauccurve(pred_df)"
   ]
  },
  {
   "cell_type": "markdown",
   "metadata": {},
   "source": [
    "### Misclassification Analysis\n",
    "\n",
    "Here, the misclassifications are analysed, based on the original threshold"
   ]
  },
  {
   "cell_type": "code",
   "execution_count": 24,
   "metadata": {
    "ExecuteTime": {
     "end_time": "2019-12-04T15:11:35.314365Z",
     "start_time": "2019-12-04T15:11:35.062183Z"
    }
   },
   "outputs": [
    {
     "data": {
      "text/html": [
       "<div>\n",
       "<style scoped>\n",
       "    .dataframe tbody tr th:only-of-type {\n",
       "        vertical-align: middle;\n",
       "    }\n",
       "\n",
       "    .dataframe tbody tr th {\n",
       "        vertical-align: top;\n",
       "    }\n",
       "\n",
       "    .dataframe thead th {\n",
       "        text-align: right;\n",
       "    }\n",
       "</style>\n",
       "<table border=\"1\" class=\"dataframe\">\n",
       "  <thead>\n",
       "    <tr style=\"text-align: right;\">\n",
       "      <th></th>\n",
       "      <th>Predicted Real</th>\n",
       "      <th>Predicted Fake</th>\n",
       "    </tr>\n",
       "    <tr>\n",
       "      <th>index</th>\n",
       "      <th></th>\n",
       "      <th></th>\n",
       "    </tr>\n",
       "  </thead>\n",
       "  <tbody>\n",
       "    <tr>\n",
       "      <th>Real Real</th>\n",
       "      <td>189</td>\n",
       "      <td>29</td>\n",
       "    </tr>\n",
       "    <tr>\n",
       "      <th>Real Fake</th>\n",
       "      <td>20</td>\n",
       "      <td>38</td>\n",
       "    </tr>\n",
       "  </tbody>\n",
       "</table>\n",
       "</div>"
      ],
      "text/plain": [
       "           Predicted Real  Predicted Fake\n",
       "index                                    \n",
       "Real Real             189              29\n",
       "Real Fake              20              38"
      ]
     },
     "metadata": {},
     "output_type": "display_data"
    },
    {
     "name": "stdout",
     "output_type": "stream",
     "text": [
      "{'accuracy': 0.822463768115942, 'f': 0.608, 'precision': 0.5671641791044776, 'recall': 0.6551724137931034, 'fprate': 0.1330275229357798, 'tprate': 0.6551724137931034, 'tprate/fprate': 4.9250891795481575}\n"
     ]
    }
   ],
   "source": [
    "pred_df=assess_model(pipe,X_test,y_test,0.5)"
   ]
  },
  {
   "cell_type": "code",
   "execution_count": 25,
   "metadata": {
    "ExecuteTime": {
     "end_time": "2019-12-04T15:11:35.326951Z",
     "start_time": "2019-12-04T15:11:35.319000Z"
    },
    "colab": {},
    "colab_type": "code",
    "id": "_74eHqI5Oe1u"
   },
   "outputs": [],
   "source": [
    "misclass=pd.DataFrame(pred_df[pred_df['true_values']!=pred_df['predict']])"
   ]
  },
  {
   "cell_type": "code",
   "execution_count": 26,
   "metadata": {
    "ExecuteTime": {
     "end_time": "2019-12-04T15:11:35.355002Z",
     "start_time": "2019-12-04T15:11:35.330968Z"
    },
    "scrolled": true
   },
   "outputs": [
    {
     "data": {
      "text/html": [
       "<div>\n",
       "<style scoped>\n",
       "    .dataframe tbody tr th:only-of-type {\n",
       "        vertical-align: middle;\n",
       "    }\n",
       "\n",
       "    .dataframe tbody tr th {\n",
       "        vertical-align: top;\n",
       "    }\n",
       "\n",
       "    .dataframe thead th {\n",
       "        text-align: right;\n",
       "    }\n",
       "</style>\n",
       "<table border=\"1\" class=\"dataframe\">\n",
       "  <thead>\n",
       "    <tr style=\"text-align: right;\">\n",
       "      <th></th>\n",
       "      <th>pred_probs</th>\n",
       "      <th>titles</th>\n",
       "      <th>true_values</th>\n",
       "      <th>predict</th>\n",
       "    </tr>\n",
       "  </thead>\n",
       "  <tbody>\n",
       "    <tr>\n",
       "      <th>2</th>\n",
       "      <td>0.374233</td>\n",
       "      <td>PROPN PROPN PROPN PROPN PROPN convert PROPN PR...</td>\n",
       "      <td>1</td>\n",
       "      <td>0</td>\n",
       "    </tr>\n",
       "    <tr>\n",
       "      <th>9</th>\n",
       "      <td>0.670234</td>\n",
       "      <td>key skill public speaker ability handle hostil...</td>\n",
       "      <td>0</td>\n",
       "      <td>1</td>\n",
       "    </tr>\n",
       "    <tr>\n",
       "      <th>25</th>\n",
       "      <td>0.382100</td>\n",
       "      <td>. okay , liberal say year . PROPN PROPN ( incr...</td>\n",
       "      <td>1</td>\n",
       "      <td>0</td>\n",
       "    </tr>\n",
       "    <tr>\n",
       "      <th>31</th>\n",
       "      <td>0.737858</td>\n",
       "      <td>pro - gun crowd love gun , respect . , case tr...</td>\n",
       "      <td>0</td>\n",
       "      <td>1</td>\n",
       "    </tr>\n",
       "    <tr>\n",
       "      <th>34</th>\n",
       "      <td>0.690900</td>\n",
       "      <td>call ? small government ? PROPN run state PR...</td>\n",
       "      <td>0</td>\n",
       "      <td>1</td>\n",
       "    </tr>\n",
       "    <tr>\n",
       "      <th>36</th>\n",
       "      <td>0.607398</td>\n",
       "      <td>season premiere hit television drama PROPN fea...</td>\n",
       "      <td>0</td>\n",
       "      <td>1</td>\n",
       "    </tr>\n",
       "    <tr>\n",
       "      <th>37</th>\n",
       "      <td>0.397891</td>\n",
       "      <td>PROPN PROPN PROPN PROPN call PROPN PROPN weeke...</td>\n",
       "      <td>1</td>\n",
       "      <td>0</td>\n",
       "    </tr>\n",
       "    <tr>\n",
       "      <th>48</th>\n",
       "      <td>0.423860</td>\n",
       "      <td>PROPN probably see bumper sticker , ? Don?t li...</td>\n",
       "      <td>1</td>\n",
       "      <td>0</td>\n",
       "    </tr>\n",
       "    <tr>\n",
       "      <th>53</th>\n",
       "      <td>0.369392</td>\n",
       "      <td>PROPN rerun age include probably major politic...</td>\n",
       "      <td>1</td>\n",
       "      <td>0</td>\n",
       "    </tr>\n",
       "    <tr>\n",
       "      <th>58</th>\n",
       "      <td>0.704404</td>\n",
       "      <td>protest shake city PROPN night injure sixtee...</td>\n",
       "      <td>0</td>\n",
       "      <td>1</td>\n",
       "    </tr>\n",
       "    <tr>\n",
       "      <th>59</th>\n",
       "      <td>0.543296</td>\n",
       "      <td>host PROPN &amp; PROPN hope PROPN police chief vil...</td>\n",
       "      <td>0</td>\n",
       "      <td>1</td>\n",
       "    </tr>\n",
       "    <tr>\n",
       "      <th>65</th>\n",
       "      <td>0.565455</td>\n",
       "      <td>video capture moment lead follow fatal police ...</td>\n",
       "      <td>0</td>\n",
       "      <td>1</td>\n",
       "    </tr>\n",
       "    <tr>\n",
       "      <th>89</th>\n",
       "      <td>0.448590</td>\n",
       "      <td>PROPN PROPN PROPN decide endorse PROPN . ? s P...</td>\n",
       "      <td>1</td>\n",
       "      <td>0</td>\n",
       "    </tr>\n",
       "    <tr>\n",
       "      <th>90</th>\n",
       "      <td>0.574801</td>\n",
       "      <td>celebrity file divorce , shock rest ! see coup...</td>\n",
       "      <td>0</td>\n",
       "      <td>1</td>\n",
       "    </tr>\n",
       "    <tr>\n",
       "      <th>94</th>\n",
       "      <td>0.562643</td>\n",
       "      <td>video : easy rat wiggle toilet read - - wall n...</td>\n",
       "      <td>0</td>\n",
       "      <td>1</td>\n",
       "    </tr>\n",
       "    <tr>\n",
       "      <th>95</th>\n",
       "      <td>0.517720</td>\n",
       "      <td>share PROPN PROPN address : leave field human ...</td>\n",
       "      <td>0</td>\n",
       "      <td>1</td>\n",
       "    </tr>\n",
       "    <tr>\n",
       "      <th>106</th>\n",
       "      <td>0.419396</td>\n",
       "      <td>federal prosecutor begin bridgegatecriminal ...</td>\n",
       "      <td>1</td>\n",
       "      <td>0</td>\n",
       "    </tr>\n",
       "    <tr>\n",
       "      <th>111</th>\n",
       "      <td>0.735556</td>\n",
       "      <td>PROPN ? PROPN simmon : ? want win PROPN PROPN ...</td>\n",
       "      <td>0</td>\n",
       "      <td>1</td>\n",
       "    </tr>\n",
       "    <tr>\n",
       "      <th>113</th>\n",
       "      <td>0.307657</td>\n",
       "      <td>exposed : PROPN fund fake veteran ? PROPN trum...</td>\n",
       "      <td>1</td>\n",
       "      <td>0</td>\n",
       "    </tr>\n",
       "    <tr>\n",
       "      <th>116</th>\n",
       "      <td>0.326306</td>\n",
       "      <td>PROPN number backer PROPN PROPN secretive da...</td>\n",
       "      <td>1</td>\n",
       "      <td>0</td>\n",
       "    </tr>\n",
       "    <tr>\n",
       "      <th>118</th>\n",
       "      <td>0.688401</td>\n",
       "      <td>PROPN right , bomb suspect detail release ! bo...</td>\n",
       "      <td>0</td>\n",
       "      <td>1</td>\n",
       "    </tr>\n",
       "    <tr>\n",
       "      <th>120</th>\n",
       "      <td>0.528883</td>\n",
       "      <td>critically wound PROPN PROPN endure PROPN PROP...</td>\n",
       "      <td>0</td>\n",
       "      <td>1</td>\n",
       "    </tr>\n",
       "    <tr>\n",
       "      <th>134</th>\n",
       "      <td>0.552121</td>\n",
       "      <td>black PROPN hate PROPN , sister kill change ? ...</td>\n",
       "      <td>0</td>\n",
       "      <td>1</td>\n",
       "    </tr>\n",
       "    <tr>\n",
       "      <th>137</th>\n",
       "      <td>0.518295</td>\n",
       "      <td>significant event occur PROPN PROPN week . PRO...</td>\n",
       "      <td>0</td>\n",
       "      <td>1</td>\n",
       "    </tr>\n",
       "    <tr>\n",
       "      <th>149</th>\n",
       "      <td>0.689338</td>\n",
       "      <td>remember mediause report fact ? oh , heady day...</td>\n",
       "      <td>0</td>\n",
       "      <td>1</td>\n",
       "    </tr>\n",
       "    <tr>\n",
       "      <th>161</th>\n",
       "      <td>0.522330</td>\n",
       "      <td>tune presidential debate night , know PROPN PR...</td>\n",
       "      <td>0</td>\n",
       "      <td>1</td>\n",
       "    </tr>\n",
       "    <tr>\n",
       "      <th>162</th>\n",
       "      <td>0.232639</td>\n",
       "      <td>PROPN , PROPN PROPN   PROPN PROPN step debate ...</td>\n",
       "      <td>1</td>\n",
       "      <td>0</td>\n",
       "    </tr>\n",
       "    <tr>\n",
       "      <th>170</th>\n",
       "      <td>0.794172</td>\n",
       "      <td>PROPN claim personal PROPN PROPN vote PROPN [ ...</td>\n",
       "      <td>0</td>\n",
       "      <td>1</td>\n",
       "    </tr>\n",
       "    <tr>\n",
       "      <th>178</th>\n",
       "      <td>0.512885</td>\n",
       "      <td>liberal medium political arena think PROPN vic...</td>\n",
       "      <td>0</td>\n",
       "      <td>1</td>\n",
       "    </tr>\n",
       "    <tr>\n",
       "      <th>181</th>\n",
       "      <td>0.576335</td>\n",
       "      <td>PROPN PROPN REVEAL say PROPN man moment shoot ...</td>\n",
       "      <td>0</td>\n",
       "      <td>1</td>\n",
       "    </tr>\n",
       "    <tr>\n",
       "      <th>182</th>\n",
       "      <td>0.530828</td>\n",
       "      <td>case think todaycouldn weird , PROPN support...</td>\n",
       "      <td>0</td>\n",
       "      <td>1</td>\n",
       "    </tr>\n",
       "    <tr>\n",
       "      <th>185</th>\n",
       "      <td>0.507398</td>\n",
       "      <td>PROPN PROPN , winner reality television \" PROP...</td>\n",
       "      <td>0</td>\n",
       "      <td>1</td>\n",
       "    </tr>\n",
       "    <tr>\n",
       "      <th>187</th>\n",
       "      <td>0.510488</td>\n",
       "      <td>word get PROPN PROPN PROPN go picket PROPN fun...</td>\n",
       "      <td>0</td>\n",
       "      <td>1</td>\n",
       "    </tr>\n",
       "    <tr>\n",
       "      <th>189</th>\n",
       "      <td>0.497239</td>\n",
       "      <td>PROPN perish : PROPN demand PROPN american fre...</td>\n",
       "      <td>1</td>\n",
       "      <td>0</td>\n",
       "    </tr>\n",
       "    <tr>\n",
       "      <th>198</th>\n",
       "      <td>0.575697</td>\n",
       "      <td>presidential nominee 1976 release tax return...</td>\n",
       "      <td>0</td>\n",
       "      <td>1</td>\n",
       "    </tr>\n",
       "    <tr>\n",
       "      <th>208</th>\n",
       "      <td>0.385855</td>\n",
       "      <td>hardworke farmer go PROPN reality \" PROPN PROP...</td>\n",
       "      <td>1</td>\n",
       "      <td>0</td>\n",
       "    </tr>\n",
       "    <tr>\n",
       "      <th>227</th>\n",
       "      <td>0.444101</td>\n",
       "      <td>PROPN warpath right andit tear PROPN social me...</td>\n",
       "      <td>1</td>\n",
       "      <td>0</td>\n",
       "    </tr>\n",
       "    <tr>\n",
       "      <th>231</th>\n",
       "      <td>0.609227</td>\n",
       "      <td>disturbing . PROPN PROPN PROPN , man kill poli...</td>\n",
       "      <td>0</td>\n",
       "      <td>1</td>\n",
       "    </tr>\n",
       "    <tr>\n",
       "      <th>237</th>\n",
       "      <td>0.387897</td>\n",
       "      <td>PROPN PROPN : PROPN PROPN PROPN PROPN , crooke...</td>\n",
       "      <td>1</td>\n",
       "      <td>0</td>\n",
       "    </tr>\n",
       "    <tr>\n",
       "      <th>241</th>\n",
       "      <td>0.426426</td>\n",
       "      <td>PROPN PROPN PROPN PROPN pay PROPN PROPN reason...</td>\n",
       "      <td>1</td>\n",
       "      <td>0</td>\n",
       "    </tr>\n",
       "    <tr>\n",
       "      <th>244</th>\n",
       "      <td>0.628579</td>\n",
       "      <td>PROPN PROPN : bomb find PROPN &amp; PROPN person [...</td>\n",
       "      <td>0</td>\n",
       "      <td>1</td>\n",
       "    </tr>\n",
       "    <tr>\n",
       "      <th>254</th>\n",
       "      <td>0.765704</td>\n",
       "      <td>PROPN start look like PROPN PROPN PROPN PROPN ...</td>\n",
       "      <td>0</td>\n",
       "      <td>1</td>\n",
       "    </tr>\n",
       "    <tr>\n",
       "      <th>259</th>\n",
       "      <td>0.558853</td>\n",
       "      <td>presidential election absolutely bizarre , som...</td>\n",
       "      <td>0</td>\n",
       "      <td>1</td>\n",
       "    </tr>\n",
       "    <tr>\n",
       "      <th>260</th>\n",
       "      <td>0.570592</td>\n",
       "      <td>woman catch take selfie backside public park (...</td>\n",
       "      <td>0</td>\n",
       "      <td>1</td>\n",
       "    </tr>\n",
       "    <tr>\n",
       "      <th>262</th>\n",
       "      <td>0.354730</td>\n",
       "      <td>anticipation PROPN presidential debate partly ...</td>\n",
       "      <td>1</td>\n",
       "      <td>0</td>\n",
       "    </tr>\n",
       "    <tr>\n",
       "      <th>263</th>\n",
       "      <td>0.354752</td>\n",
       "      <td>interview PROPN , PROPN news station , PROPN P...</td>\n",
       "      <td>1</td>\n",
       "      <td>0</td>\n",
       "    </tr>\n",
       "    <tr>\n",
       "      <th>272</th>\n",
       "      <td>0.470227</td>\n",
       "      <td>wow ! bravo PROPN ! nail thistime ! ? notion ?...</td>\n",
       "      <td>1</td>\n",
       "      <td>0</td>\n",
       "    </tr>\n",
       "    <tr>\n",
       "      <th>273</th>\n",
       "      <td>0.353572</td>\n",
       "      <td>final speech worthless PROPN PROPN PROPN PROPN...</td>\n",
       "      <td>1</td>\n",
       "      <td>0</td>\n",
       "    </tr>\n",
       "    <tr>\n",
       "      <th>274</th>\n",
       "      <td>0.495239</td>\n",
       "      <td>PROPN PROPN PROPN ? PROPN get bad news ? ifyou...</td>\n",
       "      <td>1</td>\n",
       "      <td>0</td>\n",
       "    </tr>\n",
       "  </tbody>\n",
       "</table>\n",
       "</div>"
      ],
      "text/plain": [
       "     pred_probs                                             titles  \\\n",
       "2      0.374233  PROPN PROPN PROPN PROPN PROPN convert PROPN PR...   \n",
       "9      0.670234  key skill public speaker ability handle hostil...   \n",
       "25     0.382100  . okay , liberal say year . PROPN PROPN ( incr...   \n",
       "31     0.737858  pro - gun crowd love gun , respect . , case tr...   \n",
       "34     0.690900    call ? small government ? PROPN run state PR...   \n",
       "36     0.607398  season premiere hit television drama PROPN fea...   \n",
       "37     0.397891  PROPN PROPN PROPN PROPN call PROPN PROPN weeke...   \n",
       "48     0.423860  PROPN probably see bumper sticker , ? Don?t li...   \n",
       "53     0.369392  PROPN rerun age include probably major politic...   \n",
       "58     0.704404    protest shake city PROPN night injure sixtee...   \n",
       "59     0.543296  host PROPN & PROPN hope PROPN police chief vil...   \n",
       "65     0.565455  video capture moment lead follow fatal police ...   \n",
       "89     0.448590  PROPN PROPN PROPN decide endorse PROPN . ? s P...   \n",
       "90     0.574801  celebrity file divorce , shock rest ! see coup...   \n",
       "94     0.562643  video : easy rat wiggle toilet read - - wall n...   \n",
       "95     0.517720  share PROPN PROPN address : leave field human ...   \n",
       "106    0.419396    federal prosecutor begin bridgegatecriminal ...   \n",
       "111    0.735556  PROPN ? PROPN simmon : ? want win PROPN PROPN ...   \n",
       "113    0.307657  exposed : PROPN fund fake veteran ? PROPN trum...   \n",
       "116    0.326306    PROPN number backer PROPN PROPN secretive da...   \n",
       "118    0.688401  PROPN right , bomb suspect detail release ! bo...   \n",
       "120    0.528883  critically wound PROPN PROPN endure PROPN PROP...   \n",
       "134    0.552121  black PROPN hate PROPN , sister kill change ? ...   \n",
       "137    0.518295  significant event occur PROPN PROPN week . PRO...   \n",
       "149    0.689338  remember mediause report fact ? oh , heady day...   \n",
       "161    0.522330  tune presidential debate night , know PROPN PR...   \n",
       "162    0.232639  PROPN , PROPN PROPN   PROPN PROPN step debate ...   \n",
       "170    0.794172  PROPN claim personal PROPN PROPN vote PROPN [ ...   \n",
       "178    0.512885  liberal medium political arena think PROPN vic...   \n",
       "181    0.576335  PROPN PROPN REVEAL say PROPN man moment shoot ...   \n",
       "182    0.530828    case think todaycouldn weird , PROPN support...   \n",
       "185    0.507398  PROPN PROPN , winner reality television \" PROP...   \n",
       "187    0.510488  word get PROPN PROPN PROPN go picket PROPN fun...   \n",
       "189    0.497239  PROPN perish : PROPN demand PROPN american fre...   \n",
       "198    0.575697    presidential nominee 1976 release tax return...   \n",
       "208    0.385855  hardworke farmer go PROPN reality \" PROPN PROP...   \n",
       "227    0.444101  PROPN warpath right andit tear PROPN social me...   \n",
       "231    0.609227  disturbing . PROPN PROPN PROPN , man kill poli...   \n",
       "237    0.387897  PROPN PROPN : PROPN PROPN PROPN PROPN , crooke...   \n",
       "241    0.426426  PROPN PROPN PROPN PROPN pay PROPN PROPN reason...   \n",
       "244    0.628579  PROPN PROPN : bomb find PROPN & PROPN person [...   \n",
       "254    0.765704  PROPN start look like PROPN PROPN PROPN PROPN ...   \n",
       "259    0.558853  presidential election absolutely bizarre , som...   \n",
       "260    0.570592  woman catch take selfie backside public park (...   \n",
       "262    0.354730  anticipation PROPN presidential debate partly ...   \n",
       "263    0.354752  interview PROPN , PROPN news station , PROPN P...   \n",
       "272    0.470227  wow ! bravo PROPN ! nail thistime ! ? notion ?...   \n",
       "273    0.353572  final speech worthless PROPN PROPN PROPN PROPN...   \n",
       "274    0.495239  PROPN PROPN PROPN ? PROPN get bad news ? ifyou...   \n",
       "\n",
       "     true_values  predict  \n",
       "2              1        0  \n",
       "9              0        1  \n",
       "25             1        0  \n",
       "31             0        1  \n",
       "34             0        1  \n",
       "36             0        1  \n",
       "37             1        0  \n",
       "48             1        0  \n",
       "53             1        0  \n",
       "58             0        1  \n",
       "59             0        1  \n",
       "65             0        1  \n",
       "89             1        0  \n",
       "90             0        1  \n",
       "94             0        1  \n",
       "95             0        1  \n",
       "106            1        0  \n",
       "111            0        1  \n",
       "113            1        0  \n",
       "116            1        0  \n",
       "118            0        1  \n",
       "120            0        1  \n",
       "134            0        1  \n",
       "137            0        1  \n",
       "149            0        1  \n",
       "161            0        1  \n",
       "162            1        0  \n",
       "170            0        1  \n",
       "178            0        1  \n",
       "181            0        1  \n",
       "182            0        1  \n",
       "185            0        1  \n",
       "187            0        1  \n",
       "189            1        0  \n",
       "198            0        1  \n",
       "208            1        0  \n",
       "227            1        0  \n",
       "231            0        1  \n",
       "237            1        0  \n",
       "241            1        0  \n",
       "244            0        1  \n",
       "254            0        1  \n",
       "259            0        1  \n",
       "260            0        1  \n",
       "262            1        0  \n",
       "263            1        0  \n",
       "272            1        0  \n",
       "273            1        0  \n",
       "274            1        0  "
      ]
     },
     "execution_count": 26,
     "metadata": {},
     "output_type": "execute_result"
    }
   ],
   "source": [
    "misclass"
   ]
  },
  {
   "cell_type": "code",
   "execution_count": 27,
   "metadata": {
    "ExecuteTime": {
     "end_time": "2019-12-04T15:11:35.371814Z",
     "start_time": "2019-12-04T15:11:35.359503Z"
    }
   },
   "outputs": [],
   "source": [
    "fp=misclass[misclass['true_values']==1]['titles']\n",
    "fn=misclass[misclass['true_values']==0]['titles']\n"
   ]
  },
  {
   "cell_type": "code",
   "execution_count": 28,
   "metadata": {
    "ExecuteTime": {
     "end_time": "2019-12-04T15:11:35.389552Z",
     "start_time": "2019-12-04T15:11:35.380306Z"
    }
   },
   "outputs": [],
   "source": [
    "corclass=pd.DataFrame(pred_df[pred_df['true_values']==pred_df['predict']])"
   ]
  },
  {
   "cell_type": "code",
   "execution_count": 29,
   "metadata": {
    "ExecuteTime": {
     "end_time": "2019-12-04T15:11:35.401458Z",
     "start_time": "2019-12-04T15:11:35.393163Z"
    }
   },
   "outputs": [],
   "source": [
    "tp=corclass[corclass['true_values']==1]['titles']\n",
    "tn=corclass[corclass['true_values']==0]['titles']\n"
   ]
  },
  {
   "cell_type": "code",
   "execution_count": 30,
   "metadata": {
    "ExecuteTime": {
     "end_time": "2019-12-04T15:11:40.239093Z",
     "start_time": "2019-12-04T15:11:35.406116Z"
    }
   },
   "outputs": [],
   "source": [
    "FPcloud=WordCloud(width=1080,height=720,background_color='white',stopwords=STOPWORDS,max_words=30,prefer_horizontal=True,regexp='(?u)\\\\b\\\\w\\\\w+\\\\b').generate(fp.sum())\n",
    "FNcloud=WordCloud(width=1080,height=720,background_color='white',stopwords=STOPWORDS,max_words=30,prefer_horizontal=True,regexp='(?u)\\\\b\\\\w\\\\w+\\\\b').generate(fn.sum())\n",
    "TPcloud=WordCloud(width=1080,height=720,background_color='white',stopwords=STOPWORDS,max_words=30,prefer_horizontal=True,regexp='(?u)\\\\b\\\\w\\\\w+\\\\b').generate(tp.sum())\n",
    "TNcloud=WordCloud(width=1080,height=720,background_color='white',stopwords=STOPWORDS,max_words=30,prefer_horizontal=True,regexp='(?u)\\\\b\\\\w\\\\w+\\\\b').generate(tn.sum())"
   ]
  },
  {
   "cell_type": "code",
   "execution_count": 31,
   "metadata": {
    "ExecuteTime": {
     "end_time": "2019-12-04T15:11:41.441460Z",
     "start_time": "2019-12-04T15:11:40.241487Z"
    }
   },
   "outputs": [
    {
     "data": {
      "image/png": "[encoded data removed]",
      "text/plain": [
       "<Figure size 1440x1152 with 4 Axes>"
      ]
     },
     "metadata": {
      "needs_background": "light"
     },
     "output_type": "display_data"
    }
   ],
   "source": [
    "\n",
    "ncols=2\n",
    "nrows=2\n",
    "fig,ax=plt.subplots(ncols=ncols,nrows=nrows,figsize=(ncols*10,8*nrows))\n",
    "ax=ax.ravel()\n",
    "cloudlist=[FPcloud,FNcloud,TPcloud,TNcloud]\n",
    "cloudtitles=['False Negatives','False Positives','True Positives','True Negatives']\n",
    "for n,axes in enumerate(ax):\n",
    "    axes.axis(\"off\")\n",
    "    axes.imshow(cloudlist[n], interpolation='bilinear')\n",
    "    axes.set_title(str(cloudtitles[n]),fontsize=30,pad=30)\n",
    "\n",
    "fig.suptitle('Top 30 words of each category',fontsize=36,)\n",
    "\n",
    "plt.show()"
   ]
  },
  {
   "cell_type": "markdown",
   "metadata": {},
   "source": [
    "**As we can see, the wordclouds for both types of misclassifications are very similiar**"
   ]
  },
  {
   "cell_type": "code",
   "execution_count": 32,
   "metadata": {
    "ExecuteTime": {
     "end_time": "2019-12-04T15:11:41.474891Z",
     "start_time": "2019-12-04T15:11:41.445638Z"
    }
   },
   "outputs": [],
   "source": [
    "topwords=pd.DataFrame()\n",
    "for n,x in enumerate(cloudlist):\n",
    "    \n",
    "    topwords[cloudtitles[n]]=list(x.words_)[:10]\n",
    "    topwords[cloudtitles[n]+'_freq']=list(x.words_.values())[:10]"
   ]
  },
  {
   "cell_type": "markdown",
   "metadata": {
    "ExecuteTime": {
     "end_time": "2019-12-03T12:28:53.660186Z",
     "start_time": "2019-12-03T12:28:53.653135Z"
    }
   },
   "source": [
    "#### Top 10 ngrams of each group\n",
    "\n",
    "****"
   ]
  },
  {
   "cell_type": "code",
   "execution_count": 33,
   "metadata": {
    "ExecuteTime": {
     "end_time": "2019-12-04T15:11:41.515959Z",
     "start_time": "2019-12-04T15:11:41.483131Z"
    }
   },
   "outputs": [
    {
     "data": {
      "text/html": [
       "<div>\n",
       "<style scoped>\n",
       "    .dataframe tbody tr th:only-of-type {\n",
       "        vertical-align: middle;\n",
       "    }\n",
       "\n",
       "    .dataframe tbody tr th {\n",
       "        vertical-align: top;\n",
       "    }\n",
       "\n",
       "    .dataframe thead th {\n",
       "        text-align: right;\n",
       "    }\n",
       "</style>\n",
       "<table border=\"1\" class=\"dataframe\">\n",
       "  <thead>\n",
       "    <tr style=\"text-align: right;\">\n",
       "      <th></th>\n",
       "      <th>False Negatives</th>\n",
       "      <th>False Negatives_freq</th>\n",
       "      <th>False Positives</th>\n",
       "      <th>False Positives_freq</th>\n",
       "      <th>True Positives</th>\n",
       "      <th>True Positives_freq</th>\n",
       "      <th>True Negatives</th>\n",
       "      <th>True Negatives_freq</th>\n",
       "    </tr>\n",
       "  </thead>\n",
       "  <tbody>\n",
       "    <tr>\n",
       "      <th>0</th>\n",
       "      <td>PROPN PROPN</td>\n",
       "      <td>1.000</td>\n",
       "      <td>PROPN PROPN</td>\n",
       "      <td>1.000000</td>\n",
       "      <td>PROPN PROPN</td>\n",
       "      <td>1.000000</td>\n",
       "      <td>PROPN PROPN</td>\n",
       "      <td>1.000000</td>\n",
       "    </tr>\n",
       "    <tr>\n",
       "      <th>1</th>\n",
       "      <td>PROPN</td>\n",
       "      <td>0.400</td>\n",
       "      <td>PROPN</td>\n",
       "      <td>0.237762</td>\n",
       "      <td>PROPN</td>\n",
       "      <td>0.344221</td>\n",
       "      <td>PROPN say</td>\n",
       "      <td>0.049789</td>\n",
       "    </tr>\n",
       "    <tr>\n",
       "      <th>2</th>\n",
       "      <td>say</td>\n",
       "      <td>0.130</td>\n",
       "      <td>people</td>\n",
       "      <td>0.087413</td>\n",
       "      <td>people</td>\n",
       "      <td>0.071608</td>\n",
       "      <td>say</td>\n",
       "      <td>0.047579</td>\n",
       "    </tr>\n",
       "    <tr>\n",
       "      <th>3</th>\n",
       "      <td>debate</td>\n",
       "      <td>0.072</td>\n",
       "      <td>say</td>\n",
       "      <td>0.073427</td>\n",
       "      <td>say</td>\n",
       "      <td>0.070352</td>\n",
       "      <td>campaign</td>\n",
       "      <td>0.026000</td>\n",
       "    </tr>\n",
       "    <tr>\n",
       "      <th>4</th>\n",
       "      <td>people</td>\n",
       "      <td>0.052</td>\n",
       "      <td>police</td>\n",
       "      <td>0.061189</td>\n",
       "      <td>time</td>\n",
       "      <td>0.056533</td>\n",
       "      <td>debate</td>\n",
       "      <td>0.021789</td>\n",
       "    </tr>\n",
       "    <tr>\n",
       "      <th>5</th>\n",
       "      <td>year</td>\n",
       "      <td>0.050</td>\n",
       "      <td>video</td>\n",
       "      <td>0.057692</td>\n",
       "      <td>know</td>\n",
       "      <td>0.056533</td>\n",
       "      <td>go</td>\n",
       "      <td>0.021158</td>\n",
       "    </tr>\n",
       "    <tr>\n",
       "      <th>6</th>\n",
       "      <td>attack</td>\n",
       "      <td>0.050</td>\n",
       "      <td>know</td>\n",
       "      <td>0.050699</td>\n",
       "      <td>go</td>\n",
       "      <td>0.047739</td>\n",
       "      <td>know</td>\n",
       "      <td>0.019053</td>\n",
       "    </tr>\n",
       "    <tr>\n",
       "      <th>7</th>\n",
       "      <td>want</td>\n",
       "      <td>0.040</td>\n",
       "      <td>want</td>\n",
       "      <td>0.048951</td>\n",
       "      <td>right</td>\n",
       "      <td>0.042714</td>\n",
       "      <td>time</td>\n",
       "      <td>0.018737</td>\n",
       "    </tr>\n",
       "    <tr>\n",
       "      <th>8</th>\n",
       "      <td>call</td>\n",
       "      <td>0.040</td>\n",
       "      <td>gun</td>\n",
       "      <td>0.043706</td>\n",
       "      <td>want</td>\n",
       "      <td>0.041457</td>\n",
       "      <td>photo PROPN</td>\n",
       "      <td>0.018632</td>\n",
       "    </tr>\n",
       "    <tr>\n",
       "      <th>9</th>\n",
       "      <td>campaign</td>\n",
       "      <td>0.038</td>\n",
       "      <td>time</td>\n",
       "      <td>0.041958</td>\n",
       "      <td>tell</td>\n",
       "      <td>0.037688</td>\n",
       "      <td>million</td>\n",
       "      <td>0.018211</td>\n",
       "    </tr>\n",
       "  </tbody>\n",
       "</table>\n",
       "</div>"
      ],
      "text/plain": [
       "  False Negatives  False Negatives_freq False Positives  False Positives_freq  \\\n",
       "0     PROPN PROPN                 1.000     PROPN PROPN              1.000000   \n",
       "1           PROPN                 0.400           PROPN              0.237762   \n",
       "2             say                 0.130          people              0.087413   \n",
       "3          debate                 0.072             say              0.073427   \n",
       "4          people                 0.052          police              0.061189   \n",
       "5            year                 0.050           video              0.057692   \n",
       "6          attack                 0.050            know              0.050699   \n",
       "7            want                 0.040            want              0.048951   \n",
       "8            call                 0.040             gun              0.043706   \n",
       "9        campaign                 0.038            time              0.041958   \n",
       "\n",
       "  True Positives  True Positives_freq True Negatives  True Negatives_freq  \n",
       "0    PROPN PROPN             1.000000    PROPN PROPN             1.000000  \n",
       "1          PROPN             0.344221      PROPN say             0.049789  \n",
       "2         people             0.071608            say             0.047579  \n",
       "3            say             0.070352       campaign             0.026000  \n",
       "4           time             0.056533         debate             0.021789  \n",
       "5           know             0.056533             go             0.021158  \n",
       "6             go             0.047739           know             0.019053  \n",
       "7          right             0.042714           time             0.018737  \n",
       "8           want             0.041457    photo PROPN             0.018632  \n",
       "9           tell             0.037688        million             0.018211  "
      ]
     },
     "execution_count": 33,
     "metadata": {},
     "output_type": "execute_result"
    }
   ],
   "source": [
    "topwords"
   ]
  },
  {
   "cell_type": "markdown",
   "metadata": {},
   "source": [
    "### Coefficient Analysis"
   ]
  },
  {
   "cell_type": "code",
   "execution_count": 34,
   "metadata": {
    "ExecuteTime": {
     "end_time": "2019-12-04T15:11:41.534193Z",
     "start_time": "2019-12-04T15:11:41.519223Z"
    },
    "colab": {},
    "colab_type": "code",
    "id": "PnUqMK4AOe1z"
   },
   "outputs": [],
   "source": [
    "coef=pipe.steps[2][1].coef_[0]"
   ]
  },
  {
   "cell_type": "code",
   "execution_count": 35,
   "metadata": {
    "ExecuteTime": {
     "end_time": "2019-12-04T15:11:41.562627Z",
     "start_time": "2019-12-04T15:11:41.537146Z"
    },
    "colab": {},
    "colab_type": "code",
    "id": "DyqbXV1sOe11"
   },
   "outputs": [],
   "source": [
    "features=pipe.steps[0][1].get_feature_names()"
   ]
  },
  {
   "cell_type": "code",
   "execution_count": 36,
   "metadata": {
    "ExecuteTime": {
     "end_time": "2019-12-04T15:11:41.651648Z",
     "start_time": "2019-12-04T15:11:41.567323Z"
    },
    "colab": {},
    "colab_type": "code",
    "id": "RwFO7QtOOe14",
    "outputId": "ed24b6fc-5d1d-4e4d-b152-073915ec6799"
   },
   "outputs": [],
   "source": [
    "Featdf=pd.DataFrame(zip(features,coef),columns=['Feature','Coefficient'])\n",
    "Featdf['Odds Story Fake']=Featdf['Coefficient'].apply(lambda x: np.exp(x))\n",
    "Featdf['Odds Story True']=Featdf['Coefficient'].apply(lambda x: 1/np.exp(x))"
   ]
  },
  {
   "cell_type": "code",
   "execution_count": 39,
   "metadata": {
    "ExecuteTime": {
     "end_time": "2019-12-04T15:12:27.078324Z",
     "start_time": "2019-12-04T15:12:27.057438Z"
    },
    "colab": {},
    "colab_type": "code",
    "id": "aIN4URBj5XA2",
    "outputId": "26b9f040-18af-4786-f228-833534569db6"
   },
   "outputs": [
    {
     "data": {
      "text/html": [
       "<div>\n",
       "<style scoped>\n",
       "    .dataframe tbody tr th:only-of-type {\n",
       "        vertical-align: middle;\n",
       "    }\n",
       "\n",
       "    .dataframe tbody tr th {\n",
       "        vertical-align: top;\n",
       "    }\n",
       "\n",
       "    .dataframe thead th {\n",
       "        text-align: right;\n",
       "    }\n",
       "</style>\n",
       "<table border=\"1\" class=\"dataframe\">\n",
       "  <thead>\n",
       "    <tr style=\"text-align: right;\">\n",
       "      <th></th>\n",
       "      <th>Feature</th>\n",
       "      <th>Odds Story True</th>\n",
       "    </tr>\n",
       "  </thead>\n",
       "  <tbody>\n",
       "    <tr>\n",
       "      <th>8012</th>\n",
       "      <td>say</td>\n",
       "      <td>23.951448</td>\n",
       "    </tr>\n",
       "    <tr>\n",
       "      <th>7068</th>\n",
       "      <td>propn say</td>\n",
       "      <td>10.209718</td>\n",
       "    </tr>\n",
       "    <tr>\n",
       "      <th>8697</th>\n",
       "      <td>story</td>\n",
       "      <td>6.433719</td>\n",
       "    </tr>\n",
       "    <tr>\n",
       "      <th>8075</th>\n",
       "      <td>say propn</td>\n",
       "      <td>4.693919</td>\n",
       "    </tr>\n",
       "    <tr>\n",
       "      <th>8698</th>\n",
       "      <td>story continue</td>\n",
       "      <td>3.820493</td>\n",
       "    </tr>\n",
       "    <tr>\n",
       "      <th>8699</th>\n",
       "      <td>story highlight</td>\n",
       "      <td>3.803722</td>\n",
       "    </tr>\n",
       "    <tr>\n",
       "      <th>1257</th>\n",
       "      <td>campaign</td>\n",
       "      <td>3.705802</td>\n",
       "    </tr>\n",
       "    <tr>\n",
       "      <th>9959</th>\n",
       "      <td>year</td>\n",
       "      <td>3.427337</td>\n",
       "    </tr>\n",
       "    <tr>\n",
       "      <th>3669</th>\n",
       "      <td>highlight</td>\n",
       "      <td>2.968600</td>\n",
       "    </tr>\n",
       "    <tr>\n",
       "      <th>160</th>\n",
       "      <td>2015</td>\n",
       "      <td>2.960766</td>\n",
       "    </tr>\n",
       "  </tbody>\n",
       "</table>\n",
       "</div>"
      ],
      "text/plain": [
       "              Feature  Odds Story True\n",
       "8012              say        23.951448\n",
       "7068        propn say        10.209718\n",
       "8697            story         6.433719\n",
       "8075        say propn         4.693919\n",
       "8698   story continue         3.820493\n",
       "8699  story highlight         3.803722\n",
       "1257         campaign         3.705802\n",
       "9959             year         3.427337\n",
       "3669        highlight         2.968600\n",
       "160              2015         2.960766"
      ]
     },
     "execution_count": 39,
     "metadata": {},
     "output_type": "execute_result"
    }
   ],
   "source": [
    "Featdf[['Feature','Odds Story True']].sort_values('Odds Story True',ascending=False)[:10]"
   ]
  },
  {
   "cell_type": "markdown",
   "metadata": {},
   "source": [
    "One thing that stands out to me is the occurrence of the word \"say\"/\"propn say\", that appears to be quite an important indicator of whether a story is true. This could be a sign of more objective reporting.\n",
    "\n",
    "Other parts, such as \"story highlight\" and \"story continue\" may be characteristics of a particular news network that escaped scrubbing."
   ]
  },
  {
   "cell_type": "code",
   "execution_count": 40,
   "metadata": {
    "ExecuteTime": {
     "end_time": "2019-12-04T15:12:38.888894Z",
     "start_time": "2019-12-04T15:12:38.869515Z"
    },
    "colab": {},
    "colab_type": "code",
    "id": "4nQMkoVrOe2K",
    "outputId": "dad45c86-472e-4848-d85a-166956dd5601",
    "scrolled": false
   },
   "outputs": [
    {
     "data": {
      "text/html": [
       "<div>\n",
       "<style scoped>\n",
       "    .dataframe tbody tr th:only-of-type {\n",
       "        vertical-align: middle;\n",
       "    }\n",
       "\n",
       "    .dataframe tbody tr th {\n",
       "        vertical-align: top;\n",
       "    }\n",
       "\n",
       "    .dataframe thead th {\n",
       "        text-align: right;\n",
       "    }\n",
       "</style>\n",
       "<table border=\"1\" class=\"dataframe\">\n",
       "  <thead>\n",
       "    <tr style=\"text-align: right;\">\n",
       "      <th></th>\n",
       "      <th>Feature</th>\n",
       "      <th>Odds Story Fake</th>\n",
       "    </tr>\n",
       "  </thead>\n",
       "  <tbody>\n",
       "    <tr>\n",
       "      <th>1586</th>\n",
       "      <td>com</td>\n",
       "      <td>4.949081</td>\n",
       "    </tr>\n",
       "    <tr>\n",
       "      <th>3495</th>\n",
       "      <td>gun</td>\n",
       "      <td>4.668997</td>\n",
       "    </tr>\n",
       "    <tr>\n",
       "      <th>9046</th>\n",
       "      <td>terrorist</td>\n",
       "      <td>4.298837</td>\n",
       "    </tr>\n",
       "    <tr>\n",
       "      <th>9669</th>\n",
       "      <td>vote</td>\n",
       "      <td>3.534047</td>\n",
       "    </tr>\n",
       "    <tr>\n",
       "      <th>4412</th>\n",
       "      <td>let</td>\n",
       "      <td>3.532923</td>\n",
       "    </tr>\n",
       "    <tr>\n",
       "      <th>9676</th>\n",
       "      <td>vote propn</td>\n",
       "      <td>3.464942</td>\n",
       "    </tr>\n",
       "    <tr>\n",
       "      <th>4734</th>\n",
       "      <td>matter</td>\n",
       "      <td>3.241747</td>\n",
       "    </tr>\n",
       "    <tr>\n",
       "      <th>2846</th>\n",
       "      <td>explosion</td>\n",
       "      <td>3.190259</td>\n",
       "    </tr>\n",
       "    <tr>\n",
       "      <th>4444</th>\n",
       "      <td>lie</td>\n",
       "      <td>2.957303</td>\n",
       "    </tr>\n",
       "    <tr>\n",
       "      <th>1991</th>\n",
       "      <td>criminal</td>\n",
       "      <td>2.801439</td>\n",
       "    </tr>\n",
       "  </tbody>\n",
       "</table>\n",
       "</div>"
      ],
      "text/plain": [
       "         Feature  Odds Story Fake\n",
       "1586         com         4.949081\n",
       "3495         gun         4.668997\n",
       "9046   terrorist         4.298837\n",
       "9669        vote         3.534047\n",
       "4412         let         3.532923\n",
       "9676  vote propn         3.464942\n",
       "4734      matter         3.241747\n",
       "2846   explosion         3.190259\n",
       "4444         lie         2.957303\n",
       "1991    criminal         2.801439"
      ]
     },
     "execution_count": 40,
     "metadata": {},
     "output_type": "execute_result"
    }
   ],
   "source": [
    "Featdf[['Feature','Odds Story Fake']].sort_values('Odds Story Fake',ascending=False)[:10]"
   ]
  },
  {
   "cell_type": "markdown",
   "metadata": {},
   "source": [
    "Words that greatly increase the odds of it being a fake news story includes many hotly debated topics:  \n",
    "\n",
    "*gun,  -> gun-control  \n",
    "terrorist,  -> terrorism  \n",
    "vote,  -> elections  \n",
    "lie,  -> ironic, but yes accusing someone of lying has a high chance of being fake news  \n",
    "american,  -> interesting, does this coincide with patriotism?  \n",
    "vote propn(proper noun) -> again elections \n",
    "criminal -> crime*  \n",
    "\n",
    "This could be a good indicator as to where to look for fake news stories: **hotly debated and controversial topics**."
   ]
  },
  {
   "cell_type": "markdown",
   "metadata": {
    "colab_type": "text",
    "id": "zWcEtwOJOe08"
   },
   "source": [
    "## Parts of Speech Model\n",
    "**Just as an interest thing, I wanted to see if I could differentiate**"
   ]
  },
  {
   "cell_type": "markdown",
   "metadata": {},
   "source": [
    "### Train Model"
   ]
  },
  {
   "cell_type": "code",
   "execution_count": 45,
   "metadata": {
    "ExecuteTime": {
     "end_time": "2019-12-03T19:17:24.416949Z",
     "start_time": "2019-12-03T19:17:24.405069Z"
    },
    "colab": {},
    "colab_type": "code",
    "id": "CFJ6j6uz5XB5",
    "scrolled": true
   },
   "outputs": [
    {
     "data": {
      "text/plain": [
       "0       SPACE DET ADJ NOUN ADV PROPN ADJ NOUN VERB ADP...\n",
       "1       SPACE DET NOUN ADP ADP NUM ADJ NOUN NOUN CCONJ...\n",
       "2       SPACE DET ADJ NOUN AUX VERB SCONJ PROPN ADJ NO...\n",
       "3       SPACE DET ADJ NOUN AUX VERB ADP DET NOUN ADV C...\n",
       "4       SPACE DET NUM NUM NOUN ADJ PROPN PROPN PROPN N...\n",
       "                              ...                        \n",
       "1375    PRON AUX VERB NUM CCONJ ADJ ADP DET NOUN ADP P...\n",
       "1376    PUNCT VERB SCONJ VERB ADP DET NOUN ADP DET NUM...\n",
       "1377    PROPN DET ADJ NOUN ADP DET ADJ NOUN PRON AUX V...\n",
       "1378    PROPN VERB PART VERB PROPN PROPN DET ADJ PROPN...\n",
       "1379    PROPN ADV VERB DET NOUN NOUN PRON VERB VERB IN...\n",
       "Name: spacy_pos2, Length: 1380, dtype: object"
      ]
     },
     "execution_count": 45,
     "metadata": {},
     "output_type": "execute_result"
    }
   ],
   "source": [
    "df['spacy_pos2']"
   ]
  },
  {
   "cell_type": "code",
   "execution_count": 67,
   "metadata": {
    "ExecuteTime": {
     "end_time": "2019-12-04T13:09:19.495165Z",
     "start_time": "2019-12-04T13:09:19.484641Z"
    },
    "colab": {},
    "colab_type": "code",
    "id": "kNYFsOYi5XB7"
   },
   "outputs": [],
   "source": [
    "X=df['spacy_pos2']\n",
    "y=df['target']\n",
    "\n",
    "X_train,X_test,y_train,y_test=train_test_split(X,y,stratify=y,random_state=23,test_size=0.2)"
   ]
  },
  {
   "cell_type": "code",
   "execution_count": 68,
   "metadata": {
    "ExecuteTime": {
     "end_time": "2019-12-04T13:09:22.091656Z",
     "start_time": "2019-12-04T13:09:19.757006Z"
    },
    "colab": {},
    "colab_type": "code",
    "id": "YFn2HE965XCF",
    "scrolled": true
   },
   "outputs": [
    {
     "name": "stderr",
     "output_type": "stream",
     "text": [
      "/Users/apple/anaconda3/lib/python3.7/site-packages/sklearn/linear_model/logistic.py:432: FutureWarning: Default solver will be changed to 'lbfgs' in 0.22. Specify a solver to silence this warning.\n",
      "  FutureWarning)\n"
     ]
    },
    {
     "data": {
      "text/plain": [
       "Pipeline(memory=None,\n",
       "         steps=[('tfidfvectorizer',\n",
       "                 TfidfVectorizer(analyzer='word', binary=False,\n",
       "                                 decode_error='strict',\n",
       "                                 dtype=<class 'numpy.float64'>,\n",
       "                                 encoding='utf-8', input='content',\n",
       "                                 lowercase=True, max_df=0.95,\n",
       "                                 max_features=50000, min_df=2,\n",
       "                                 ngram_range=(1, 3), norm='l2',\n",
       "                                 preprocessor=None, smooth_idf=True,\n",
       "                                 stop_words=None, strip_accents=None,\n",
       "                                 sublinear_tf=False,\n",
       "                                 tok...\n",
       "                       out_step='deprecated', random_state=77, ratio=None,\n",
       "                       sampling_strategy='auto', svm_estimator='deprecated')),\n",
       "                ('logisticregression',\n",
       "                 LogisticRegression(C=1, class_weight=None, dual=False,\n",
       "                                    fit_intercept=True, intercept_scaling=1,\n",
       "                                    l1_ratio=None, max_iter=100,\n",
       "                                    multi_class='warn', n_jobs=None,\n",
       "                                    penalty='l2', random_state=None,\n",
       "                                    solver='warn', tol=0.0001, verbose=0,\n",
       "                                    warm_start=False))],\n",
       "         verbose=False)"
      ]
     },
     "execution_count": 68,
     "metadata": {},
     "output_type": "execute_result"
    }
   ],
   "source": [
    "\n",
    "X_train,X_test,y_train,y_test=train_test_split(X,y,stratify=y,random_state=23)\n",
    "\n",
    "lr=LogisticRegression(C=1)\n",
    "tvec=TfidfVectorizer(max_df=0.95,min_df=2,ngram_range=(1,3),max_features=50000)\n",
    "smote=SMOTE(random_state=77)\n",
    "\n",
    "pipepos=make_pipeline(tvec,smote,lr)\n",
    "pipepos.fit(X_train,y_train)\n"
   ]
  },
  {
   "cell_type": "markdown",
   "metadata": {},
   "source": [
    "### Assess Model"
   ]
  },
  {
   "cell_type": "code",
   "execution_count": 69,
   "metadata": {
    "ExecuteTime": {
     "end_time": "2019-12-04T13:09:22.692702Z",
     "start_time": "2019-12-04T13:09:22.095344Z"
    },
    "colab": {},
    "colab_type": "code",
    "id": "uKUpWTTV5XCJ"
   },
   "outputs": [
    {
     "data": {
      "text/html": [
       "<div>\n",
       "<style scoped>\n",
       "    .dataframe tbody tr th:only-of-type {\n",
       "        vertical-align: middle;\n",
       "    }\n",
       "\n",
       "    .dataframe tbody tr th {\n",
       "        vertical-align: top;\n",
       "    }\n",
       "\n",
       "    .dataframe thead th {\n",
       "        text-align: right;\n",
       "    }\n",
       "</style>\n",
       "<table border=\"1\" class=\"dataframe\">\n",
       "  <thead>\n",
       "    <tr style=\"text-align: right;\">\n",
       "      <th></th>\n",
       "      <th>Predicted Real</th>\n",
       "      <th>Predicted Fake</th>\n",
       "    </tr>\n",
       "    <tr>\n",
       "      <th>index</th>\n",
       "      <th></th>\n",
       "      <th></th>\n",
       "    </tr>\n",
       "  </thead>\n",
       "  <tbody>\n",
       "    <tr>\n",
       "      <th>Real Real</th>\n",
       "      <td>208</td>\n",
       "      <td>64</td>\n",
       "    </tr>\n",
       "    <tr>\n",
       "      <th>Real Fake</th>\n",
       "      <td>35</td>\n",
       "      <td>38</td>\n",
       "    </tr>\n",
       "  </tbody>\n",
       "</table>\n",
       "</div>"
      ],
      "text/plain": [
       "           Predicted Real  Predicted Fake\n",
       "index                                    \n",
       "Real Real             208              64\n",
       "Real Fake              35              38"
      ]
     },
     "metadata": {},
     "output_type": "display_data"
    },
    {
     "name": "stdout",
     "output_type": "stream",
     "text": [
      "{'accuracy': 0.7130434782608696, 'f': 0.43428571428571433, 'precision': 0.37254901960784315, 'recall': 0.5205479452054794, 'fprate': 0.23529411764705888, 'tprate': 0.5205479452054794, 'tprate/fprate': 2.212328767123287}\n"
     ]
    }
   ],
   "source": [
    "\n",
    "pred_df=assess_model(pipepos,X_test,y_test,0.5)"
   ]
  },
  {
   "cell_type": "code",
   "execution_count": 70,
   "metadata": {
    "ExecuteTime": {
     "end_time": "2019-12-04T13:09:22.725409Z",
     "start_time": "2019-12-04T13:09:22.700051Z"
    },
    "colab": {},
    "colab_type": "code",
    "id": "3JIlrzsFOe1Q",
    "scrolled": false
   },
   "outputs": [
    {
     "data": {
      "text/html": [
       "<div>\n",
       "<style scoped>\n",
       "    .dataframe tbody tr th:only-of-type {\n",
       "        vertical-align: middle;\n",
       "    }\n",
       "\n",
       "    .dataframe tbody tr th {\n",
       "        vertical-align: top;\n",
       "    }\n",
       "\n",
       "    .dataframe thead th {\n",
       "        text-align: right;\n",
       "    }\n",
       "</style>\n",
       "<table border=\"1\" class=\"dataframe\">\n",
       "  <thead>\n",
       "    <tr style=\"text-align: right;\">\n",
       "      <th></th>\n",
       "      <th>pred_probs</th>\n",
       "      <th>titles</th>\n",
       "      <th>true_values</th>\n",
       "      <th>predict</th>\n",
       "    </tr>\n",
       "  </thead>\n",
       "  <tbody>\n",
       "    <tr>\n",
       "      <th>0</th>\n",
       "      <td>0.434875</td>\n",
       "      <td>NUM NOUN AUX VERB CCONJ ADJ NOUN AUX VERB ADP ...</td>\n",
       "      <td>0</td>\n",
       "      <td>0</td>\n",
       "    </tr>\n",
       "    <tr>\n",
       "      <th>1</th>\n",
       "      <td>0.357212</td>\n",
       "      <td>DET NOUN PRON VERB ADP DET ADJ NOUN ADP NOUN N...</td>\n",
       "      <td>0</td>\n",
       "      <td>0</td>\n",
       "    </tr>\n",
       "    <tr>\n",
       "      <th>2</th>\n",
       "      <td>0.180183</td>\n",
       "      <td>ADP DET PROPN PROPN NOUN ADJ PROPN PROPN NUM P...</td>\n",
       "      <td>0</td>\n",
       "      <td>0</td>\n",
       "    </tr>\n",
       "    <tr>\n",
       "      <th>3</th>\n",
       "      <td>0.381576</td>\n",
       "      <td>NOUN NOUN PROPN AUX VERB ADP DET NOUN ADP ADV ...</td>\n",
       "      <td>0</td>\n",
       "      <td>0</td>\n",
       "    </tr>\n",
       "    <tr>\n",
       "      <th>4</th>\n",
       "      <td>0.146194</td>\n",
       "      <td>DET ADP NOUN ADJ ADP NOUN NOUN NOUN AUX VERB A...</td>\n",
       "      <td>0</td>\n",
       "      <td>0</td>\n",
       "    </tr>\n",
       "    <tr>\n",
       "      <th>...</th>\n",
       "      <td>...</td>\n",
       "      <td>...</td>\n",
       "      <td>...</td>\n",
       "      <td>...</td>\n",
       "    </tr>\n",
       "    <tr>\n",
       "      <th>340</th>\n",
       "      <td>0.235631</td>\n",
       "      <td>ADP DET PROPN NUM NUM NOUN NOUN PROPN PROPN IN...</td>\n",
       "      <td>0</td>\n",
       "      <td>0</td>\n",
       "    </tr>\n",
       "    <tr>\n",
       "      <th>341</th>\n",
       "      <td>0.587792</td>\n",
       "      <td>PROPN NOUN AUX VERB ADP ADP PRON NUM ADP NUM C...</td>\n",
       "      <td>0</td>\n",
       "      <td>1</td>\n",
       "    </tr>\n",
       "    <tr>\n",
       "      <th>342</th>\n",
       "      <td>0.333818</td>\n",
       "      <td>PROPN PROPN VERB PRON AUX PART VERB ADV DET NO...</td>\n",
       "      <td>0</td>\n",
       "      <td>0</td>\n",
       "    </tr>\n",
       "    <tr>\n",
       "      <th>343</th>\n",
       "      <td>0.557130</td>\n",
       "      <td>NOUN ADP NOUN PROPN PART NOUN NOUN DET PROPN P...</td>\n",
       "      <td>0</td>\n",
       "      <td>1</td>\n",
       "    </tr>\n",
       "    <tr>\n",
       "      <th>344</th>\n",
       "      <td>0.513549</td>\n",
       "      <td>PROPN PROPN PROPN ADP PROPN PROPN NOUN VERB AD...</td>\n",
       "      <td>1</td>\n",
       "      <td>1</td>\n",
       "    </tr>\n",
       "  </tbody>\n",
       "</table>\n",
       "<p>345 rows × 4 columns</p>\n",
       "</div>"
      ],
      "text/plain": [
       "     pred_probs                                             titles  \\\n",
       "0      0.434875  NUM NOUN AUX VERB CCONJ ADJ NOUN AUX VERB ADP ...   \n",
       "1      0.357212  DET NOUN PRON VERB ADP DET ADJ NOUN ADP NOUN N...   \n",
       "2      0.180183  ADP DET PROPN PROPN NOUN ADJ PROPN PROPN NUM P...   \n",
       "3      0.381576  NOUN NOUN PROPN AUX VERB ADP DET NOUN ADP ADV ...   \n",
       "4      0.146194  DET ADP NOUN ADJ ADP NOUN NOUN NOUN AUX VERB A...   \n",
       "..          ...                                                ...   \n",
       "340    0.235631  ADP DET PROPN NUM NUM NOUN NOUN PROPN PROPN IN...   \n",
       "341    0.587792  PROPN NOUN AUX VERB ADP ADP PRON NUM ADP NUM C...   \n",
       "342    0.333818  PROPN PROPN VERB PRON AUX PART VERB ADV DET NO...   \n",
       "343    0.557130  NOUN ADP NOUN PROPN PART NOUN NOUN DET PROPN P...   \n",
       "344    0.513549  PROPN PROPN PROPN ADP PROPN PROPN NOUN VERB AD...   \n",
       "\n",
       "     true_values  predict  \n",
       "0              0        0  \n",
       "1              0        0  \n",
       "2              0        0  \n",
       "3              0        0  \n",
       "4              0        0  \n",
       "..           ...      ...  \n",
       "340            0        0  \n",
       "341            0        1  \n",
       "342            0        0  \n",
       "343            0        1  \n",
       "344            1        1  \n",
       "\n",
       "[345 rows x 4 columns]"
      ]
     },
     "execution_count": 70,
     "metadata": {},
     "output_type": "execute_result"
    }
   ],
   "source": [
    "pred_df"
   ]
  },
  {
   "cell_type": "code",
   "execution_count": 71,
   "metadata": {
    "ExecuteTime": {
     "end_time": "2019-12-04T13:09:23.501329Z",
     "start_time": "2019-12-04T13:09:22.728713Z"
    }
   },
   "outputs": [
    {
     "data": {
      "image/png": "[encoded data removed]",
      "text/plain": [
       "<Figure size 720x504 with 1 Axes>"
      ]
     },
     "metadata": {
      "needs_background": "light"
     },
     "output_type": "display_data"
    }
   ],
   "source": [
    "plotprob(pred_df)"
   ]
  },
  {
   "cell_type": "code",
   "execution_count": 72,
   "metadata": {
    "ExecuteTime": {
     "end_time": "2019-12-04T13:09:25.368173Z",
     "start_time": "2019-12-04T13:09:23.505659Z"
    }
   },
   "outputs": [
    {
     "data": {
      "image/png": "[encoded data removed]",
      "text/plain": [
       "<Figure size 720x504 with 1 Axes>"
      ]
     },
     "metadata": {
      "needs_background": "light"
     },
     "output_type": "display_data"
    }
   ],
   "source": [
    "rocauccurve(pred_df)"
   ]
  },
  {
   "cell_type": "markdown",
   "metadata": {},
   "source": [
    "### Coefficient Analysis"
   ]
  },
  {
   "cell_type": "code",
   "execution_count": 101,
   "metadata": {
    "ExecuteTime": {
     "end_time": "2019-12-04T05:05:36.744369Z",
     "start_time": "2019-12-04T05:05:36.738986Z"
    },
    "colab": {},
    "colab_type": "code",
    "id": "3m-uFfxT5XCh"
   },
   "outputs": [],
   "source": [
    "coef=pipepos.steps[2][1].coef_[0]"
   ]
  },
  {
   "cell_type": "code",
   "execution_count": 53,
   "metadata": {
    "ExecuteTime": {
     "end_time": "2019-12-03T19:17:28.481202Z",
     "start_time": "2019-12-03T19:17:28.474222Z"
    },
    "colab": {},
    "colab_type": "code",
    "id": "aqVvJPuP5XCi"
   },
   "outputs": [],
   "source": [
    "features=pipepos.steps[0][1].get_feature_names()"
   ]
  },
  {
   "cell_type": "code",
   "execution_count": 55,
   "metadata": {
    "ExecuteTime": {
     "end_time": "2019-12-03T19:17:28.509915Z",
     "start_time": "2019-12-03T19:17:28.501119Z"
    },
    "colab": {},
    "colab_type": "code",
    "id": "nhzwE2hy5XCs"
   },
   "outputs": [],
   "source": [
    "Featdf=pd.DataFrame(zip(features,coef),columns=['Feature','Coefficient'])"
   ]
  },
  {
   "cell_type": "code",
   "execution_count": 56,
   "metadata": {
    "ExecuteTime": {
     "end_time": "2019-12-03T19:17:28.522652Z",
     "start_time": "2019-12-03T19:17:28.513024Z"
    },
    "colab": {},
    "colab_type": "code",
    "id": "UwcwOe_85XCw"
   },
   "outputs": [],
   "source": [
    "Featdf['odds contains fake']=Featdf['Coefficient'].apply(lambda x: np.exp(x))"
   ]
  },
  {
   "cell_type": "code",
   "execution_count": 57,
   "metadata": {
    "ExecuteTime": {
     "end_time": "2019-12-03T19:17:28.533730Z",
     "start_time": "2019-12-03T19:17:28.525400Z"
    },
    "colab": {},
    "colab_type": "code",
    "id": "atqUbeKh5XCx"
   },
   "outputs": [],
   "source": [
    "Featdf['odds true']=Featdf['Coefficient'].apply(lambda x: 1/np.exp(x))"
   ]
  },
  {
   "cell_type": "code",
   "execution_count": 58,
   "metadata": {
    "ExecuteTime": {
     "end_time": "2019-12-03T19:17:28.553436Z",
     "start_time": "2019-12-03T19:17:28.537215Z"
    },
    "colab": {},
    "colab_type": "code",
    "id": "MUCowxzUOe2E",
    "scrolled": true
   },
   "outputs": [
    {
     "data": {
      "text/html": [
       "<div>\n",
       "<style scoped>\n",
       "    .dataframe tbody tr th:only-of-type {\n",
       "        vertical-align: middle;\n",
       "    }\n",
       "\n",
       "    .dataframe tbody tr th {\n",
       "        vertical-align: top;\n",
       "    }\n",
       "\n",
       "    .dataframe thead th {\n",
       "        text-align: right;\n",
       "    }\n",
       "</style>\n",
       "<table border=\"1\" class=\"dataframe\">\n",
       "  <thead>\n",
       "    <tr style=\"text-align: right;\">\n",
       "      <th></th>\n",
       "      <th>Feature</th>\n",
       "      <th>Coefficient</th>\n",
       "      <th>odds contains fake</th>\n",
       "      <th>odds true</th>\n",
       "    </tr>\n",
       "  </thead>\n",
       "  <tbody>\n",
       "    <tr>\n",
       "      <th>141</th>\n",
       "      <td>part noun</td>\n",
       "      <td>-3.630465</td>\n",
       "      <td>0.026504</td>\n",
       "      <td>37.730346</td>\n",
       "    </tr>\n",
       "    <tr>\n",
       "      <th>229</th>\n",
       "      <td>verb propn</td>\n",
       "      <td>-3.137517</td>\n",
       "      <td>0.043390</td>\n",
       "      <td>23.046581</td>\n",
       "    </tr>\n",
       "    <tr>\n",
       "      <th>172</th>\n",
       "      <td>propn part</td>\n",
       "      <td>-2.401571</td>\n",
       "      <td>0.090576</td>\n",
       "      <td>11.040511</td>\n",
       "    </tr>\n",
       "    <tr>\n",
       "      <th>144</th>\n",
       "      <td>part pron</td>\n",
       "      <td>-1.487261</td>\n",
       "      <td>0.225991</td>\n",
       "      <td>4.424960</td>\n",
       "    </tr>\n",
       "    <tr>\n",
       "      <th>227</th>\n",
       "      <td>verb num</td>\n",
       "      <td>-1.479584</td>\n",
       "      <td>0.227732</td>\n",
       "      <td>4.391118</td>\n",
       "    </tr>\n",
       "    <tr>\n",
       "      <th>35</th>\n",
       "      <td>adv noun</td>\n",
       "      <td>-1.441468</td>\n",
       "      <td>0.236580</td>\n",
       "      <td>4.226897</td>\n",
       "    </tr>\n",
       "    <tr>\n",
       "      <th>124</th>\n",
       "      <td>num noun</td>\n",
       "      <td>-1.328298</td>\n",
       "      <td>0.264928</td>\n",
       "      <td>3.774614</td>\n",
       "    </tr>\n",
       "    <tr>\n",
       "      <th>70</th>\n",
       "      <td>cconj pron</td>\n",
       "      <td>-1.156944</td>\n",
       "      <td>0.314446</td>\n",
       "      <td>3.180199</td>\n",
       "    </tr>\n",
       "    <tr>\n",
       "      <th>98</th>\n",
       "      <td>intj intj</td>\n",
       "      <td>-1.061842</td>\n",
       "      <td>0.345818</td>\n",
       "      <td>2.891692</td>\n",
       "    </tr>\n",
       "    <tr>\n",
       "      <th>113</th>\n",
       "      <td>noun sconj</td>\n",
       "      <td>-0.999611</td>\n",
       "      <td>0.368023</td>\n",
       "      <td>2.717225</td>\n",
       "    </tr>\n",
       "  </tbody>\n",
       "</table>\n",
       "</div>"
      ],
      "text/plain": [
       "        Feature  Coefficient  odds contains fake  odds true\n",
       "141   part noun    -3.630465            0.026504  37.730346\n",
       "229  verb propn    -3.137517            0.043390  23.046581\n",
       "172  propn part    -2.401571            0.090576  11.040511\n",
       "144   part pron    -1.487261            0.225991   4.424960\n",
       "227    verb num    -1.479584            0.227732   4.391118\n",
       "35     adv noun    -1.441468            0.236580   4.226897\n",
       "124    num noun    -1.328298            0.264928   3.774614\n",
       "70   cconj pron    -1.156944            0.314446   3.180199\n",
       "98    intj intj    -1.061842            0.345818   2.891692\n",
       "113  noun sconj    -0.999611            0.368023   2.717225"
      ]
     },
     "execution_count": 58,
     "metadata": {},
     "output_type": "execute_result"
    }
   ],
   "source": [
    "Featdf.sort_values('odds true',ascending=False)[:10]"
   ]
  },
  {
   "cell_type": "code",
   "execution_count": 59,
   "metadata": {
    "ExecuteTime": {
     "end_time": "2019-12-03T19:17:28.573689Z",
     "start_time": "2019-12-03T19:17:28.557187Z"
    },
    "colab": {},
    "colab_type": "code",
    "id": "6pJ-rG9y5XC4",
    "scrolled": false
   },
   "outputs": [
    {
     "data": {
      "text/html": [
       "<div>\n",
       "<style scoped>\n",
       "    .dataframe tbody tr th:only-of-type {\n",
       "        vertical-align: middle;\n",
       "    }\n",
       "\n",
       "    .dataframe tbody tr th {\n",
       "        vertical-align: top;\n",
       "    }\n",
       "\n",
       "    .dataframe thead th {\n",
       "        text-align: right;\n",
       "    }\n",
       "</style>\n",
       "<table border=\"1\" class=\"dataframe\">\n",
       "  <thead>\n",
       "    <tr style=\"text-align: right;\">\n",
       "      <th></th>\n",
       "      <th>Feature</th>\n",
       "      <th>Coefficient</th>\n",
       "      <th>odds contains fake</th>\n",
       "      <th>odds true</th>\n",
       "    </tr>\n",
       "  </thead>\n",
       "  <tbody>\n",
       "    <tr>\n",
       "      <th>107</th>\n",
       "      <td>noun adv</td>\n",
       "      <td>2.711903</td>\n",
       "      <td>15.057909</td>\n",
       "      <td>0.066410</td>\n",
       "    </tr>\n",
       "    <tr>\n",
       "      <th>120</th>\n",
       "      <td>num aux</td>\n",
       "      <td>2.399033</td>\n",
       "      <td>11.012517</td>\n",
       "      <td>0.090806</td>\n",
       "    </tr>\n",
       "    <tr>\n",
       "      <th>33</th>\n",
       "      <td>adv det</td>\n",
       "      <td>2.351786</td>\n",
       "      <td>10.504319</td>\n",
       "      <td>0.095199</td>\n",
       "    </tr>\n",
       "    <tr>\n",
       "      <th>31</th>\n",
       "      <td>adv aux</td>\n",
       "      <td>2.085869</td>\n",
       "      <td>8.051587</td>\n",
       "      <td>0.124199</td>\n",
       "    </tr>\n",
       "    <tr>\n",
       "      <th>38</th>\n",
       "      <td>adv pron</td>\n",
       "      <td>1.998794</td>\n",
       "      <td>7.380149</td>\n",
       "      <td>0.135499</td>\n",
       "    </tr>\n",
       "    <tr>\n",
       "      <th>231</th>\n",
       "      <td>verb sconj</td>\n",
       "      <td>1.977125</td>\n",
       "      <td>7.221947</td>\n",
       "      <td>0.138467</td>\n",
       "    </tr>\n",
       "    <tr>\n",
       "      <th>75</th>\n",
       "      <td>cconj verb</td>\n",
       "      <td>1.953086</td>\n",
       "      <td>7.050415</td>\n",
       "      <td>0.141836</td>\n",
       "    </tr>\n",
       "    <tr>\n",
       "      <th>165</th>\n",
       "      <td>propn adv</td>\n",
       "      <td>1.942554</td>\n",
       "      <td>6.976548</td>\n",
       "      <td>0.143337</td>\n",
       "    </tr>\n",
       "    <tr>\n",
       "      <th>55</th>\n",
       "      <td>aux pron</td>\n",
       "      <td>1.797607</td>\n",
       "      <td>6.035190</td>\n",
       "      <td>0.165695</td>\n",
       "    </tr>\n",
       "    <tr>\n",
       "      <th>8</th>\n",
       "      <td>adj part</td>\n",
       "      <td>1.787056</td>\n",
       "      <td>5.971848</td>\n",
       "      <td>0.167452</td>\n",
       "    </tr>\n",
       "  </tbody>\n",
       "</table>\n",
       "</div>"
      ],
      "text/plain": [
       "        Feature  Coefficient  odds contains fake  odds true\n",
       "107    noun adv     2.711903           15.057909   0.066410\n",
       "120     num aux     2.399033           11.012517   0.090806\n",
       "33      adv det     2.351786           10.504319   0.095199\n",
       "31      adv aux     2.085869            8.051587   0.124199\n",
       "38     adv pron     1.998794            7.380149   0.135499\n",
       "231  verb sconj     1.977125            7.221947   0.138467\n",
       "75   cconj verb     1.953086            7.050415   0.141836\n",
       "165   propn adv     1.942554            6.976548   0.143337\n",
       "55     aux pron     1.797607            6.035190   0.165695\n",
       "8      adj part     1.787056            5.971848   0.167452"
      ]
     },
     "execution_count": 59,
     "metadata": {},
     "output_type": "execute_result"
    }
   ],
   "source": [
    "Featdf.sort_values('odds contains fake',ascending=False)[:10]"
   ]
  },
  {
   "cell_type": "markdown",
   "metadata": {},
   "source": [
    "## Case Study 1: Thresholding  \n",
    "\n",
    "**Identifying where to set the threshold to optimize for different use cases and populations**\n",
    "\n",
    "We assume a hypothetical news dataset on which our predictions have the same probability distribution, consisting of 10,000 real news and 100 pieces of fake news being produced daily. As a starting news agency, we only have the capability of checking 100 pieces of news manually each day, and we want to maximize the number of fake news being caught.\n",
    "\n",
    "This means that we want to maximize the average number of True Positives in the news that is checked.\n",
    "\n",
    "We will compare three methods:\n",
    "\n",
    "1. Random Sampling without a data science model\n",
    "2. Using the original threshold of the model\n",
    "3. Using a modified threshold to maximize True Positives caught.\n"
   ]
  },
  {
   "cell_type": "markdown",
   "metadata": {
    "ExecuteTime": {
     "end_time": "2019-12-03T14:30:26.949730Z",
     "start_time": "2019-12-03T14:30:26.946005Z"
    }
   },
   "source": [
    "### Function Definition"
   ]
  },
  {
   "cell_type": "code",
   "execution_count": 24,
   "metadata": {
    "ExecuteTime": {
     "end_time": "2019-12-04T12:45:29.051359Z",
     "start_time": "2019-12-04T12:45:29.044448Z"
    }
   },
   "outputs": [],
   "source": [
    "### Defining function to create populations of fake and real news\n",
    "from random import shuffle\n",
    "def pop(numfake,numtrue):\n",
    "    pop=[1 for x in range(numfake)]\n",
    "    pop.extend([0 for y in range(numtrue)])\n",
    "    shuffle(pop)\n",
    "    return pop"
   ]
  },
  {
   "cell_type": "code",
   "execution_count": 25,
   "metadata": {
    "ExecuteTime": {
     "end_time": "2019-12-04T12:45:29.296884Z",
     "start_time": "2019-12-04T12:45:29.291546Z"
    }
   },
   "outputs": [],
   "source": [
    "### Fnction to check a random sample of a created population\n",
    "def check(pop,n=100):\n",
    "    n=np.random.choice(pop,n)\n",
    "    return n"
   ]
  },
  {
   "cell_type": "code",
   "execution_count": 26,
   "metadata": {
    "ExecuteTime": {
     "end_time": "2019-12-04T12:45:29.513902Z",
     "start_time": "2019-12-04T12:45:29.501898Z"
    },
    "colab": {},
    "colab_type": "code",
    "id": "P1tw-uhD5aWT"
   },
   "outputs": [],
   "source": [
    "#given a assumed population distribution, and a maximum capacity of checking, what is the optimal threshold?\n",
    "def maximizeTP(pred_df,fakes=100,reals=10000,max_check=100):\n",
    "    error,max_error=0,0\n",
    "    thresholds=np.linspace(1,0,201)\n",
    "    TPs=[]\n",
    "    for prob in thresholds:\n",
    "        FPrate=FPR(pred_df,'true_values','pred_probs',prob)\n",
    "        TPrate=TPR(pred_df,'true_values','pred_probs',prob)\n",
    "        if TPrate*fakes+FPrate*reals>max_check:    \n",
    "            try: TPs.append(max_check*TPrate*fakes/(TPrate*fakes+reals*FPrate))\n",
    "            except: TPs.append(0)\n",
    "        else:\n",
    "            TPs.append(TPrate*fakes)\n",
    "    TPmax=np.max(TPs)\n",
    "    prob=thresholds[TPs.index(TPmax)]\n",
    "        \n",
    "    return [prob,TPmax]"
   ]
  },
  {
   "cell_type": "markdown",
   "metadata": {},
   "source": [
    "### Example thresholding\n",
    "\n",
    "Given an original population of 10,000 real news with 100 fake news, we find the increase in fake news detected by random sampling, our model, and our model with a modified threshold"
   ]
  },
  {
   "cell_type": "markdown",
   "metadata": {},
   "source": [
    "#### Random Sampling"
   ]
  },
  {
   "cell_type": "code",
   "execution_count": 79,
   "metadata": {
    "ExecuteTime": {
     "end_time": "2019-12-04T13:10:08.305127Z",
     "start_time": "2019-12-04T13:09:58.195502Z"
    }
   },
   "outputs": [],
   "source": [
    "#Over 100,000 draws, 100 draws averages out to 1 fake news being the in the sample\n",
    "samp=pop(100,10000)\n",
    "TPfound=np.mean([np.sum(check(samp)) for x in range(10000)])"
   ]
  },
  {
   "cell_type": "code",
   "execution_count": 80,
   "metadata": {
    "ExecuteTime": {
     "end_time": "2019-12-04T13:10:08.316854Z",
     "start_time": "2019-12-04T13:10:08.307719Z"
    }
   },
   "outputs": [
    {
     "name": "stdout",
     "output_type": "stream",
     "text": [
      "The average number of fake news articles found using the random sampling after 10000 draws is 0.9944\n"
     ]
    }
   ],
   "source": [
    "print(f'The average number of fake news articles found using the random sampling after 10000 draws is {TPfound}')"
   ]
  },
  {
   "cell_type": "markdown",
   "metadata": {},
   "source": [
    "#### Using the Original Threshold of the model"
   ]
  },
  {
   "cell_type": "code",
   "execution_count": 114,
   "metadata": {
    "ExecuteTime": {
     "end_time": "2019-12-04T13:28:56.421041Z",
     "start_time": "2019-12-04T13:28:56.189538Z"
    }
   },
   "outputs": [
    {
     "data": {
      "text/html": [
       "<div>\n",
       "<style scoped>\n",
       "    .dataframe tbody tr th:only-of-type {\n",
       "        vertical-align: middle;\n",
       "    }\n",
       "\n",
       "    .dataframe tbody tr th {\n",
       "        vertical-align: top;\n",
       "    }\n",
       "\n",
       "    .dataframe thead th {\n",
       "        text-align: right;\n",
       "    }\n",
       "</style>\n",
       "<table border=\"1\" class=\"dataframe\">\n",
       "  <thead>\n",
       "    <tr style=\"text-align: right;\">\n",
       "      <th></th>\n",
       "      <th>Predicted Real</th>\n",
       "      <th>Predicted Fake</th>\n",
       "    </tr>\n",
       "    <tr>\n",
       "      <th>index</th>\n",
       "      <th></th>\n",
       "      <th></th>\n",
       "    </tr>\n",
       "  </thead>\n",
       "  <tbody>\n",
       "    <tr>\n",
       "      <th>Real Real</th>\n",
       "      <td>189</td>\n",
       "      <td>29</td>\n",
       "    </tr>\n",
       "    <tr>\n",
       "      <th>Real Fake</th>\n",
       "      <td>20</td>\n",
       "      <td>38</td>\n",
       "    </tr>\n",
       "  </tbody>\n",
       "</table>\n",
       "</div>"
      ],
      "text/plain": [
       "           Predicted Real  Predicted Fake\n",
       "index                                    \n",
       "Real Real             189              29\n",
       "Real Fake              20              38"
      ]
     },
     "metadata": {},
     "output_type": "display_data"
    },
    {
     "name": "stdout",
     "output_type": "stream",
     "text": [
      "{'accuracy': 0.822463768115942, 'f': 0.608, 'precision': 0.5671641791044776, 'recall': 0.6551724137931034, 'fprate': 0.1330275229357798, 'tprate': 0.6551724137931034, 'tprate/fprate': 4.9250891795481575}\n"
     ]
    }
   ],
   "source": [
    "pred_df=assess_model(pipe,X_test,y_test,0.5)"
   ]
  },
  {
   "cell_type": "code",
   "execution_count": 82,
   "metadata": {
    "ExecuteTime": {
     "end_time": "2019-12-04T13:10:08.591434Z",
     "start_time": "2019-12-04T13:10:08.577004Z"
    }
   },
   "outputs": [],
   "source": [
    "TP=int(TPR(pred_df,'true_values','pred_probs',0.5)*100)\n",
    "FP=int(FPR(pred_df,'true_values','pred_probs',0.5)*10000)"
   ]
  },
  {
   "cell_type": "markdown",
   "metadata": {},
   "source": [
    "Applying this model to the population, we would get on average:  \n",
    "    False Positives: fprate * 10000  \n",
    "    True Positives: tprate * 100  \n",
    "    "
   ]
  },
  {
   "cell_type": "code",
   "execution_count": 83,
   "metadata": {
    "ExecuteTime": {
     "end_time": "2019-12-04T13:10:08.602660Z",
     "start_time": "2019-12-04T13:10:08.595463Z"
    }
   },
   "outputs": [
    {
     "name": "stdout",
     "output_type": "stream",
     "text": [
      "65\n",
      "1330\n"
     ]
    }
   ],
   "source": [
    "print(TP)\n",
    "print(FP)"
   ]
  },
  {
   "cell_type": "code",
   "execution_count": 84,
   "metadata": {
    "ExecuteTime": {
     "end_time": "2019-12-04T13:10:08.614240Z",
     "start_time": "2019-12-04T13:10:08.606096Z"
    }
   },
   "outputs": [],
   "source": [
    "samp=pop(TP,FP)"
   ]
  },
  {
   "cell_type": "code",
   "execution_count": 85,
   "metadata": {
    "ExecuteTime": {
     "end_time": "2019-12-04T13:10:10.681223Z",
     "start_time": "2019-12-04T13:10:08.617419Z"
    }
   },
   "outputs": [
    {
     "name": "stdout",
     "output_type": "stream",
     "text": [
      "The average number of fake news articles found using the model without thresholding after 10000 draws is 4.6567\n"
     ]
    }
   ],
   "source": [
    "TPfound=np.mean([np.sum(check(samp)) for x in range(10000)])\n",
    "print(f'The average number of fake news articles found using the model without thresholding after 10000 draws is {TPfound}')"
   ]
  },
  {
   "cell_type": "markdown",
   "metadata": {},
   "source": [
    "#### Modified Threshold"
   ]
  },
  {
   "cell_type": "code",
   "execution_count": 120,
   "metadata": {
    "ExecuteTime": {
     "end_time": "2019-12-04T13:50:41.246052Z",
     "start_time": "2019-12-04T13:50:39.135167Z"
    }
   },
   "outputs": [
    {
     "data": {
      "text/html": [
       "<div>\n",
       "<style scoped>\n",
       "    .dataframe tbody tr th:only-of-type {\n",
       "        vertical-align: middle;\n",
       "    }\n",
       "\n",
       "    .dataframe tbody tr th {\n",
       "        vertical-align: top;\n",
       "    }\n",
       "\n",
       "    .dataframe thead th {\n",
       "        text-align: right;\n",
       "    }\n",
       "</style>\n",
       "<table border=\"1\" class=\"dataframe\">\n",
       "  <thead>\n",
       "    <tr style=\"text-align: right;\">\n",
       "      <th></th>\n",
       "      <th>Predicted Real</th>\n",
       "      <th>Predicted Fake</th>\n",
       "    </tr>\n",
       "    <tr>\n",
       "      <th>index</th>\n",
       "      <th></th>\n",
       "      <th></th>\n",
       "    </tr>\n",
       "  </thead>\n",
       "  <tbody>\n",
       "    <tr>\n",
       "      <th>Real Real</th>\n",
       "      <td>849</td>\n",
       "      <td>23</td>\n",
       "    </tr>\n",
       "    <tr>\n",
       "      <th>Real Fake</th>\n",
       "      <td>23</td>\n",
       "      <td>209</td>\n",
       "    </tr>\n",
       "  </tbody>\n",
       "</table>\n",
       "</div>"
      ],
      "text/plain": [
       "           Predicted Real  Predicted Fake\n",
       "index                                    \n",
       "Real Real             849              23\n",
       "Real Fake              23             209"
      ]
     },
     "metadata": {},
     "output_type": "display_data"
    },
    {
     "name": "stdout",
     "output_type": "stream",
     "text": [
      "{'accuracy': 0.9583333333333334, 'f': 0.9008620689655172, 'precision': 0.9008620689655172, 'recall': 0.9008620689655172, 'fprate': 0.026376146788990806, 'tprate': 0.9008620689655172, 'tprate/fprate': 34.15442278860572}\n",
      "0.5628140703517588\n"
     ]
    }
   ],
   "source": [
    "# Set the threshold based on the train_pred_df to avoid data leakage\n",
    "train_pred_df=assess_model(pipe,X_train,y_train,TPthresh)\n",
    "TPthresh=f1max(train_pred_df)\n",
    "print(TPthresh)"
   ]
  },
  {
   "cell_type": "code",
   "execution_count": 97,
   "metadata": {
    "ExecuteTime": {
     "end_time": "2019-12-04T13:16:14.977591Z",
     "start_time": "2019-12-04T13:16:14.746435Z"
    }
   },
   "outputs": [
    {
     "data": {
      "text/html": [
       "<div>\n",
       "<style scoped>\n",
       "    .dataframe tbody tr th:only-of-type {\n",
       "        vertical-align: middle;\n",
       "    }\n",
       "\n",
       "    .dataframe tbody tr th {\n",
       "        vertical-align: top;\n",
       "    }\n",
       "\n",
       "    .dataframe thead th {\n",
       "        text-align: right;\n",
       "    }\n",
       "</style>\n",
       "<table border=\"1\" class=\"dataframe\">\n",
       "  <thead>\n",
       "    <tr style=\"text-align: right;\">\n",
       "      <th></th>\n",
       "      <th>Predicted Real</th>\n",
       "      <th>Predicted Fake</th>\n",
       "    </tr>\n",
       "    <tr>\n",
       "      <th>index</th>\n",
       "      <th></th>\n",
       "      <th></th>\n",
       "    </tr>\n",
       "  </thead>\n",
       "  <tbody>\n",
       "    <tr>\n",
       "      <th>Real Real</th>\n",
       "      <td>201</td>\n",
       "      <td>17</td>\n",
       "    </tr>\n",
       "    <tr>\n",
       "      <th>Real Fake</th>\n",
       "      <td>33</td>\n",
       "      <td>25</td>\n",
       "    </tr>\n",
       "  </tbody>\n",
       "</table>\n",
       "</div>"
      ],
      "text/plain": [
       "           Predicted Real  Predicted Fake\n",
       "index                                    \n",
       "Real Real             201              17\n",
       "Real Fake              33              25"
      ]
     },
     "metadata": {},
     "output_type": "display_data"
    },
    {
     "name": "stdout",
     "output_type": "stream",
     "text": [
      "{'accuracy': 0.8188405797101449, 'f': 0.5, 'precision': 0.5952380952380952, 'recall': 0.43103448275862066, 'fprate': 0.07798165137614677, 'tprate': 0.43103448275862066, 'tprate/fprate': 5.527383367139961}\n"
     ]
    }
   ],
   "source": [
    "pred_df=assess_model(pipe,X_test,y_test,TPthresh)"
   ]
  },
  {
   "cell_type": "code",
   "execution_count": 99,
   "metadata": {
    "ExecuteTime": {
     "end_time": "2019-12-04T13:16:29.482941Z",
     "start_time": "2019-12-04T13:16:29.465308Z"
    }
   },
   "outputs": [],
   "source": [
    "TP=int(TPR(pred_df,'true_values','pred_probs',TPthresh)*100)\n",
    "FP=int(FPR(pred_df,'true_values','pred_probs',TPthresh)*10000)"
   ]
  },
  {
   "cell_type": "code",
   "execution_count": 100,
   "metadata": {
    "ExecuteTime": {
     "end_time": "2019-12-04T13:16:30.785074Z",
     "start_time": "2019-12-04T13:16:30.778051Z"
    }
   },
   "outputs": [
    {
     "name": "stdout",
     "output_type": "stream",
     "text": [
      "43\n",
      "779\n"
     ]
    }
   ],
   "source": [
    "print(TP)\n",
    "print(FP)"
   ]
  },
  {
   "cell_type": "code",
   "execution_count": 101,
   "metadata": {
    "ExecuteTime": {
     "end_time": "2019-12-04T13:16:31.162022Z",
     "start_time": "2019-12-04T13:16:31.155107Z"
    }
   },
   "outputs": [],
   "source": [
    "samp=pop(TP,FP)"
   ]
  },
  {
   "cell_type": "code",
   "execution_count": 102,
   "metadata": {
    "ExecuteTime": {
     "end_time": "2019-12-04T13:16:33.613387Z",
     "start_time": "2019-12-04T13:16:32.171102Z"
    },
    "scrolled": true
   },
   "outputs": [
    {
     "name": "stdout",
     "output_type": "stream",
     "text": [
      "The average number of fake news articles found using thresholding on the model after 10000 draws is 5.2188\n"
     ]
    }
   ],
   "source": [
    "TPfound=np.mean([np.sum(check(samp)) for x in range(10000)])\n",
    "print(f'The average number of fake news articles found using thresholding on the model after 10000 draws is {TPfound}')"
   ]
  },
  {
   "cell_type": "markdown",
   "metadata": {},
   "source": [
    "### Thresholding for different prior populations and No. of Checks"
   ]
  },
  {
   "cell_type": "markdown",
   "metadata": {},
   "source": [
    "To study the relationship between the prior population, quantity of news checked and optimal decision boundary, we write the following function"
   ]
  },
  {
   "cell_type": "markdown",
   "metadata": {},
   "source": [
    "**Search Space**"
   ]
  },
  {
   "cell_type": "code",
   "execution_count": 108,
   "metadata": {
    "ExecuteTime": {
     "end_time": "2019-12-04T13:20:12.915501Z",
     "start_time": "2019-12-04T13:20:12.909474Z"
    }
   },
   "outputs": [],
   "source": [
    "priors=[10,100,1000,5000]\n",
    "maxchecks=[10,100,1000,5000]"
   ]
  },
  {
   "cell_type": "markdown",
   "metadata": {},
   "source": [
    "**Loop through each prior and no. of checks and do a random sample, normal threshold, and modified threshold**"
   ]
  },
  {
   "cell_type": "code",
   "execution_count": 115,
   "metadata": {
    "ExecuteTime": {
     "end_time": "2019-12-04T13:38:55.504248Z",
     "start_time": "2019-12-04T13:33:34.981829Z"
    }
   },
   "outputs": [],
   "source": [
    "randomsample=[]\n",
    "normthresh=[]\n",
    "modthresh=[]\n",
    "checks=[]\n",
    "fakes=[]\n",
    "for maxcheck in maxchecks:    \n",
    "    for prior in priors:\n",
    "        \n",
    "        rsamp=pop(prior,10000)\n",
    "        RS=np.mean([np.sum(check(rsamp,n=maxcheck)) for x in range(10000)])\n",
    "        randomsample.append(RS)\n",
    "\n",
    "        TP=int(TPR(pred_df,'true_values','pred_probs',0.5)*prior)\n",
    "        FP=int(FPR(pred_df,'true_values','pred_probs',0.5)*10000)\n",
    "        nsamp=pop(TP,FP)\n",
    "        maxcheckN=maxcheck\n",
    "        if maxcheckN>(TP+FP):\n",
    "            maxcheckN=(TP+FP)\n",
    "        NT=np.mean([np.sum(check(nsamp,n=maxcheckN)) for x in range(10000)])\n",
    "        normthresh.append(NT)\n",
    "\n",
    "        TPthresh=f1max(train_pred_df)\n",
    "        TP=int(TPR(pred_df,'true_values','pred_probs',TPthresh)*prior)\n",
    "        FP=int(FPR(pred_df,'true_values','pred_probs',TPthresh)*10000)\n",
    "        msamp=pop(TP,FP)\n",
    "        maxcheckM=maxcheck\n",
    "        if maxcheckM>(TP+FP):\n",
    "            maxcheckM=(TP+FP)\n",
    "        MT=np.mean([np.sum(check(msamp,n=maxcheckM)) for x in range(10000)])\n",
    "        modthresh.append(MT)\n",
    "        \n",
    "        checks.append(maxcheck)\n",
    "        fakes.append(prior)\n"
   ]
  },
  {
   "cell_type": "code",
   "execution_count": 116,
   "metadata": {
    "ExecuteTime": {
     "end_time": "2019-12-04T13:38:55.514969Z",
     "start_time": "2019-12-04T13:38:55.507934Z"
    }
   },
   "outputs": [],
   "source": [
    "threshdf=pd.DataFrame()"
   ]
  },
  {
   "cell_type": "code",
   "execution_count": 117,
   "metadata": {
    "ExecuteTime": {
     "end_time": "2019-12-04T13:38:55.543151Z",
     "start_time": "2019-12-04T13:38:55.519189Z"
    }
   },
   "outputs": [],
   "source": [
    "threshdf['No. of Checks']=checks\n",
    "threshdf['No. of Fakes']=fakes\n",
    "threshdf['TP- Random Sample']=randomsample\n",
    "threshdf['TP- Original Threshold']=normthresh\n",
    "threshdf['TP- Modified Threshold']=modthresh\n",
    "\n",
    "\n",
    "threshdf['Original/Random']=normthresh/threshdf['TP- Random Sample']\n",
    "threshdf['Modified/Random']=modthresh/threshdf['TP- Random Sample']\n",
    "threshdf['Modified/Original']=modthresh/threshdf['TP- Original Threshold']\n",
    "\n",
    "threshdf.to_csv('GridSearch Output/Thresholding.csv',index=False)"
   ]
  },
  {
   "cell_type": "code",
   "execution_count": 118,
   "metadata": {
    "ExecuteTime": {
     "end_time": "2019-12-04T13:38:55.568316Z",
     "start_time": "2019-12-04T13:38:55.545714Z"
    }
   },
   "outputs": [
    {
     "data": {
      "text/html": [
       "<div>\n",
       "<style scoped>\n",
       "    .dataframe tbody tr th:only-of-type {\n",
       "        vertical-align: middle;\n",
       "    }\n",
       "\n",
       "    .dataframe tbody tr th {\n",
       "        vertical-align: top;\n",
       "    }\n",
       "\n",
       "    .dataframe thead th {\n",
       "        text-align: right;\n",
       "    }\n",
       "</style>\n",
       "<table border=\"1\" class=\"dataframe\">\n",
       "  <thead>\n",
       "    <tr style=\"text-align: right;\">\n",
       "      <th></th>\n",
       "      <th>No. of Checks</th>\n",
       "      <th>No. of Fakes</th>\n",
       "      <th>TP- Random Sample</th>\n",
       "      <th>TP- Original Threshold</th>\n",
       "      <th>TP- Modified Threshold</th>\n",
       "      <th>Original/Random</th>\n",
       "      <th>Modified/Random</th>\n",
       "      <th>Modified/Original</th>\n",
       "    </tr>\n",
       "  </thead>\n",
       "  <tbody>\n",
       "    <tr>\n",
       "      <th>0</th>\n",
       "      <td>10</td>\n",
       "      <td>10</td>\n",
       "      <td>0.0091</td>\n",
       "      <td>0.0423</td>\n",
       "      <td>0.0492</td>\n",
       "      <td>4.648352</td>\n",
       "      <td>5.406593</td>\n",
       "      <td>1.163121</td>\n",
       "    </tr>\n",
       "    <tr>\n",
       "      <th>1</th>\n",
       "      <td>10</td>\n",
       "      <td>100</td>\n",
       "      <td>0.0989</td>\n",
       "      <td>0.4694</td>\n",
       "      <td>0.5262</td>\n",
       "      <td>4.746208</td>\n",
       "      <td>5.320526</td>\n",
       "      <td>1.121006</td>\n",
       "    </tr>\n",
       "    <tr>\n",
       "      <th>2</th>\n",
       "      <td>10</td>\n",
       "      <td>1000</td>\n",
       "      <td>0.9204</td>\n",
       "      <td>3.2576</td>\n",
       "      <td>3.5730</td>\n",
       "      <td>3.539331</td>\n",
       "      <td>3.882008</td>\n",
       "      <td>1.096820</td>\n",
       "    </tr>\n",
       "    <tr>\n",
       "      <th>3</th>\n",
       "      <td>10</td>\n",
       "      <td>5000</td>\n",
       "      <td>3.3438</td>\n",
       "      <td>7.1128</td>\n",
       "      <td>7.3255</td>\n",
       "      <td>2.127161</td>\n",
       "      <td>2.190771</td>\n",
       "      <td>1.029904</td>\n",
       "    </tr>\n",
       "    <tr>\n",
       "      <th>4</th>\n",
       "      <td>100</td>\n",
       "      <td>10</td>\n",
       "      <td>0.1028</td>\n",
       "      <td>0.4481</td>\n",
       "      <td>0.5068</td>\n",
       "      <td>4.358949</td>\n",
       "      <td>4.929961</td>\n",
       "      <td>1.130998</td>\n",
       "    </tr>\n",
       "    <tr>\n",
       "      <th>5</th>\n",
       "      <td>100</td>\n",
       "      <td>100</td>\n",
       "      <td>0.9955</td>\n",
       "      <td>4.6180</td>\n",
       "      <td>5.2270</td>\n",
       "      <td>4.638875</td>\n",
       "      <td>5.250628</td>\n",
       "      <td>1.131875</td>\n",
       "    </tr>\n",
       "    <tr>\n",
       "      <th>6</th>\n",
       "      <td>100</td>\n",
       "      <td>1000</td>\n",
       "      <td>9.1049</td>\n",
       "      <td>32.9905</td>\n",
       "      <td>35.6388</td>\n",
       "      <td>3.623379</td>\n",
       "      <td>3.914244</td>\n",
       "      <td>1.080275</td>\n",
       "    </tr>\n",
       "    <tr>\n",
       "      <th>7</th>\n",
       "      <td>100</td>\n",
       "      <td>5000</td>\n",
       "      <td>33.3875</td>\n",
       "      <td>71.1490</td>\n",
       "      <td>73.4072</td>\n",
       "      <td>2.131007</td>\n",
       "      <td>2.198643</td>\n",
       "      <td>1.031739</td>\n",
       "    </tr>\n",
       "    <tr>\n",
       "      <th>8</th>\n",
       "      <td>1000</td>\n",
       "      <td>10</td>\n",
       "      <td>0.9887</td>\n",
       "      <td>4.4747</td>\n",
       "      <td>4.0167</td>\n",
       "      <td>4.525842</td>\n",
       "      <td>4.062607</td>\n",
       "      <td>0.897647</td>\n",
       "    </tr>\n",
       "    <tr>\n",
       "      <th>9</th>\n",
       "      <td>1000</td>\n",
       "      <td>100</td>\n",
       "      <td>9.9411</td>\n",
       "      <td>46.6738</td>\n",
       "      <td>43.0441</td>\n",
       "      <td>4.695034</td>\n",
       "      <td>4.329913</td>\n",
       "      <td>0.922233</td>\n",
       "    </tr>\n",
       "    <tr>\n",
       "      <th>10</th>\n",
       "      <td>1000</td>\n",
       "      <td>1000</td>\n",
       "      <td>90.7845</td>\n",
       "      <td>329.9863</td>\n",
       "      <td>356.4854</td>\n",
       "      <td>3.634831</td>\n",
       "      <td>3.926721</td>\n",
       "      <td>1.080304</td>\n",
       "    </tr>\n",
       "    <tr>\n",
       "      <th>11</th>\n",
       "      <td>1000</td>\n",
       "      <td>5000</td>\n",
       "      <td>333.2329</td>\n",
       "      <td>711.6474</td>\n",
       "      <td>734.4514</td>\n",
       "      <td>2.135586</td>\n",
       "      <td>2.204018</td>\n",
       "      <td>1.032044</td>\n",
       "    </tr>\n",
       "    <tr>\n",
       "      <th>12</th>\n",
       "      <td>5000</td>\n",
       "      <td>10</td>\n",
       "      <td>5.0217</td>\n",
       "      <td>6.0162</td>\n",
       "      <td>4.0104</td>\n",
       "      <td>1.198041</td>\n",
       "      <td>0.798614</td>\n",
       "      <td>0.666600</td>\n",
       "    </tr>\n",
       "    <tr>\n",
       "      <th>13</th>\n",
       "      <td>5000</td>\n",
       "      <td>100</td>\n",
       "      <td>49.3988</td>\n",
       "      <td>64.9415</td>\n",
       "      <td>42.9931</td>\n",
       "      <td>1.314637</td>\n",
       "      <td>0.870327</td>\n",
       "      <td>0.662028</td>\n",
       "    </tr>\n",
       "    <tr>\n",
       "      <th>14</th>\n",
       "      <td>5000</td>\n",
       "      <td>1000</td>\n",
       "      <td>454.2717</td>\n",
       "      <td>654.8661</td>\n",
       "      <td>431.0726</td>\n",
       "      <td>1.441574</td>\n",
       "      <td>0.948931</td>\n",
       "      <td>0.658261</td>\n",
       "    </tr>\n",
       "    <tr>\n",
       "      <th>15</th>\n",
       "      <td>5000</td>\n",
       "      <td>5000</td>\n",
       "      <td>1666.6437</td>\n",
       "      <td>3274.6420</td>\n",
       "      <td>2154.5939</td>\n",
       "      <td>1.964812</td>\n",
       "      <td>1.292774</td>\n",
       "      <td>0.657963</td>\n",
       "    </tr>\n",
       "  </tbody>\n",
       "</table>\n",
       "</div>"
      ],
      "text/plain": [
       "    No. of Checks  No. of Fakes  TP- Random Sample  TP- Original Threshold  \\\n",
       "0              10            10             0.0091                  0.0423   \n",
       "1              10           100             0.0989                  0.4694   \n",
       "2              10          1000             0.9204                  3.2576   \n",
       "3              10          5000             3.3438                  7.1128   \n",
       "4             100            10             0.1028                  0.4481   \n",
       "5             100           100             0.9955                  4.6180   \n",
       "6             100          1000             9.1049                 32.9905   \n",
       "7             100          5000            33.3875                 71.1490   \n",
       "8            1000            10             0.9887                  4.4747   \n",
       "9            1000           100             9.9411                 46.6738   \n",
       "10           1000          1000            90.7845                329.9863   \n",
       "11           1000          5000           333.2329                711.6474   \n",
       "12           5000            10             5.0217                  6.0162   \n",
       "13           5000           100            49.3988                 64.9415   \n",
       "14           5000          1000           454.2717                654.8661   \n",
       "15           5000          5000          1666.6437               3274.6420   \n",
       "\n",
       "    TP- Modified Threshold  Original/Random  Modified/Random  \\\n",
       "0                   0.0492         4.648352         5.406593   \n",
       "1                   0.5262         4.746208         5.320526   \n",
       "2                   3.5730         3.539331         3.882008   \n",
       "3                   7.3255         2.127161         2.190771   \n",
       "4                   0.5068         4.358949         4.929961   \n",
       "5                   5.2270         4.638875         5.250628   \n",
       "6                  35.6388         3.623379         3.914244   \n",
       "7                  73.4072         2.131007         2.198643   \n",
       "8                   4.0167         4.525842         4.062607   \n",
       "9                  43.0441         4.695034         4.329913   \n",
       "10                356.4854         3.634831         3.926721   \n",
       "11                734.4514         2.135586         2.204018   \n",
       "12                  4.0104         1.198041         0.798614   \n",
       "13                 42.9931         1.314637         0.870327   \n",
       "14                431.0726         1.441574         0.948931   \n",
       "15               2154.5939         1.964812         1.292774   \n",
       "\n",
       "    Modified/Original  \n",
       "0            1.163121  \n",
       "1            1.121006  \n",
       "2            1.096820  \n",
       "3            1.029904  \n",
       "4            1.130998  \n",
       "5            1.131875  \n",
       "6            1.080275  \n",
       "7            1.031739  \n",
       "8            0.897647  \n",
       "9            0.922233  \n",
       "10           1.080304  \n",
       "11           1.032044  \n",
       "12           0.666600  \n",
       "13           0.662028  \n",
       "14           0.658261  \n",
       "15           0.657963  "
      ]
     },
     "execution_count": 118,
     "metadata": {},
     "output_type": "execute_result"
    }
   ],
   "source": [
    "threshdf=pd.read_csv('GridSearch Output/Thresholding.csv')\n",
    "threshdf"
   ]
  },
  {
   "cell_type": "code",
   "execution_count": 119,
   "metadata": {
    "ExecuteTime": {
     "end_time": "2019-12-04T13:38:55.635399Z",
     "start_time": "2019-12-04T13:38:55.571509Z"
    }
   },
   "outputs": [
    {
     "name": "stdout",
     "output_type": "stream",
     "text": [
      "Prior Population of 10 fakes and 10000 pieces of real news\n"
     ]
    },
    {
     "data": {
      "text/html": [
       "<div>\n",
       "<style scoped>\n",
       "    .dataframe tbody tr th:only-of-type {\n",
       "        vertical-align: middle;\n",
       "    }\n",
       "\n",
       "    .dataframe tbody tr th {\n",
       "        vertical-align: top;\n",
       "    }\n",
       "\n",
       "    .dataframe thead th {\n",
       "        text-align: right;\n",
       "    }\n",
       "</style>\n",
       "<table border=\"1\" class=\"dataframe\">\n",
       "  <thead>\n",
       "    <tr style=\"text-align: right;\">\n",
       "      <th></th>\n",
       "      <th>No. of Checks</th>\n",
       "      <th>Original/Random</th>\n",
       "      <th>Modified/Random</th>\n",
       "      <th>Modified/Original</th>\n",
       "    </tr>\n",
       "  </thead>\n",
       "  <tbody>\n",
       "    <tr>\n",
       "      <th>0</th>\n",
       "      <td>10</td>\n",
       "      <td>4.648352</td>\n",
       "      <td>5.406593</td>\n",
       "      <td>1.163121</td>\n",
       "    </tr>\n",
       "    <tr>\n",
       "      <th>4</th>\n",
       "      <td>100</td>\n",
       "      <td>4.358949</td>\n",
       "      <td>4.929961</td>\n",
       "      <td>1.130998</td>\n",
       "    </tr>\n",
       "    <tr>\n",
       "      <th>8</th>\n",
       "      <td>1000</td>\n",
       "      <td>4.525842</td>\n",
       "      <td>4.062607</td>\n",
       "      <td>0.897647</td>\n",
       "    </tr>\n",
       "    <tr>\n",
       "      <th>12</th>\n",
       "      <td>5000</td>\n",
       "      <td>1.198041</td>\n",
       "      <td>0.798614</td>\n",
       "      <td>0.666600</td>\n",
       "    </tr>\n",
       "  </tbody>\n",
       "</table>\n",
       "</div>"
      ],
      "text/plain": [
       "    No. of Checks  Original/Random  Modified/Random  Modified/Original\n",
       "0              10         4.648352         5.406593           1.163121\n",
       "4             100         4.358949         4.929961           1.130998\n",
       "8            1000         4.525842         4.062607           0.897647\n",
       "12           5000         1.198041         0.798614           0.666600"
      ]
     },
     "metadata": {},
     "output_type": "display_data"
    },
    {
     "name": "stdout",
     "output_type": "stream",
     "text": [
      "Prior Population of 100 fakes and 10000 pieces of real news\n"
     ]
    },
    {
     "data": {
      "text/html": [
       "<div>\n",
       "<style scoped>\n",
       "    .dataframe tbody tr th:only-of-type {\n",
       "        vertical-align: middle;\n",
       "    }\n",
       "\n",
       "    .dataframe tbody tr th {\n",
       "        vertical-align: top;\n",
       "    }\n",
       "\n",
       "    .dataframe thead th {\n",
       "        text-align: right;\n",
       "    }\n",
       "</style>\n",
       "<table border=\"1\" class=\"dataframe\">\n",
       "  <thead>\n",
       "    <tr style=\"text-align: right;\">\n",
       "      <th></th>\n",
       "      <th>No. of Checks</th>\n",
       "      <th>Original/Random</th>\n",
       "      <th>Modified/Random</th>\n",
       "      <th>Modified/Original</th>\n",
       "    </tr>\n",
       "  </thead>\n",
       "  <tbody>\n",
       "    <tr>\n",
       "      <th>1</th>\n",
       "      <td>10</td>\n",
       "      <td>4.746208</td>\n",
       "      <td>5.320526</td>\n",
       "      <td>1.121006</td>\n",
       "    </tr>\n",
       "    <tr>\n",
       "      <th>5</th>\n",
       "      <td>100</td>\n",
       "      <td>4.638875</td>\n",
       "      <td>5.250628</td>\n",
       "      <td>1.131875</td>\n",
       "    </tr>\n",
       "    <tr>\n",
       "      <th>9</th>\n",
       "      <td>1000</td>\n",
       "      <td>4.695034</td>\n",
       "      <td>4.329913</td>\n",
       "      <td>0.922233</td>\n",
       "    </tr>\n",
       "    <tr>\n",
       "      <th>13</th>\n",
       "      <td>5000</td>\n",
       "      <td>1.314637</td>\n",
       "      <td>0.870327</td>\n",
       "      <td>0.662028</td>\n",
       "    </tr>\n",
       "  </tbody>\n",
       "</table>\n",
       "</div>"
      ],
      "text/plain": [
       "    No. of Checks  Original/Random  Modified/Random  Modified/Original\n",
       "1              10         4.746208         5.320526           1.121006\n",
       "5             100         4.638875         5.250628           1.131875\n",
       "9            1000         4.695034         4.329913           0.922233\n",
       "13           5000         1.314637         0.870327           0.662028"
      ]
     },
     "metadata": {},
     "output_type": "display_data"
    },
    {
     "name": "stdout",
     "output_type": "stream",
     "text": [
      "Prior Population of 1000 fakes and 10000 pieces of real news\n"
     ]
    },
    {
     "data": {
      "text/html": [
       "<div>\n",
       "<style scoped>\n",
       "    .dataframe tbody tr th:only-of-type {\n",
       "        vertical-align: middle;\n",
       "    }\n",
       "\n",
       "    .dataframe tbody tr th {\n",
       "        vertical-align: top;\n",
       "    }\n",
       "\n",
       "    .dataframe thead th {\n",
       "        text-align: right;\n",
       "    }\n",
       "</style>\n",
       "<table border=\"1\" class=\"dataframe\">\n",
       "  <thead>\n",
       "    <tr style=\"text-align: right;\">\n",
       "      <th></th>\n",
       "      <th>No. of Checks</th>\n",
       "      <th>Original/Random</th>\n",
       "      <th>Modified/Random</th>\n",
       "      <th>Modified/Original</th>\n",
       "    </tr>\n",
       "  </thead>\n",
       "  <tbody>\n",
       "    <tr>\n",
       "      <th>2</th>\n",
       "      <td>10</td>\n",
       "      <td>3.539331</td>\n",
       "      <td>3.882008</td>\n",
       "      <td>1.096820</td>\n",
       "    </tr>\n",
       "    <tr>\n",
       "      <th>6</th>\n",
       "      <td>100</td>\n",
       "      <td>3.623379</td>\n",
       "      <td>3.914244</td>\n",
       "      <td>1.080275</td>\n",
       "    </tr>\n",
       "    <tr>\n",
       "      <th>10</th>\n",
       "      <td>1000</td>\n",
       "      <td>3.634831</td>\n",
       "      <td>3.926721</td>\n",
       "      <td>1.080304</td>\n",
       "    </tr>\n",
       "    <tr>\n",
       "      <th>14</th>\n",
       "      <td>5000</td>\n",
       "      <td>1.441574</td>\n",
       "      <td>0.948931</td>\n",
       "      <td>0.658261</td>\n",
       "    </tr>\n",
       "  </tbody>\n",
       "</table>\n",
       "</div>"
      ],
      "text/plain": [
       "    No. of Checks  Original/Random  Modified/Random  Modified/Original\n",
       "2              10         3.539331         3.882008           1.096820\n",
       "6             100         3.623379         3.914244           1.080275\n",
       "10           1000         3.634831         3.926721           1.080304\n",
       "14           5000         1.441574         0.948931           0.658261"
      ]
     },
     "metadata": {},
     "output_type": "display_data"
    },
    {
     "name": "stdout",
     "output_type": "stream",
     "text": [
      "Prior Population of 5000 fakes and 10000 pieces of real news\n"
     ]
    },
    {
     "data": {
      "text/html": [
       "<div>\n",
       "<style scoped>\n",
       "    .dataframe tbody tr th:only-of-type {\n",
       "        vertical-align: middle;\n",
       "    }\n",
       "\n",
       "    .dataframe tbody tr th {\n",
       "        vertical-align: top;\n",
       "    }\n",
       "\n",
       "    .dataframe thead th {\n",
       "        text-align: right;\n",
       "    }\n",
       "</style>\n",
       "<table border=\"1\" class=\"dataframe\">\n",
       "  <thead>\n",
       "    <tr style=\"text-align: right;\">\n",
       "      <th></th>\n",
       "      <th>No. of Checks</th>\n",
       "      <th>Original/Random</th>\n",
       "      <th>Modified/Random</th>\n",
       "      <th>Modified/Original</th>\n",
       "    </tr>\n",
       "  </thead>\n",
       "  <tbody>\n",
       "    <tr>\n",
       "      <th>3</th>\n",
       "      <td>10</td>\n",
       "      <td>2.127161</td>\n",
       "      <td>2.190771</td>\n",
       "      <td>1.029904</td>\n",
       "    </tr>\n",
       "    <tr>\n",
       "      <th>7</th>\n",
       "      <td>100</td>\n",
       "      <td>2.131007</td>\n",
       "      <td>2.198643</td>\n",
       "      <td>1.031739</td>\n",
       "    </tr>\n",
       "    <tr>\n",
       "      <th>11</th>\n",
       "      <td>1000</td>\n",
       "      <td>2.135586</td>\n",
       "      <td>2.204018</td>\n",
       "      <td>1.032044</td>\n",
       "    </tr>\n",
       "    <tr>\n",
       "      <th>15</th>\n",
       "      <td>5000</td>\n",
       "      <td>1.964812</td>\n",
       "      <td>1.292774</td>\n",
       "      <td>0.657963</td>\n",
       "    </tr>\n",
       "  </tbody>\n",
       "</table>\n",
       "</div>"
      ],
      "text/plain": [
       "    No. of Checks  Original/Random  Modified/Random  Modified/Original\n",
       "3              10         2.127161         2.190771           1.029904\n",
       "7             100         2.131007         2.198643           1.031739\n",
       "11           1000         2.135586         2.204018           1.032044\n",
       "15           5000         1.964812         1.292774           0.657963"
      ]
     },
     "metadata": {},
     "output_type": "display_data"
    }
   ],
   "source": [
    "for prior in priors:\n",
    "    print(f'Prior Population of {prior} fakes and 10000 pieces of real news')\n",
    "    display(threshdf[threshdf['No. of Fakes']==prior][['No. of Checks','Original/Random','Modified/Random','Modified/Original']])"
   ]
  },
  {
   "cell_type": "markdown",
   "metadata": {},
   "source": [
    "Several Observations:\n",
    "\n",
    "1. The original model consistently performed better than random sampling\n",
    "2. The modified model was suitable when the number of checks was less than the number of fake news present in the population\n",
    "3.  The original model performed best when the number of checks and fakes were similiar\n",
    "\n"
   ]
  },
  {
   "cell_type": "markdown",
   "metadata": {},
   "source": [
    "## Case Study 2: Testing on other Datasets\n",
    "\n",
    "**This dataset has a more general focus, and is less focused on American Politics. It is expected that the ordinary model will perform worse while the POS model may perform more adequately.**"
   ]
  },
  {
   "cell_type": "markdown",
   "metadata": {},
   "source": [
    "### Read CSV"
   ]
  },
  {
   "cell_type": "code",
   "execution_count": 121,
   "metadata": {
    "ExecuteTime": {
     "end_time": "2019-12-04T14:30:54.909057Z",
     "start_time": "2019-12-04T14:30:54.840509Z"
    }
   },
   "outputs": [],
   "source": [
    "snopes=pd.read_csv('Cleaned CSV/snopesclean.csv')"
   ]
  },
  {
   "cell_type": "code",
   "execution_count": 122,
   "metadata": {
    "ExecuteTime": {
     "end_time": "2019-12-04T14:30:55.415717Z",
     "start_time": "2019-12-04T14:30:55.398840Z"
    }
   },
   "outputs": [
    {
     "data": {
      "text/html": [
       "<div>\n",
       "<style scoped>\n",
       "    .dataframe tbody tr th:only-of-type {\n",
       "        vertical-align: middle;\n",
       "    }\n",
       "\n",
       "    .dataframe tbody tr th {\n",
       "        vertical-align: top;\n",
       "    }\n",
       "\n",
       "    .dataframe thead th {\n",
       "        text-align: right;\n",
       "    }\n",
       "</style>\n",
       "<table border=\"1\" class=\"dataframe\">\n",
       "  <thead>\n",
       "    <tr style=\"text-align: right;\">\n",
       "      <th></th>\n",
       "      <th>rating</th>\n",
       "      <th>text</th>\n",
       "      <th>target</th>\n",
       "      <th>nltklemma</th>\n",
       "      <th>spacylemma2</th>\n",
       "      <th>spacylemma</th>\n",
       "      <th>spacy_pos</th>\n",
       "      <th>spacy_pos2</th>\n",
       "    </tr>\n",
       "  </thead>\n",
       "  <tbody>\n",
       "    <tr>\n",
       "      <th>0</th>\n",
       "      <td>mixture</td>\n",
       "      <td>Elizabeth Warren, the Harvard Law School profe...</td>\n",
       "      <td>1</td>\n",
       "      <td>elizabeth warren harvard law school professor ...</td>\n",
       "      <td>PROPN PROPN PROPN PROPN PROPN professor consum...</td>\n",
       "      <td>Elizabeth Warren Harvard Law School professor ...</td>\n",
       "      <td>PROPN PROPN PUNCT PROPN PROPN PROPN NOUN NOUN ...</td>\n",
       "      <td>PROPN PROPN DET PROPN PROPN PROPN NOUN CCONJ N...</td>\n",
       "    </tr>\n",
       "  </tbody>\n",
       "</table>\n",
       "</div>"
      ],
      "text/plain": [
       "    rating                                               text  target  \\\n",
       "0  mixture  Elizabeth Warren, the Harvard Law School profe...       1   \n",
       "\n",
       "                                           nltklemma  \\\n",
       "0  elizabeth warren harvard law school professor ...   \n",
       "\n",
       "                                         spacylemma2  \\\n",
       "0  PROPN PROPN PROPN PROPN PROPN professor consum...   \n",
       "\n",
       "                                          spacylemma  \\\n",
       "0  Elizabeth Warren Harvard Law School professor ...   \n",
       "\n",
       "                                           spacy_pos  \\\n",
       "0  PROPN PROPN PUNCT PROPN PROPN PROPN NOUN NOUN ...   \n",
       "\n",
       "                                          spacy_pos2  \n",
       "0  PROPN PROPN DET PROPN PROPN PROPN NOUN CCONJ N...  "
      ]
     },
     "execution_count": 122,
     "metadata": {},
     "output_type": "execute_result"
    }
   ],
   "source": [
    "snopes.head(1)"
   ]
  },
  {
   "cell_type": "code",
   "execution_count": 123,
   "metadata": {
    "ExecuteTime": {
     "end_time": "2019-12-04T14:30:55.836456Z",
     "start_time": "2019-12-04T14:30:55.830666Z"
    }
   },
   "outputs": [],
   "source": [
    "snopes_X=snopes['spacylemma2']\n",
    "snopes_Xpos=snopes['spacy_pos2']\n",
    "snopes_Y=snopes['target']"
   ]
  },
  {
   "cell_type": "markdown",
   "metadata": {},
   "source": [
    "### Test Models"
   ]
  },
  {
   "cell_type": "code",
   "execution_count": 124,
   "metadata": {
    "ExecuteTime": {
     "end_time": "2019-12-04T14:30:57.057818Z",
     "start_time": "2019-12-04T14:30:56.821461Z"
    }
   },
   "outputs": [
    {
     "data": {
      "text/html": [
       "<div>\n",
       "<style scoped>\n",
       "    .dataframe tbody tr th:only-of-type {\n",
       "        vertical-align: middle;\n",
       "    }\n",
       "\n",
       "    .dataframe tbody tr th {\n",
       "        vertical-align: top;\n",
       "    }\n",
       "\n",
       "    .dataframe thead th {\n",
       "        text-align: right;\n",
       "    }\n",
       "</style>\n",
       "<table border=\"1\" class=\"dataframe\">\n",
       "  <thead>\n",
       "    <tr style=\"text-align: right;\">\n",
       "      <th></th>\n",
       "      <th>Predicted Real</th>\n",
       "      <th>Predicted Fake</th>\n",
       "    </tr>\n",
       "    <tr>\n",
       "      <th>index</th>\n",
       "      <th></th>\n",
       "      <th></th>\n",
       "    </tr>\n",
       "  </thead>\n",
       "  <tbody>\n",
       "    <tr>\n",
       "      <th>Real Real</th>\n",
       "      <td>122</td>\n",
       "      <td>13</td>\n",
       "    </tr>\n",
       "    <tr>\n",
       "      <th>Real Fake</th>\n",
       "      <td>153</td>\n",
       "      <td>22</td>\n",
       "    </tr>\n",
       "  </tbody>\n",
       "</table>\n",
       "</div>"
      ],
      "text/plain": [
       "           Predicted Real  Predicted Fake\n",
       "index                                    \n",
       "Real Real             122              13\n",
       "Real Fake             153              22"
      ]
     },
     "metadata": {},
     "output_type": "display_data"
    },
    {
     "name": "stdout",
     "output_type": "stream",
     "text": [
      "{'accuracy': 0.4645161290322581, 'f': 0.20952380952380953, 'precision': 0.6285714285714286, 'recall': 0.12571428571428572, 'fprate': 0.09629629629629632, 'tprate': 0.12571428571428572, 'tprate/fprate': 1.3054945054945053}\n"
     ]
    }
   ],
   "source": [
    "snopes_pred=assess_model(pipe,snopes_X,snopes_Y,0.5)"
   ]
  },
  {
   "cell_type": "code",
   "execution_count": 125,
   "metadata": {
    "ExecuteTime": {
     "end_time": "2019-12-04T14:30:57.798257Z",
     "start_time": "2019-12-04T14:30:57.208742Z"
    }
   },
   "outputs": [
    {
     "data": {
      "text/html": [
       "<div>\n",
       "<style scoped>\n",
       "    .dataframe tbody tr th:only-of-type {\n",
       "        vertical-align: middle;\n",
       "    }\n",
       "\n",
       "    .dataframe tbody tr th {\n",
       "        vertical-align: top;\n",
       "    }\n",
       "\n",
       "    .dataframe thead th {\n",
       "        text-align: right;\n",
       "    }\n",
       "</style>\n",
       "<table border=\"1\" class=\"dataframe\">\n",
       "  <thead>\n",
       "    <tr style=\"text-align: right;\">\n",
       "      <th></th>\n",
       "      <th>Predicted Real</th>\n",
       "      <th>Predicted Fake</th>\n",
       "    </tr>\n",
       "    <tr>\n",
       "      <th>index</th>\n",
       "      <th></th>\n",
       "      <th></th>\n",
       "    </tr>\n",
       "  </thead>\n",
       "  <tbody>\n",
       "    <tr>\n",
       "      <th>Real Real</th>\n",
       "      <td>98</td>\n",
       "      <td>37</td>\n",
       "    </tr>\n",
       "    <tr>\n",
       "      <th>Real Fake</th>\n",
       "      <td>119</td>\n",
       "      <td>56</td>\n",
       "    </tr>\n",
       "  </tbody>\n",
       "</table>\n",
       "</div>"
      ],
      "text/plain": [
       "           Predicted Real  Predicted Fake\n",
       "index                                    \n",
       "Real Real              98              37\n",
       "Real Fake             119              56"
      ]
     },
     "metadata": {},
     "output_type": "display_data"
    },
    {
     "name": "stdout",
     "output_type": "stream",
     "text": [
      "{'accuracy': 0.4967741935483871, 'f': 0.417910447761194, 'precision': 0.6021505376344086, 'recall': 0.32, 'fprate': 0.274074074074074, 'tprate': 0.32, 'tprate/fprate': 1.1675675675675679}\n"
     ]
    }
   ],
   "source": [
    "snopes_pos_pred=assess_model(pipepos,snopes_Xpos,snopes_Y,0.5)"
   ]
  },
  {
   "cell_type": "code",
   "execution_count": 126,
   "metadata": {
    "ExecuteTime": {
     "end_time": "2019-12-04T14:30:58.427352Z",
     "start_time": "2019-12-04T14:30:57.801101Z"
    }
   },
   "outputs": [
    {
     "data": {
      "image/png": "[encoded data removed]",
      "text/plain": [
       "<Figure size 720x504 with 1 Axes>"
      ]
     },
     "metadata": {
      "needs_background": "light"
     },
     "output_type": "display_data"
    }
   ],
   "source": [
    "plotprob(snopes_pred)"
   ]
  },
  {
   "cell_type": "code",
   "execution_count": 127,
   "metadata": {
    "ExecuteTime": {
     "end_time": "2019-12-04T14:30:59.144979Z",
     "start_time": "2019-12-04T14:30:58.432149Z"
    }
   },
   "outputs": [
    {
     "data": {
      "image/png": "[encoded data removed]",
      "text/plain": [
       "<Figure size 720x504 with 1 Axes>"
      ]
     },
     "metadata": {
      "needs_background": "light"
     },
     "output_type": "display_data"
    }
   ],
   "source": [
    "plotprob(snopes_pos_pred)"
   ]
  },
  {
   "cell_type": "code",
   "execution_count": 128,
   "metadata": {
    "ExecuteTime": {
     "end_time": "2019-12-04T14:31:00.954641Z",
     "start_time": "2019-12-04T14:30:59.152883Z"
    }
   },
   "outputs": [
    {
     "data": {
      "image/png": "[encoded data removed]",
      "text/plain": [
       "<Figure size 720x504 with 1 Axes>"
      ]
     },
     "metadata": {
      "needs_background": "light"
     },
     "output_type": "display_data"
    }
   ],
   "source": [
    "rocauccurve(snopes_pred)"
   ]
  },
  {
   "cell_type": "code",
   "execution_count": 129,
   "metadata": {
    "ExecuteTime": {
     "end_time": "2019-12-04T14:31:02.889172Z",
     "start_time": "2019-12-04T14:31:00.957981Z"
    }
   },
   "outputs": [
    {
     "data": {
      "image/png": "[encoded data removed]",
      "text/plain": [
       "<Figure size 720x504 with 1 Axes>"
      ]
     },
     "metadata": {
      "needs_background": "light"
     },
     "output_type": "display_data"
    }
   ],
   "source": [
    "rocauccurve(snopes_pos_pred)"
   ]
  },
  {
   "cell_type": "markdown",
   "metadata": {},
   "source": [
    "### Comments\n",
    "\n",
    "Unlike what was hoped, the POS-only model performed much worse than that for the best model. Both models showed poor generalizability outside of the topics covered in the dataset. "
   ]
  },
  {
   "cell_type": "markdown",
   "metadata": {},
   "source": [
    "## Final Conclusion\n",
    "\n",
    "As the size of the hand-labeled datasets generally number around the couple of thousand, and are on rather focused particular topics, models built on them are not general classifiers. A model such as this can help watchdogs focused on a particular topic; in this case American Politics, in greatly increasing the number of fake news articles classified when the source is unknown. \n",
    "\n",
    "Deep learning models were used and , including Self-Embedded layers with LSTM and BiDirectional LSTM, Word Vectors pretrained on Google News Dataset, and finally, BERT.\n",
    "\n",
    "For a more generalized classifier, we move onto the Fake News Corpus, which labels news by domain. A classifier built on this would be more of a fake news site detector than a fake news classifier per se, but for most purposes should serve."
   ]
  },
  {
   "cell_type": "code",
   "execution_count": null,
   "metadata": {},
   "outputs": [],
   "source": []
  },
  {
   "cell_type": "code",
   "execution_count": null,
   "metadata": {},
   "outputs": [],
   "source": []
  }
 ],
 "metadata": {
  "colab": {
   "collapsed_sections": [
    "i9NhqrlTOex9",
    "E2xv-bDQOeyC",
    "dFzS1YdiOeyS",
    "U-3ifsR7OeyX",
    "_XUFg6vmOeya",
    "uFDxVM9kOeyn",
    "2geYw56POeys",
    "Cw__sqW1Oey0",
    "-7MSHXa2Oey7",
    "ReABi2N_OezH",
    "_g29VZO3Oezl",
    "Il8CdnhNOezp",
    "LQaGuzVxOezs",
    "thQGff_aOezt",
    "dtioG67FOez4",
    "elaEA47POe0J",
    "LQWlcXdOOe0X",
    "3V1yzdX5Oe0i",
    "L8KxBQCZOe0s",
    "2AvituUwOe07",
    "zWcEtwOJOe08"
   ],
   "machine_shape": "hm",
   "name": "SnopesDataset.ipynb",
   "provenance": [],
   "toc_visible": true
  },
  "kernelspec": {
   "display_name": "Python 3",
   "language": "python",
   "name": "python3"
  },
  "language_info": {
   "codemirror_mode": {
    "name": "ipython",
    "version": 3
   },
   "file_extension": ".py",
   "mimetype": "text/x-python",
   "name": "python",
   "nbconvert_exporter": "python",
   "pygments_lexer": "ipython3",
   "version": "3.7.3"
  },
  "toc": {
   "base_numbering": 1,
   "nav_menu": {},
   "number_sections": true,
   "sideBar": true,
   "skip_h1_title": false,
   "title_cell": "Table of Contents",
   "title_sidebar": "Contents",
   "toc_cell": false,
   "toc_position": {
    "height": "calc(100% - 180px)",
    "left": "10px",
    "top": "150px",
    "width": "320px"
   },
   "toc_section_display": true,
   "toc_window_display": true
  }
 },
 "nbformat": 4,
 "nbformat_minor": 1
}
