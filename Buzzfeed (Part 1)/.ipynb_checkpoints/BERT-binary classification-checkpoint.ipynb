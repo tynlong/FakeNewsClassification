{
 "cells": [
  {
   "cell_type": "markdown",
   "metadata": {
    "colab_type": "text",
    "id": "DrEj5SI6MITG"
   },
   "source": [
    "# Fake News Detection using BERT\n",
    "\n",
    "In this notebook, we build a binary text classifier to Fake News Articles from the Buzzfeed Dataset , a pretrained NLP model that can be used for transfer learning on text data.  We will use the [*ktrain* library](https://github.com/amaiya/ktrain), a lightweight wrapper around Keras to help train (and deploy) neural networks.  For more information on *ktrain*, see [this Medium post](https://towardsdatascience.com/ktrain-a-lightweight-wrapper-for-keras-to-help-train-neural-networks-82851ba889c).\n",
    "\n",
    "We will begin by installing *ktrain* and importing the required *ktrain* modules."
   ]
  },
  {
   "cell_type": "markdown",
   "metadata": {
    "colab_type": "text",
    "id": "4r6RR85EOtJr"
   },
   "source": [
    "### Imports and Installations"
   ]
  },
  {
   "cell_type": "code",
   "execution_count": 1,
   "metadata": {
    "ExecuteTime": {
     "end_time": "2019-12-04T16:25:12.083322Z",
     "start_time": "2019-12-04T16:25:03.274309Z"
    },
    "colab": {
     "base_uri": "https://localhost:8080/",
     "height": 850
    },
    "colab_type": "code",
    "executionInfo": {
     "elapsed": 5925,
     "status": "ok",
     "timestamp": 1575451607115,
     "user": {
      "displayName": "Tyn Long Tay",
      "photoUrl": "",
      "userId": "05995455900473544360"
     },
     "user_tz": -480
    },
    "id": "ijx0A5xdKb0W",
    "outputId": "393f7bef-7590-419e-a4e8-b4593b66e2c9"
   },
   "outputs": [
    {
     "name": "stderr",
     "output_type": "stream",
     "text": [
      "Using TensorFlow backend.\n"
     ]
    },
    {
     "name": "stdout",
     "output_type": "stream",
     "text": [
      "using Keras version: 2.2.4\n"
     ]
    }
   ],
   "source": [
    "# install ktrain\n",
    "import pandas as pd\n",
    "import numpy as np\n",
    "import seaborn as sns\n",
    "import matplotlib.pyplot as plt\n",
    "\n",
    "import string\n",
    "\n",
    "#import metrics and preprocessing\n",
    "from sklearn.model_selection import train_test_split,cross_val_score,GridSearchCV,StratifiedKFold\n",
    "\n",
    "from keras.models import Sequential\n",
    "from keras.layers import Dense,Embedding,SpatialDropout1D,LSTM,Bidirectional,Conv2D,Flatten\n",
    "from keras.utils import to_categorical\n",
    "from keras.preprocessing.text import Tokenizer\n",
    "from keras.preprocessing.sequence import pad_sequences\n",
    "from keras.callbacks import EarlyStopping,ModelCheckpoint\n",
    "from keras import metrics\n",
    "from keras import optimizers\n",
    "\n",
    "%matplotlib inline\n",
    "\n",
    "# import ktrain\n",
    "import ktrain\n",
    "from ktrain import text"
   ]
  },
  {
   "cell_type": "code",
   "execution_count": null,
   "metadata": {},
   "outputs": [],
   "source": []
  },
  {
   "cell_type": "markdown",
   "metadata": {
    "colab_type": "text",
    "id": "1Nm5-uiiMj0I"
   },
   "source": [
    "## STEP 1:  Load and Preprocess the Dataset\n",
    "\n",
    "The `texts_from_folder` function will load the training and validation data from the specified folder and automatically preprocess it according to BERT's requirements.  In doing so, the BERT model and vocabulary will be automatically downloaded."
   ]
  },
  {
   "cell_type": "code",
   "execution_count": 4,
   "metadata": {
    "ExecuteTime": {
     "end_time": "2019-12-04T16:25:56.994583Z",
     "start_time": "2019-12-04T16:25:56.731402Z"
    },
    "colab": {},
    "colab_type": "code",
    "id": "Auo92zXyy3qb"
   },
   "outputs": [],
   "source": [
    "# download dataset\n",
    "df=pd.read_csv('Cleaned CSV/buzzfeedclean.csv')\n"
   ]
  },
  {
   "cell_type": "code",
   "execution_count": 5,
   "metadata": {
    "ExecuteTime": {
     "end_time": "2019-12-04T16:25:59.580248Z",
     "start_time": "2019-12-04T16:25:59.554566Z"
    },
    "colab": {},
    "colab_type": "code",
    "id": "8eEHDRG_z_p5"
   },
   "outputs": [],
   "source": [
    "df['original_rating']=df['rating'].map({'mixture of true and false':0,'mostly false':1,'mostly true':2,'no factual content':3})\n",
    "df=pd.get_dummies(df,columns=['rating'])"
   ]
  },
  {
   "cell_type": "code",
   "execution_count": 6,
   "metadata": {
    "ExecuteTime": {
     "end_time": "2019-12-04T16:26:00.157699Z",
     "start_time": "2019-12-04T16:26:00.129097Z"
    },
    "colab": {
     "base_uri": "https://localhost:8080/",
     "height": 368
    },
    "colab_type": "code",
    "executionInfo": {
     "elapsed": 819,
     "status": "ok",
     "timestamp": 1575451658528,
     "user": {
      "displayName": "Tyn Long Tay",
      "photoUrl": "",
      "userId": "05995455900473544360"
     },
     "user_tz": -480
    },
    "id": "_Kv1IJTxzPOr",
    "outputId": "e9f5972b-6ce0-4f7a-e33e-fa2f9c6a1317"
   },
   "outputs": [
    {
     "data": {
      "text/html": [
       "<div>\n",
       "<style scoped>\n",
       "    .dataframe tbody tr th:only-of-type {\n",
       "        vertical-align: middle;\n",
       "    }\n",
       "\n",
       "    .dataframe tbody tr th {\n",
       "        vertical-align: top;\n",
       "    }\n",
       "\n",
       "    .dataframe thead th {\n",
       "        text-align: right;\n",
       "    }\n",
       "</style>\n",
       "<table border=\"1\" class=\"dataframe\">\n",
       "  <thead>\n",
       "    <tr style=\"text-align: right;\">\n",
       "      <th></th>\n",
       "      <th>id</th>\n",
       "      <th>url</th>\n",
       "      <th>text</th>\n",
       "      <th>domain</th>\n",
       "      <th>source</th>\n",
       "      <th>lower text</th>\n",
       "      <th>target</th>\n",
       "      <th>nltklemma</th>\n",
       "      <th>spacylemma</th>\n",
       "      <th>spacylemma2</th>\n",
       "      <th>spacy_pos</th>\n",
       "      <th>spacy_pos2</th>\n",
       "      <th>original_rating</th>\n",
       "      <th>rating_mixture of true and false</th>\n",
       "      <th>rating_mostly false</th>\n",
       "      <th>rating_mostly true</th>\n",
       "      <th>rating_no factual content</th>\n",
       "    </tr>\n",
       "  </thead>\n",
       "  <tbody>\n",
       "    <tr>\n",
       "      <th>0</th>\n",
       "      <td>1204</td>\n",
       "      <td>http://occupydemocrats.com/2016/09/23/donald-t...</td>\n",
       "      <td>A few days ago, DonaldTrump despicable spawn ...</td>\n",
       "      <td>occupydemocrats.com</td>\n",
       "      <td>buzzfeed</td>\n",
       "      <td>a few days ago, donaldtrump despicable spawn ...</td>\n",
       "      <td>0</td>\n",
       "      <td>day ago donaldtrump despicable spawn tweeted m...</td>\n",
       "      <td>day ago , DonaldTrump despicable spawn tweet...</td>\n",
       "      <td>day ago , PROPN despicable spawn tweet meme ...</td>\n",
       "      <td>SPACE NOUN ADV PUNCT PROPN ADJ NOUN VERB NOUN ...</td>\n",
       "      <td>SPACE DET ADJ NOUN ADV PROPN ADJ NOUN VERB ADP...</td>\n",
       "      <td>2</td>\n",
       "      <td>0</td>\n",
       "      <td>0</td>\n",
       "      <td>1</td>\n",
       "      <td>0</td>\n",
       "    </tr>\n",
       "    <tr>\n",
       "      <th>1</th>\n",
       "      <td>1157</td>\n",
       "      <td>http://occupydemocrats.com/2016/09/19/just-50-...</td>\n",
       "      <td>A group of over fifty former intelligence off...</td>\n",
       "      <td>occupydemocrats.com</td>\n",
       "      <td>buzzfeed</td>\n",
       "      <td>a group of over fifty former intelligence off...</td>\n",
       "      <td>0</td>\n",
       "      <td>group fifty former intelligence official natio...</td>\n",
       "      <td>group intelligence official national securit...</td>\n",
       "      <td>group intelligence official national securit...</td>\n",
       "      <td>SPACE NOUN NOUN NOUN ADJ NOUN NOUN VERB NOUN V...</td>\n",
       "      <td>SPACE DET NOUN ADP ADP NUM ADJ NOUN NOUN CCONJ...</td>\n",
       "      <td>2</td>\n",
       "      <td>0</td>\n",
       "      <td>0</td>\n",
       "      <td>1</td>\n",
       "      <td>0</td>\n",
       "    </tr>\n",
       "  </tbody>\n",
       "</table>\n",
       "</div>"
      ],
      "text/plain": [
       "     id                                                url  \\\n",
       "0  1204  http://occupydemocrats.com/2016/09/23/donald-t...   \n",
       "1  1157  http://occupydemocrats.com/2016/09/19/just-50-...   \n",
       "\n",
       "                                                text               domain  \\\n",
       "0   A few days ago, DonaldTrump despicable spawn ...  occupydemocrats.com   \n",
       "1   A group of over fifty former intelligence off...  occupydemocrats.com   \n",
       "\n",
       "     source                                         lower text  target  \\\n",
       "0  buzzfeed   a few days ago, donaldtrump despicable spawn ...       0   \n",
       "1  buzzfeed   a group of over fifty former intelligence off...       0   \n",
       "\n",
       "                                           nltklemma  \\\n",
       "0  day ago donaldtrump despicable spawn tweeted m...   \n",
       "1  group fifty former intelligence official natio...   \n",
       "\n",
       "                                          spacylemma  \\\n",
       "0    day ago , DonaldTrump despicable spawn tweet...   \n",
       "1    group intelligence official national securit...   \n",
       "\n",
       "                                         spacylemma2  \\\n",
       "0    day ago , PROPN despicable spawn tweet meme ...   \n",
       "1    group intelligence official national securit...   \n",
       "\n",
       "                                           spacy_pos  \\\n",
       "0  SPACE NOUN ADV PUNCT PROPN ADJ NOUN VERB NOUN ...   \n",
       "1  SPACE NOUN NOUN NOUN ADJ NOUN NOUN VERB NOUN V...   \n",
       "\n",
       "                                          spacy_pos2  original_rating  \\\n",
       "0  SPACE DET ADJ NOUN ADV PROPN ADJ NOUN VERB ADP...                2   \n",
       "1  SPACE DET NOUN ADP ADP NUM ADJ NOUN NOUN CCONJ...                2   \n",
       "\n",
       "   rating_mixture of true and false  rating_mostly false  rating_mostly true  \\\n",
       "0                                 0                    0                   1   \n",
       "1                                 0                    0                   1   \n",
       "\n",
       "   rating_no factual content  \n",
       "0                          0  \n",
       "1                          0  "
      ]
     },
     "execution_count": 6,
     "metadata": {},
     "output_type": "execute_result"
    }
   ],
   "source": [
    "df.head(2)"
   ]
  },
  {
   "cell_type": "code",
   "execution_count": 7,
   "metadata": {
    "ExecuteTime": {
     "end_time": "2019-12-04T16:31:15.821779Z",
     "start_time": "2019-12-04T16:30:23.518051Z"
    },
    "colab": {
     "base_uri": "https://localhost:8080/",
     "height": 115
    },
    "colab_type": "code",
    "executionInfo": {
     "elapsed": 11563,
     "status": "ok",
     "timestamp": 1575451672697,
     "user": {
      "displayName": "Tyn Long Tay",
      "photoUrl": "",
      "userId": "05995455900473544360"
     },
     "user_tz": -480
    },
    "id": "rXoFsVJNvx3I",
    "outputId": "6d835ac7-56b4-4a1d-eebf-a9046ffad29b"
   },
   "outputs": [
    {
     "name": "stdout",
     "output_type": "stream",
     "text": [
      "downloading pretrained BERT model (uncased_L-12_H-768_A-12.zip)...\n",
      "[██████████████████████████████████████████████████]\n",
      "extracting pretrained BERT model...\n",
      "done.\n",
      "\n",
      "cleanup downloaded zip...\n",
      "done.\n",
      "\n",
      "preprocessing train...\n",
      "language: en\n"
     ]
    },
    {
     "data": {
      "text/html": [
       "done."
      ],
      "text/plain": [
       "<IPython.core.display.HTML object>"
      ]
     },
     "metadata": {},
     "output_type": "display_data"
    },
    {
     "name": "stdout",
     "output_type": "stream",
     "text": [
      "preprocessing test...\n",
      "language: en\n"
     ]
    },
    {
     "data": {
      "text/html": [
       "done."
      ],
      "text/plain": [
       "<IPython.core.display.HTML object>"
      ]
     },
     "metadata": {},
     "output_type": "display_data"
    }
   ],
   "source": [
    "(x_train, y_train), (x_test, y_test), preproc=text.texts_from_df(df,\n",
    "                                                                 text_column='text',\n",
    "                                                                 label_columns=['target'],\n",
    "                                                                 max_features=40000,\n",
    "                                                                 maxlen=512,\n",
    "                                                                 preprocess_mode='bert',\n",
    "                                                                 val_pct=0.2)"
   ]
  },
  {
   "cell_type": "markdown",
   "metadata": {
    "colab_type": "text",
    "id": "_Eh8CLd0Mpd5"
   },
   "source": [
    "## STEP 2:  Load a pretrained BERT model and wrap it in a `ktrain.Learner` object\n",
    "\n",
    "This step can be condensed into a single line of code, but we execute it as two lines for clarity. "
   ]
  },
  {
   "cell_type": "code",
   "execution_count": 9,
   "metadata": {
    "ExecuteTime": {
     "end_time": "2019-12-04T16:32:16.009521Z",
     "start_time": "2019-12-04T16:32:15.961733Z"
    },
    "colab": {
     "base_uri": "https://localhost:8080/",
     "height": 66
    },
    "colab_type": "code",
    "executionInfo": {
     "elapsed": 26409,
     "status": "ok",
     "timestamp": 1575451699129,
     "user": {
      "displayName": "Tyn Long Tay",
      "photoUrl": "",
      "userId": "05995455900473544360"
     },
     "user_tz": -480
    },
    "id": "YVCCpjtKwfTs",
    "outputId": "1c68add8-3f38-4eec-f013-de480f327c6e",
    "scrolled": true
   },
   "outputs": [
    {
     "name": "stdout",
     "output_type": "stream",
     "text": [
      "Is Multi-Label? False\n",
      "maxlen is 512\n"
     ]
    },
    {
     "ename": "AttributeError",
     "evalue": "module 'tensorflow' has no attribute 'placeholder'",
     "output_type": "error",
     "traceback": [
      "\u001b[0;31m---------------------------------------------------------------------------\u001b[0m",
      "\u001b[0;31mAttributeError\u001b[0m                            Traceback (most recent call last)",
      "\u001b[0;32m<ipython-input-9-f737c0e837d9>\u001b[0m in \u001b[0;36m<module>\u001b[0;34m\u001b[0m\n\u001b[0;32m----> 1\u001b[0;31m \u001b[0mmodel\u001b[0m \u001b[0;34m=\u001b[0m \u001b[0mtext\u001b[0m\u001b[0;34m.\u001b[0m\u001b[0mtext_classifier\u001b[0m\u001b[0;34m(\u001b[0m\u001b[0;34m'bert'\u001b[0m\u001b[0;34m,\u001b[0m \u001b[0;34m(\u001b[0m\u001b[0mx_train\u001b[0m\u001b[0;34m,\u001b[0m \u001b[0my_train\u001b[0m\u001b[0;34m)\u001b[0m\u001b[0;34m,\u001b[0m \u001b[0mpreproc\u001b[0m\u001b[0;34m=\u001b[0m\u001b[0mpreproc\u001b[0m\u001b[0;34m)\u001b[0m\u001b[0;34m\u001b[0m\u001b[0;34m\u001b[0m\u001b[0m\n\u001b[0m\u001b[1;32m      2\u001b[0m \u001b[0;31m#learner = ktrain.get_learner(model,train_data=(x_train, y_train), val_data=(x_test, y_test), batch_size=6,)\u001b[0m\u001b[0;34m\u001b[0m\u001b[0;34m\u001b[0m\u001b[0;34m\u001b[0m\u001b[0m\n",
      "\u001b[0;32m~/anaconda3/lib/python3.7/site-packages/ktrain/text/models.py\u001b[0m in \u001b[0;36mtext_classifier\u001b[0;34m(name, train_data, preproc, multilabel, verbose)\u001b[0m\n\u001b[1;32m    136\u001b[0m                             \u001b[0mloss_func\u001b[0m\u001b[0;34m=\u001b[0m\u001b[0mloss_func\u001b[0m\u001b[0;34m,\u001b[0m\u001b[0;34m\u001b[0m\u001b[0;34m\u001b[0m\u001b[0m\n\u001b[1;32m    137\u001b[0m                             \u001b[0mactivation\u001b[0m\u001b[0;34m=\u001b[0m\u001b[0mactivation\u001b[0m\u001b[0;34m,\u001b[0m \u001b[0mverbose\u001b[0m\u001b[0;34m=\u001b[0m\u001b[0mverbose\u001b[0m\u001b[0;34m,\u001b[0m\u001b[0;34m\u001b[0m\u001b[0;34m\u001b[0m\u001b[0m\n\u001b[0;32m--> 138\u001b[0;31m                             lang=preproc.lang)\n\u001b[0m\u001b[1;32m    139\u001b[0m \u001b[0;34m\u001b[0m\u001b[0m\n\u001b[1;32m    140\u001b[0m     \u001b[0;32melif\u001b[0m \u001b[0mname\u001b[0m\u001b[0;34m==\u001b[0m\u001b[0mNBSVM\u001b[0m\u001b[0;34m:\u001b[0m\u001b[0;34m\u001b[0m\u001b[0;34m\u001b[0m\u001b[0m\n",
      "\u001b[0;32m~/anaconda3/lib/python3.7/site-packages/ktrain/text/models.py\u001b[0m in \u001b[0;36m_build_bert\u001b[0;34m(x_train, y_train, num_classes, maxlen, max_features, features, loss_func, activation, verbose, lang)\u001b[0m\n\u001b[1;32m    214\u001b[0m                                     \u001b[0mtraining\u001b[0m\u001b[0;34m=\u001b[0m\u001b[0;32mTrue\u001b[0m\u001b[0;34m,\u001b[0m\u001b[0;34m\u001b[0m\u001b[0;34m\u001b[0m\u001b[0m\n\u001b[1;32m    215\u001b[0m                                     \u001b[0mtrainable\u001b[0m\u001b[0;34m=\u001b[0m\u001b[0;32mTrue\u001b[0m\u001b[0;34m,\u001b[0m\u001b[0;34m\u001b[0m\u001b[0;34m\u001b[0m\u001b[0m\n\u001b[0;32m--> 216\u001b[0;31m                                     seq_len=maxlen)\n\u001b[0m\u001b[1;32m    217\u001b[0m     \u001b[0minputs\u001b[0m \u001b[0;34m=\u001b[0m \u001b[0mmodel\u001b[0m\u001b[0;34m.\u001b[0m\u001b[0minputs\u001b[0m\u001b[0;34m[\u001b[0m\u001b[0;34m:\u001b[0m\u001b[0;36m2\u001b[0m\u001b[0;34m]\u001b[0m\u001b[0;34m\u001b[0m\u001b[0;34m\u001b[0m\u001b[0m\n\u001b[1;32m    218\u001b[0m     \u001b[0mdense\u001b[0m \u001b[0;34m=\u001b[0m \u001b[0mmodel\u001b[0m\u001b[0;34m.\u001b[0m\u001b[0mget_layer\u001b[0m\u001b[0;34m(\u001b[0m\u001b[0;34m'NSP-Dense'\u001b[0m\u001b[0;34m)\u001b[0m\u001b[0;34m.\u001b[0m\u001b[0moutput\u001b[0m\u001b[0;34m\u001b[0m\u001b[0;34m\u001b[0m\u001b[0m\n",
      "\u001b[0;32m~/anaconda3/lib/python3.7/site-packages/keras_bert/loader.py\u001b[0m in \u001b[0;36mload_trained_model_from_checkpoint\u001b[0;34m(config_file, checkpoint_file, training, trainable, output_layer_num, seq_len, **kwargs)\u001b[0m\n\u001b[1;32m    167\u001b[0m         \u001b[0moutput_layer_num\u001b[0m\u001b[0;34m=\u001b[0m\u001b[0moutput_layer_num\u001b[0m\u001b[0;34m,\u001b[0m\u001b[0;34m\u001b[0m\u001b[0;34m\u001b[0m\u001b[0m\n\u001b[1;32m    168\u001b[0m         \u001b[0mseq_len\u001b[0m\u001b[0;34m=\u001b[0m\u001b[0mseq_len\u001b[0m\u001b[0;34m,\u001b[0m\u001b[0;34m\u001b[0m\u001b[0;34m\u001b[0m\u001b[0m\n\u001b[0;32m--> 169\u001b[0;31m         **kwargs)\n\u001b[0m\u001b[1;32m    170\u001b[0m     \u001b[0mload_model_weights_from_checkpoint\u001b[0m\u001b[0;34m(\u001b[0m\u001b[0mmodel\u001b[0m\u001b[0;34m,\u001b[0m \u001b[0mconfig\u001b[0m\u001b[0;34m,\u001b[0m \u001b[0mcheckpoint_file\u001b[0m\u001b[0;34m,\u001b[0m \u001b[0mtraining\u001b[0m\u001b[0;34m=\u001b[0m\u001b[0mtraining\u001b[0m\u001b[0;34m)\u001b[0m\u001b[0;34m\u001b[0m\u001b[0;34m\u001b[0m\u001b[0m\n\u001b[1;32m    171\u001b[0m     \u001b[0;32mreturn\u001b[0m \u001b[0mmodel\u001b[0m\u001b[0;34m\u001b[0m\u001b[0;34m\u001b[0m\u001b[0m\n",
      "\u001b[0;32m~/anaconda3/lib/python3.7/site-packages/keras_bert/loader.py\u001b[0m in \u001b[0;36mbuild_model_from_config\u001b[0;34m(config_file, training, trainable, output_layer_num, seq_len, **kwargs)\u001b[0m\n\u001b[1;32m     56\u001b[0m         \u001b[0mtrainable\u001b[0m\u001b[0;34m=\u001b[0m\u001b[0mtrainable\u001b[0m\u001b[0;34m,\u001b[0m\u001b[0;34m\u001b[0m\u001b[0;34m\u001b[0m\u001b[0m\n\u001b[1;32m     57\u001b[0m         \u001b[0moutput_layer_num\u001b[0m\u001b[0;34m=\u001b[0m\u001b[0moutput_layer_num\u001b[0m\u001b[0;34m,\u001b[0m\u001b[0;34m\u001b[0m\u001b[0;34m\u001b[0m\u001b[0m\n\u001b[0;32m---> 58\u001b[0;31m         **kwargs)\n\u001b[0m\u001b[1;32m     59\u001b[0m     \u001b[0;32mif\u001b[0m \u001b[0;32mnot\u001b[0m \u001b[0mtraining\u001b[0m\u001b[0;34m:\u001b[0m\u001b[0;34m\u001b[0m\u001b[0;34m\u001b[0m\u001b[0m\n\u001b[1;32m     60\u001b[0m         \u001b[0minputs\u001b[0m\u001b[0;34m,\u001b[0m \u001b[0moutputs\u001b[0m \u001b[0;34m=\u001b[0m \u001b[0mmodel\u001b[0m\u001b[0;34m\u001b[0m\u001b[0;34m\u001b[0m\u001b[0m\n",
      "\u001b[0;32m~/anaconda3/lib/python3.7/site-packages/keras_bert/bert.py\u001b[0m in \u001b[0;36mget_model\u001b[0;34m(token_num, pos_num, seq_len, embed_dim, transformer_num, head_num, feed_forward_dim, dropout_rate, attention_activation, feed_forward_activation, training, trainable, output_layer_num, use_task_embed, task_num, use_adapter, adapter_units)\u001b[0m\n\u001b[1;32m     83\u001b[0m         \u001b[0;32mreturn\u001b[0m \u001b[0mtrainable\u001b[0m\u001b[0;34m\u001b[0m\u001b[0;34m\u001b[0m\u001b[0m\n\u001b[1;32m     84\u001b[0m \u001b[0;34m\u001b[0m\u001b[0m\n\u001b[0;32m---> 85\u001b[0;31m     \u001b[0minputs\u001b[0m \u001b[0;34m=\u001b[0m \u001b[0mget_inputs\u001b[0m\u001b[0;34m(\u001b[0m\u001b[0mseq_len\u001b[0m\u001b[0;34m=\u001b[0m\u001b[0mseq_len\u001b[0m\u001b[0;34m)\u001b[0m\u001b[0;34m\u001b[0m\u001b[0;34m\u001b[0m\u001b[0m\n\u001b[0m\u001b[1;32m     86\u001b[0m     embed_layer, embed_weights = get_embedding(\n\u001b[1;32m     87\u001b[0m         \u001b[0minputs\u001b[0m\u001b[0;34m,\u001b[0m\u001b[0;34m\u001b[0m\u001b[0;34m\u001b[0m\u001b[0m\n",
      "\u001b[0;32m~/anaconda3/lib/python3.7/site-packages/keras_bert/layers/inputs.py\u001b[0m in \u001b[0;36mget_inputs\u001b[0;34m(seq_len)\u001b[0m\n\u001b[1;32m     13\u001b[0m         \u001b[0mshape\u001b[0m\u001b[0;34m=\u001b[0m\u001b[0;34m(\u001b[0m\u001b[0mseq_len\u001b[0m\u001b[0;34m,\u001b[0m\u001b[0;34m)\u001b[0m\u001b[0;34m,\u001b[0m\u001b[0;34m\u001b[0m\u001b[0;34m\u001b[0m\u001b[0m\n\u001b[1;32m     14\u001b[0m         \u001b[0mname\u001b[0m\u001b[0;34m=\u001b[0m\u001b[0;34m'Input-%s'\u001b[0m \u001b[0;34m%\u001b[0m \u001b[0mname\u001b[0m\u001b[0;34m,\u001b[0m\u001b[0;34m\u001b[0m\u001b[0;34m\u001b[0m\u001b[0m\n\u001b[0;32m---> 15\u001b[0;31m     ) for name in names]\n\u001b[0m",
      "\u001b[0;32m~/anaconda3/lib/python3.7/site-packages/keras_bert/layers/inputs.py\u001b[0m in \u001b[0;36m<listcomp>\u001b[0;34m(.0)\u001b[0m\n\u001b[1;32m     13\u001b[0m         \u001b[0mshape\u001b[0m\u001b[0;34m=\u001b[0m\u001b[0;34m(\u001b[0m\u001b[0mseq_len\u001b[0m\u001b[0;34m,\u001b[0m\u001b[0;34m)\u001b[0m\u001b[0;34m,\u001b[0m\u001b[0;34m\u001b[0m\u001b[0;34m\u001b[0m\u001b[0m\n\u001b[1;32m     14\u001b[0m         \u001b[0mname\u001b[0m\u001b[0;34m=\u001b[0m\u001b[0;34m'Input-%s'\u001b[0m \u001b[0;34m%\u001b[0m \u001b[0mname\u001b[0m\u001b[0;34m,\u001b[0m\u001b[0;34m\u001b[0m\u001b[0;34m\u001b[0m\u001b[0m\n\u001b[0;32m---> 15\u001b[0;31m     ) for name in names]\n\u001b[0m",
      "\u001b[0;32m~/anaconda3/lib/python3.7/site-packages/keras/engine/input_layer.py\u001b[0m in \u001b[0;36mInput\u001b[0;34m(shape, batch_shape, name, dtype, sparse, tensor)\u001b[0m\n\u001b[1;32m    176\u001b[0m                              \u001b[0mname\u001b[0m\u001b[0;34m=\u001b[0m\u001b[0mname\u001b[0m\u001b[0;34m,\u001b[0m \u001b[0mdtype\u001b[0m\u001b[0;34m=\u001b[0m\u001b[0mdtype\u001b[0m\u001b[0;34m,\u001b[0m\u001b[0;34m\u001b[0m\u001b[0;34m\u001b[0m\u001b[0m\n\u001b[1;32m    177\u001b[0m                              \u001b[0msparse\u001b[0m\u001b[0;34m=\u001b[0m\u001b[0msparse\u001b[0m\u001b[0;34m,\u001b[0m\u001b[0;34m\u001b[0m\u001b[0;34m\u001b[0m\u001b[0m\n\u001b[0;32m--> 178\u001b[0;31m                              input_tensor=tensor)\n\u001b[0m\u001b[1;32m    179\u001b[0m     \u001b[0;31m# Return tensor including _keras_shape and _keras_history.\u001b[0m\u001b[0;34m\u001b[0m\u001b[0;34m\u001b[0m\u001b[0;34m\u001b[0m\u001b[0m\n\u001b[1;32m    180\u001b[0m     \u001b[0;31m# Note that in this case train_output and test_output are the same pointer.\u001b[0m\u001b[0;34m\u001b[0m\u001b[0;34m\u001b[0m\u001b[0;34m\u001b[0m\u001b[0m\n",
      "\u001b[0;32m~/anaconda3/lib/python3.7/site-packages/keras/legacy/interfaces.py\u001b[0m in \u001b[0;36mwrapper\u001b[0;34m(*args, **kwargs)\u001b[0m\n\u001b[1;32m     89\u001b[0m                 warnings.warn('Update your `' + object_name + '` call to the ' +\n\u001b[1;32m     90\u001b[0m                               'Keras 2 API: ' + signature, stacklevel=2)\n\u001b[0;32m---> 91\u001b[0;31m             \u001b[0;32mreturn\u001b[0m \u001b[0mfunc\u001b[0m\u001b[0;34m(\u001b[0m\u001b[0;34m*\u001b[0m\u001b[0margs\u001b[0m\u001b[0;34m,\u001b[0m \u001b[0;34m**\u001b[0m\u001b[0mkwargs\u001b[0m\u001b[0;34m)\u001b[0m\u001b[0;34m\u001b[0m\u001b[0;34m\u001b[0m\u001b[0m\n\u001b[0m\u001b[1;32m     92\u001b[0m         \u001b[0mwrapper\u001b[0m\u001b[0;34m.\u001b[0m\u001b[0m_original_function\u001b[0m \u001b[0;34m=\u001b[0m \u001b[0mfunc\u001b[0m\u001b[0;34m\u001b[0m\u001b[0;34m\u001b[0m\u001b[0m\n\u001b[1;32m     93\u001b[0m         \u001b[0;32mreturn\u001b[0m \u001b[0mwrapper\u001b[0m\u001b[0;34m\u001b[0m\u001b[0;34m\u001b[0m\u001b[0m\n",
      "\u001b[0;32m~/anaconda3/lib/python3.7/site-packages/keras/engine/input_layer.py\u001b[0m in \u001b[0;36m__init__\u001b[0;34m(self, input_shape, batch_size, batch_input_shape, dtype, input_tensor, sparse, name)\u001b[0m\n\u001b[1;32m     85\u001b[0m                                          \u001b[0mdtype\u001b[0m\u001b[0;34m=\u001b[0m\u001b[0mdtype\u001b[0m\u001b[0;34m,\u001b[0m\u001b[0;34m\u001b[0m\u001b[0;34m\u001b[0m\u001b[0m\n\u001b[1;32m     86\u001b[0m                                          \u001b[0msparse\u001b[0m\u001b[0;34m=\u001b[0m\u001b[0mself\u001b[0m\u001b[0;34m.\u001b[0m\u001b[0msparse\u001b[0m\u001b[0;34m,\u001b[0m\u001b[0;34m\u001b[0m\u001b[0;34m\u001b[0m\u001b[0m\n\u001b[0;32m---> 87\u001b[0;31m                                          name=self.name)\n\u001b[0m\u001b[1;32m     88\u001b[0m         \u001b[0;32melse\u001b[0m\u001b[0;34m:\u001b[0m\u001b[0;34m\u001b[0m\u001b[0;34m\u001b[0m\u001b[0m\n\u001b[1;32m     89\u001b[0m             \u001b[0mself\u001b[0m\u001b[0;34m.\u001b[0m\u001b[0mis_placeholder\u001b[0m \u001b[0;34m=\u001b[0m \u001b[0;32mFalse\u001b[0m\u001b[0;34m\u001b[0m\u001b[0;34m\u001b[0m\u001b[0m\n",
      "\u001b[0;32m~/anaconda3/lib/python3.7/site-packages/keras/backend/tensorflow_backend.py\u001b[0m in \u001b[0;36mplaceholder\u001b[0;34m(shape, ndim, dtype, sparse, name)\u001b[0m\n\u001b[1;32m    515\u001b[0m         \u001b[0mx\u001b[0m \u001b[0;34m=\u001b[0m \u001b[0mtf\u001b[0m\u001b[0;34m.\u001b[0m\u001b[0msparse_placeholder\u001b[0m\u001b[0;34m(\u001b[0m\u001b[0mdtype\u001b[0m\u001b[0;34m,\u001b[0m \u001b[0mshape\u001b[0m\u001b[0;34m=\u001b[0m\u001b[0mshape\u001b[0m\u001b[0;34m,\u001b[0m \u001b[0mname\u001b[0m\u001b[0;34m=\u001b[0m\u001b[0mname\u001b[0m\u001b[0;34m)\u001b[0m\u001b[0;34m\u001b[0m\u001b[0;34m\u001b[0m\u001b[0m\n\u001b[1;32m    516\u001b[0m     \u001b[0;32melse\u001b[0m\u001b[0;34m:\u001b[0m\u001b[0;34m\u001b[0m\u001b[0;34m\u001b[0m\u001b[0m\n\u001b[0;32m--> 517\u001b[0;31m         \u001b[0mx\u001b[0m \u001b[0;34m=\u001b[0m \u001b[0mtf\u001b[0m\u001b[0;34m.\u001b[0m\u001b[0mplaceholder\u001b[0m\u001b[0;34m(\u001b[0m\u001b[0mdtype\u001b[0m\u001b[0;34m,\u001b[0m \u001b[0mshape\u001b[0m\u001b[0;34m=\u001b[0m\u001b[0mshape\u001b[0m\u001b[0;34m,\u001b[0m \u001b[0mname\u001b[0m\u001b[0;34m=\u001b[0m\u001b[0mname\u001b[0m\u001b[0;34m)\u001b[0m\u001b[0;34m\u001b[0m\u001b[0;34m\u001b[0m\u001b[0m\n\u001b[0m\u001b[1;32m    518\u001b[0m     \u001b[0mx\u001b[0m\u001b[0;34m.\u001b[0m\u001b[0m_keras_shape\u001b[0m \u001b[0;34m=\u001b[0m \u001b[0mshape\u001b[0m\u001b[0;34m\u001b[0m\u001b[0;34m\u001b[0m\u001b[0m\n\u001b[1;32m    519\u001b[0m     \u001b[0mx\u001b[0m\u001b[0;34m.\u001b[0m\u001b[0m_uses_learning_phase\u001b[0m \u001b[0;34m=\u001b[0m \u001b[0;32mFalse\u001b[0m\u001b[0;34m\u001b[0m\u001b[0;34m\u001b[0m\u001b[0m\n",
      "\u001b[0;31mAttributeError\u001b[0m: module 'tensorflow' has no attribute 'placeholder'"
     ]
    }
   ],
   "source": [
    "#works with tensorflow 1\n",
    "model = text.text_classifier('bert', (x_train, y_train), preproc=preproc)\n",
    "learner = ktrain.get_learner(model,train_data=(x_train, y_train), val_data=(x_test, y_test), batch_size=6,)"
   ]
  },
  {
   "cell_type": "code",
   "execution_count": 0,
   "metadata": {
    "colab": {},
    "colab_type": "code",
    "id": "D600Fw4021m9"
   },
   "outputs": [],
   "source": [
    "import numpy as np\n",
    "columns=['rating_mixture of true and false','rating_mostly false','rating_mostly true','rating_no factual content'],\n",
    "\n",
    "counter_weight={}\n",
    "weights=df['target'].value_counts()\n",
    "\n",
    "for n,wght in enumerate(weights):\n",
    "  counter_weight[n]=(np.max(weights)/wght)\n",
    "  "
   ]
  },
  {
   "cell_type": "code",
   "execution_count": 14,
   "metadata": {
    "colab": {
     "base_uri": "https://localhost:8080/",
     "height": 66
    },
    "colab_type": "code",
    "executionInfo": {
     "elapsed": 26986,
     "status": "ok",
     "timestamp": 1575451699724,
     "user": {
      "displayName": "Tyn Long Tay",
      "photoUrl": "",
      "userId": "05995455900473544360"
     },
     "user_tz": -480
    },
    "id": "FcpqoxmE5VZ3",
    "outputId": "7716e661-47eb-4479-86ac-86c1f148df84"
   },
   "outputs": [
    {
     "data": {
      "text/plain": [
       "0    1090\n",
       "1     290\n",
       "Name: target, dtype: int64"
      ]
     },
     "execution_count": 14,
     "metadata": {
      "tags": []
     },
     "output_type": "execute_result"
    }
   ],
   "source": [
    "weights=df['target'].value_counts()\n",
    "weights"
   ]
  },
  {
   "cell_type": "code",
   "execution_count": 15,
   "metadata": {
    "colab": {
     "base_uri": "https://localhost:8080/",
     "height": 33
    },
    "colab_type": "code",
    "executionInfo": {
     "elapsed": 26974,
     "status": "ok",
     "timestamp": 1575451699725,
     "user": {
      "displayName": "Tyn Long Tay",
      "photoUrl": "",
      "userId": "05995455900473544360"
     },
     "user_tz": -480
    },
    "id": "JdUOrxTC4qxJ",
    "outputId": "d3c3362f-463f-49e4-d7a2-aef58f603bfd"
   },
   "outputs": [
    {
     "data": {
      "text/plain": [
       "{0: 1.0, 1: 3.7586206896551726}"
      ]
     },
     "execution_count": 15,
     "metadata": {
      "tags": []
     },
     "output_type": "execute_result"
    }
   ],
   "source": [
    "counter_weight"
   ]
  },
  {
   "cell_type": "markdown",
   "metadata": {
    "colab_type": "text",
    "id": "-g9dwBJqNgvR"
   },
   "source": [
    "## STEP 3:  Train and Fine-Tune the Model on the IMDb dataset\n",
    "\n",
    "We employ the `learner.fit_onecycle` method in *ktrain* that employs the use of a [1cycle learning  rate schedule](https://arxiv.org/pdf/1803.09820.pdf).  We use a learning rate of 2e-5 based on recommendations from [the original paper](https://arxiv.org/abs/1810.04805).\n",
    "\n",
    "As can be seen, we achieve a **93.92% validation accuracy** in a single epoch."
   ]
  },
  {
   "cell_type": "code",
   "execution_count": 0,
   "metadata": {
    "colab": {},
    "colab_type": "code",
    "id": "RIzYrHAydJSN"
   },
   "outputs": [],
   "source": [
    "#learner.fit_onecycle(2e-5,1,checkpoint_folder='/content/drive/My Drive/Capstone_DSI/Misinformation_detection/BERTModels/BinaryBuzzfeedBalanced',class_weight=counter_weight)"
   ]
  },
  {
   "cell_type": "code",
   "execution_count": 16,
   "metadata": {
    "colab": {
     "base_uri": "https://localhost:8080/",
     "height": 407
    },
    "colab_type": "code",
    "executionInfo": {
     "elapsed": 2642177,
     "status": "ok",
     "timestamp": 1575454341919,
     "user": {
      "displayName": "Tyn Long Tay",
      "photoUrl": "",
      "userId": "05995455900473544360"
     },
     "user_tz": -480
    },
    "id": "IhHGCuPhv5Ew",
    "outputId": "2c8462aa-0700-4309-9ec4-e6e1e3e4a1b0"
   },
   "outputs": [
    {
     "name": "stdout",
     "output_type": "stream",
     "text": [
      "\n",
      "\n",
      "begin training using triangular learning rate policy with max lr of 4e-05...\n",
      "Train on 1104 samples, validate on 276 samples\n",
      "Epoch 1/20\n",
      "1104/1104 [==============================] - 336s 305ms/step - loss: 1.0389 - acc: 0.6884 - val_loss: 0.5283 - val_acc: 0.7355\n",
      "Epoch 2/20\n",
      "1104/1104 [==============================] - 323s 293ms/step - loss: 0.7772 - acc: 0.7473 - val_loss: 0.5054 - val_acc: 0.7174\n",
      "Epoch 3/20\n",
      "1104/1104 [==============================] - 323s 292ms/step - loss: 0.6760 - acc: 0.7563 - val_loss: 0.4573 - val_acc: 0.7428\n",
      "Epoch 4/20\n",
      "1104/1104 [==============================] - 323s 293ms/step - loss: 0.5902 - acc: 0.7944 - val_loss: 0.5154 - val_acc: 0.7572\n",
      "Epoch 5/20\n",
      "1104/1104 [==============================] - 322s 292ms/step - loss: 0.4222 - acc: 0.8832 - val_loss: 0.6204 - val_acc: 0.7862\n",
      "Epoch 6/20\n",
      "1104/1104 [==============================] - 323s 292ms/step - loss: 0.3911 - acc: 0.8940 - val_loss: 0.6262 - val_acc: 0.7609\n",
      "Epoch 7/20\n",
      "1104/1104 [==============================] - 323s 292ms/step - loss: 0.2396 - acc: 0.9366 - val_loss: 0.6687 - val_acc: 0.7681\n",
      "\n",
      "Epoch 00007: Reducing Max LR on Plateau: new max lr will be 2e-05 (if not early_stopping).\n",
      "Epoch 8/20\n",
      "1104/1104 [==============================] - 323s 292ms/step - loss: 0.1441 - acc: 0.9683 - val_loss: 0.7275 - val_acc: 0.7790\n",
      "Weights from best epoch have been loaded into model.\n"
     ]
    },
    {
     "data": {
      "text/plain": [
       "<keras.callbacks.History at 0x7fada015c208>"
      ]
     },
     "execution_count": 16,
     "metadata": {
      "tags": []
     },
     "output_type": "execute_result"
    }
   ],
   "source": [
    "learner.autofit(4e-5, 20,early_stopping=5,reduce_on_plateau=2,checkpoint_folder='../Deeplearning Models/BERT',class_weight=counter_weight)"
   ]
  },
  {
   "cell_type": "markdown",
   "metadata": {
    "colab_type": "text",
    "id": "WBE749i3QaMu"
   },
   "source": [
    "Since it does not appear we are overfitting yet, we could train for an additional epoch or two for even higher accuracy.  \n",
    "\n",
    "Feel free to try it out on your own."
   ]
  },
  {
   "cell_type": "code",
   "execution_count": 0,
   "metadata": {
    "colab": {},
    "colab_type": "code",
    "id": "5em8aGTf3iMw"
   },
   "outputs": [],
   "source": [
    "#model=learner.model"
   ]
  },
  {
   "cell_type": "code",
   "execution_count": 0,
   "metadata": {
    "colab": {},
    "colab_type": "code",
    "id": "CAgXkGPAeEr0"
   },
   "outputs": [],
   "source": [
    "model.load_weights('../Deeplearning Models/BERT/weights-03.hdf5')"
   ]
  },
  {
   "cell_type": "code",
   "execution_count": 66,
   "metadata": {
    "colab": {
     "base_uri": "https://localhost:8080/",
     "height": 296
    },
    "colab_type": "code",
    "executionInfo": {
     "elapsed": 6750,
     "status": "error",
     "timestamp": 1575455741486,
     "user": {
      "displayName": "Tyn Long Tay",
      "photoUrl": "",
      "userId": "05995455900473544360"
     },
     "user_tz": -480
    },
    "id": "FbsXJ1ySqc0X",
    "outputId": "3c3c0e01-aa7a-42ba-f148-5477a4c10110"
   },
   "outputs": [
    {
     "ename": "KeyboardInterrupt",
     "evalue": "ignored",
     "output_type": "error",
     "traceback": [
      "\u001b[0;31m---------------------------------------------------------------------------\u001b[0m",
      "\u001b[0;31mKeyboardInterrupt\u001b[0m                         Traceback (most recent call last)",
      "\u001b[0;32m<ipython-input-66-ea48204f6a81>\u001b[0m in \u001b[0;36m<module>\u001b[0;34m()\u001b[0m\n\u001b[0;32m----> 1\u001b[0;31m \u001b[0mcm\u001b[0m\u001b[0;34m=\u001b[0m\u001b[0mlearner\u001b[0m\u001b[0;34m.\u001b[0m\u001b[0mvalidate\u001b[0m\u001b[0;34m(\u001b[0m\u001b[0mval_data\u001b[0m\u001b[0;34m=\u001b[0m\u001b[0;34m(\u001b[0m\u001b[0mx_test\u001b[0m\u001b[0;34m,\u001b[0m \u001b[0my_test\u001b[0m\u001b[0;34m)\u001b[0m\u001b[0;34m,\u001b[0m \u001b[0mclass_names\u001b[0m\u001b[0;34m=\u001b[0m\u001b[0;34m[\u001b[0m\u001b[0;34m'true'\u001b[0m\u001b[0;34m,\u001b[0m\u001b[0;34m'fake'\u001b[0m\u001b[0;34m]\u001b[0m\u001b[0;34m)\u001b[0m\u001b[0;34m\u001b[0m\u001b[0;34m\u001b[0m\u001b[0m\n\u001b[0m",
      "\u001b[0;32m/usr/local/lib/python3.6/dist-packages/ktrain/core.py\u001b[0m in \u001b[0;36mvalidate\u001b[0;34m(self, val_data, print_report, class_names)\u001b[0m\n\u001b[1;32m    118\u001b[0m             \u001b[0mwarnings\u001b[0m\u001b[0;34m.\u001b[0m\u001b[0mwarn\u001b[0m\u001b[0;34m(\u001b[0m\u001b[0;34m'multilabel confusion matrices not yet supported'\u001b[0m\u001b[0;34m)\u001b[0m\u001b[0;34m\u001b[0m\u001b[0;34m\u001b[0m\u001b[0m\n\u001b[1;32m    119\u001b[0m             \u001b[0;32mreturn\u001b[0m\u001b[0;34m\u001b[0m\u001b[0;34m\u001b[0m\u001b[0m\n\u001b[0;32m--> 120\u001b[0;31m         \u001b[0my_pred\u001b[0m \u001b[0;34m=\u001b[0m \u001b[0mself\u001b[0m\u001b[0;34m.\u001b[0m\u001b[0mpredict\u001b[0m\u001b[0;34m(\u001b[0m\u001b[0mval_data\u001b[0m\u001b[0;34m=\u001b[0m\u001b[0mval\u001b[0m\u001b[0;34m)\u001b[0m\u001b[0;34m\u001b[0m\u001b[0;34m\u001b[0m\u001b[0m\n\u001b[0m\u001b[1;32m    121\u001b[0m         \u001b[0my_true\u001b[0m \u001b[0;34m=\u001b[0m \u001b[0mself\u001b[0m\u001b[0;34m.\u001b[0m\u001b[0mground_truth\u001b[0m\u001b[0;34m(\u001b[0m\u001b[0mval_data\u001b[0m\u001b[0;34m=\u001b[0m\u001b[0mval\u001b[0m\u001b[0;34m)\u001b[0m\u001b[0;34m\u001b[0m\u001b[0;34m\u001b[0m\u001b[0m\n\u001b[1;32m    122\u001b[0m         \u001b[0my_pred\u001b[0m \u001b[0;34m=\u001b[0m \u001b[0mnp\u001b[0m\u001b[0;34m.\u001b[0m\u001b[0margmax\u001b[0m\u001b[0;34m(\u001b[0m\u001b[0my_pred\u001b[0m\u001b[0;34m,\u001b[0m \u001b[0maxis\u001b[0m\u001b[0;34m=\u001b[0m\u001b[0;36m1\u001b[0m\u001b[0;34m)\u001b[0m\u001b[0;34m\u001b[0m\u001b[0;34m\u001b[0m\u001b[0m\n",
      "\u001b[0;32m/usr/local/lib/python3.6/dist-packages/ktrain/core.py\u001b[0m in \u001b[0;36mpredict\u001b[0;34m(self, val_data)\u001b[0m\n\u001b[1;32m    810\u001b[0m             \u001b[0;32mreturn\u001b[0m \u001b[0mself\u001b[0m\u001b[0;34m.\u001b[0m\u001b[0mmodel\u001b[0m\u001b[0;34m.\u001b[0m\u001b[0mpredict_generator\u001b[0m\u001b[0;34m(\u001b[0m\u001b[0mval\u001b[0m\u001b[0;34m,\u001b[0m \u001b[0msteps\u001b[0m\u001b[0;34m=\u001b[0m\u001b[0msteps\u001b[0m\u001b[0;34m)\u001b[0m\u001b[0;34m\u001b[0m\u001b[0;34m\u001b[0m\u001b[0m\n\u001b[1;32m    811\u001b[0m         \u001b[0;32melse\u001b[0m\u001b[0;34m:\u001b[0m\u001b[0;34m\u001b[0m\u001b[0;34m\u001b[0m\u001b[0m\n\u001b[0;32m--> 812\u001b[0;31m             \u001b[0;32mreturn\u001b[0m \u001b[0mself\u001b[0m\u001b[0;34m.\u001b[0m\u001b[0mmodel\u001b[0m\u001b[0;34m.\u001b[0m\u001b[0mpredict\u001b[0m\u001b[0;34m(\u001b[0m\u001b[0mval\u001b[0m\u001b[0;34m[\u001b[0m\u001b[0;36m0\u001b[0m\u001b[0;34m]\u001b[0m\u001b[0;34m)\u001b[0m\u001b[0;34m\u001b[0m\u001b[0;34m\u001b[0m\u001b[0m\n\u001b[0m\u001b[1;32m    813\u001b[0m \u001b[0;34m\u001b[0m\u001b[0m\n\u001b[1;32m    814\u001b[0m \u001b[0;34m\u001b[0m\u001b[0m\n",
      "\u001b[0;32m/usr/local/lib/python3.6/dist-packages/keras/engine/training.py\u001b[0m in \u001b[0;36mpredict\u001b[0;34m(self, x, batch_size, verbose, steps)\u001b[0m\n\u001b[1;32m   1167\u001b[0m                                             \u001b[0mbatch_size\u001b[0m\u001b[0;34m=\u001b[0m\u001b[0mbatch_size\u001b[0m\u001b[0;34m,\u001b[0m\u001b[0;34m\u001b[0m\u001b[0;34m\u001b[0m\u001b[0m\n\u001b[1;32m   1168\u001b[0m                                             \u001b[0mverbose\u001b[0m\u001b[0;34m=\u001b[0m\u001b[0mverbose\u001b[0m\u001b[0;34m,\u001b[0m\u001b[0;34m\u001b[0m\u001b[0;34m\u001b[0m\u001b[0m\n\u001b[0;32m-> 1169\u001b[0;31m                                             steps=steps)\n\u001b[0m\u001b[1;32m   1170\u001b[0m \u001b[0;34m\u001b[0m\u001b[0m\n\u001b[1;32m   1171\u001b[0m     def train_on_batch(self, x, y,\n",
      "\u001b[0;32m/usr/local/lib/python3.6/dist-packages/keras/engine/training_arrays.py\u001b[0m in \u001b[0;36mpredict_loop\u001b[0;34m(model, f, ins, batch_size, verbose, steps)\u001b[0m\n\u001b[1;32m    292\u001b[0m                 \u001b[0mins_batch\u001b[0m\u001b[0;34m[\u001b[0m\u001b[0mi\u001b[0m\u001b[0;34m]\u001b[0m \u001b[0;34m=\u001b[0m \u001b[0mins_batch\u001b[0m\u001b[0;34m[\u001b[0m\u001b[0mi\u001b[0m\u001b[0;34m]\u001b[0m\u001b[0;34m.\u001b[0m\u001b[0mtoarray\u001b[0m\u001b[0;34m(\u001b[0m\u001b[0;34m)\u001b[0m\u001b[0;34m\u001b[0m\u001b[0;34m\u001b[0m\u001b[0m\n\u001b[1;32m    293\u001b[0m \u001b[0;34m\u001b[0m\u001b[0m\n\u001b[0;32m--> 294\u001b[0;31m             \u001b[0mbatch_outs\u001b[0m \u001b[0;34m=\u001b[0m \u001b[0mf\u001b[0m\u001b[0;34m(\u001b[0m\u001b[0mins_batch\u001b[0m\u001b[0;34m)\u001b[0m\u001b[0;34m\u001b[0m\u001b[0;34m\u001b[0m\u001b[0m\n\u001b[0m\u001b[1;32m    295\u001b[0m             \u001b[0mbatch_outs\u001b[0m \u001b[0;34m=\u001b[0m \u001b[0mto_list\u001b[0m\u001b[0;34m(\u001b[0m\u001b[0mbatch_outs\u001b[0m\u001b[0;34m)\u001b[0m\u001b[0;34m\u001b[0m\u001b[0;34m\u001b[0m\u001b[0m\n\u001b[1;32m    296\u001b[0m             \u001b[0;32mif\u001b[0m \u001b[0mbatch_index\u001b[0m \u001b[0;34m==\u001b[0m \u001b[0;36m0\u001b[0m\u001b[0;34m:\u001b[0m\u001b[0;34m\u001b[0m\u001b[0;34m\u001b[0m\u001b[0m\n",
      "\u001b[0;32m/usr/local/lib/python3.6/dist-packages/keras/backend/tensorflow_backend.py\u001b[0m in \u001b[0;36m__call__\u001b[0;34m(self, inputs)\u001b[0m\n\u001b[1;32m   2713\u001b[0m                 \u001b[0;32mreturn\u001b[0m \u001b[0mself\u001b[0m\u001b[0;34m.\u001b[0m\u001b[0m_legacy_call\u001b[0m\u001b[0;34m(\u001b[0m\u001b[0minputs\u001b[0m\u001b[0;34m)\u001b[0m\u001b[0;34m\u001b[0m\u001b[0;34m\u001b[0m\u001b[0m\n\u001b[1;32m   2714\u001b[0m \u001b[0;34m\u001b[0m\u001b[0m\n\u001b[0;32m-> 2715\u001b[0;31m             \u001b[0;32mreturn\u001b[0m \u001b[0mself\u001b[0m\u001b[0;34m.\u001b[0m\u001b[0m_call\u001b[0m\u001b[0;34m(\u001b[0m\u001b[0minputs\u001b[0m\u001b[0;34m)\u001b[0m\u001b[0;34m\u001b[0m\u001b[0;34m\u001b[0m\u001b[0m\n\u001b[0m\u001b[1;32m   2716\u001b[0m         \u001b[0;32melse\u001b[0m\u001b[0;34m:\u001b[0m\u001b[0;34m\u001b[0m\u001b[0;34m\u001b[0m\u001b[0m\n\u001b[1;32m   2717\u001b[0m             \u001b[0;32mif\u001b[0m \u001b[0mpy_any\u001b[0m\u001b[0;34m(\u001b[0m\u001b[0mis_tensor\u001b[0m\u001b[0;34m(\u001b[0m\u001b[0mx\u001b[0m\u001b[0;34m)\u001b[0m \u001b[0;32mfor\u001b[0m \u001b[0mx\u001b[0m \u001b[0;32min\u001b[0m \u001b[0minputs\u001b[0m\u001b[0;34m)\u001b[0m\u001b[0;34m:\u001b[0m\u001b[0;34m\u001b[0m\u001b[0;34m\u001b[0m\u001b[0m\n",
      "\u001b[0;32m/usr/local/lib/python3.6/dist-packages/keras/backend/tensorflow_backend.py\u001b[0m in \u001b[0;36m_call\u001b[0;34m(self, inputs)\u001b[0m\n\u001b[1;32m   2673\u001b[0m             \u001b[0mfetched\u001b[0m \u001b[0;34m=\u001b[0m \u001b[0mself\u001b[0m\u001b[0;34m.\u001b[0m\u001b[0m_callable_fn\u001b[0m\u001b[0;34m(\u001b[0m\u001b[0;34m*\u001b[0m\u001b[0marray_vals\u001b[0m\u001b[0;34m,\u001b[0m \u001b[0mrun_metadata\u001b[0m\u001b[0;34m=\u001b[0m\u001b[0mself\u001b[0m\u001b[0;34m.\u001b[0m\u001b[0mrun_metadata\u001b[0m\u001b[0;34m)\u001b[0m\u001b[0;34m\u001b[0m\u001b[0;34m\u001b[0m\u001b[0m\n\u001b[1;32m   2674\u001b[0m         \u001b[0;32melse\u001b[0m\u001b[0;34m:\u001b[0m\u001b[0;34m\u001b[0m\u001b[0;34m\u001b[0m\u001b[0m\n\u001b[0;32m-> 2675\u001b[0;31m             \u001b[0mfetched\u001b[0m \u001b[0;34m=\u001b[0m \u001b[0mself\u001b[0m\u001b[0;34m.\u001b[0m\u001b[0m_callable_fn\u001b[0m\u001b[0;34m(\u001b[0m\u001b[0;34m*\u001b[0m\u001b[0marray_vals\u001b[0m\u001b[0;34m)\u001b[0m\u001b[0;34m\u001b[0m\u001b[0;34m\u001b[0m\u001b[0m\n\u001b[0m\u001b[1;32m   2676\u001b[0m         \u001b[0;32mreturn\u001b[0m \u001b[0mfetched\u001b[0m\u001b[0;34m[\u001b[0m\u001b[0;34m:\u001b[0m\u001b[0mlen\u001b[0m\u001b[0;34m(\u001b[0m\u001b[0mself\u001b[0m\u001b[0;34m.\u001b[0m\u001b[0moutputs\u001b[0m\u001b[0;34m)\u001b[0m\u001b[0;34m]\u001b[0m\u001b[0;34m\u001b[0m\u001b[0;34m\u001b[0m\u001b[0m\n\u001b[1;32m   2677\u001b[0m \u001b[0;34m\u001b[0m\u001b[0m\n",
      "\u001b[0;32m/usr/local/lib/python3.6/dist-packages/tensorflow_core/python/client/session.py\u001b[0m in \u001b[0;36m__call__\u001b[0;34m(self, *args, **kwargs)\u001b[0m\n\u001b[1;32m   1470\u001b[0m         ret = tf_session.TF_SessionRunCallable(self._session._session,\n\u001b[1;32m   1471\u001b[0m                                                \u001b[0mself\u001b[0m\u001b[0;34m.\u001b[0m\u001b[0m_handle\u001b[0m\u001b[0;34m,\u001b[0m \u001b[0margs\u001b[0m\u001b[0;34m,\u001b[0m\u001b[0;34m\u001b[0m\u001b[0;34m\u001b[0m\u001b[0m\n\u001b[0;32m-> 1472\u001b[0;31m                                                run_metadata_ptr)\n\u001b[0m\u001b[1;32m   1473\u001b[0m         \u001b[0;32mif\u001b[0m \u001b[0mrun_metadata\u001b[0m\u001b[0;34m:\u001b[0m\u001b[0;34m\u001b[0m\u001b[0;34m\u001b[0m\u001b[0m\n\u001b[1;32m   1474\u001b[0m           \u001b[0mproto_data\u001b[0m \u001b[0;34m=\u001b[0m \u001b[0mtf_session\u001b[0m\u001b[0;34m.\u001b[0m\u001b[0mTF_GetBuffer\u001b[0m\u001b[0;34m(\u001b[0m\u001b[0mrun_metadata_ptr\u001b[0m\u001b[0;34m)\u001b[0m\u001b[0;34m\u001b[0m\u001b[0;34m\u001b[0m\u001b[0m\n",
      "\u001b[0;31mKeyboardInterrupt\u001b[0m: "
     ]
    }
   ],
   "source": [
    "cm=learner.validate(val_data=(x_test, y_test), class_names=['true','fake'])"
   ]
  },
  {
   "cell_type": "code",
   "execution_count": 0,
   "metadata": {
    "colab": {},
    "colab_type": "code",
    "id": "j8b-8BQNVJTw"
   },
   "outputs": [],
   "source": [
    "pred_prob=model.predict(x_test)"
   ]
  },
  {
   "cell_type": "code",
   "execution_count": 68,
   "metadata": {
    "colab": {
     "base_uri": "https://localhost:8080/",
     "height": 186
    },
    "colab_type": "code",
    "executionInfo": {
     "elapsed": 22505,
     "status": "ok",
     "timestamp": 1575455765955,
     "user": {
      "displayName": "Tyn Long Tay",
      "photoUrl": "",
      "userId": "05995455900473544360"
     },
     "user_tz": -480
    },
    "id": "UsJf5kypmCH7",
    "outputId": "c1655bd1-0fb9-4a25-ea47-f8b8e14251a9"
   },
   "outputs": [
    {
     "name": "stdout",
     "output_type": "stream",
     "text": [
      "Float64Index([0.0, 1.0], dtype='float64')\n"
     ]
    },
    {
     "data": {
      "text/html": [
       "<div>\n",
       "<style scoped>\n",
       "    .dataframe tbody tr th:only-of-type {\n",
       "        vertical-align: middle;\n",
       "    }\n",
       "\n",
       "    .dataframe tbody tr th {\n",
       "        vertical-align: top;\n",
       "    }\n",
       "\n",
       "    .dataframe thead th {\n",
       "        text-align: right;\n",
       "    }\n",
       "</style>\n",
       "<table border=\"1\" class=\"dataframe\">\n",
       "  <thead>\n",
       "    <tr style=\"text-align: right;\">\n",
       "      <th></th>\n",
       "      <th>Predicted Real</th>\n",
       "      <th>Predicted Fake</th>\n",
       "    </tr>\n",
       "    <tr>\n",
       "      <th>index</th>\n",
       "      <th></th>\n",
       "      <th></th>\n",
       "    </tr>\n",
       "  </thead>\n",
       "  <tbody>\n",
       "    <tr>\n",
       "      <th>Real Real</th>\n",
       "      <td>157</td>\n",
       "      <td>62</td>\n",
       "    </tr>\n",
       "    <tr>\n",
       "      <th>Real Fake</th>\n",
       "      <td>9</td>\n",
       "      <td>48</td>\n",
       "    </tr>\n",
       "  </tbody>\n",
       "</table>\n",
       "</div>"
      ],
      "text/plain": [
       "           Predicted Real  Predicted Fake\n",
       "index                                    \n",
       "Real Real             157              62\n",
       "Real Fake               9              48"
      ]
     },
     "metadata": {
      "tags": []
     },
     "output_type": "display_data"
    },
    {
     "name": "stdout",
     "output_type": "stream",
     "text": [
      "{'accuracy': 0.7427536231884058, 'f': 0.5748502994011976, 'precision': 0.43636363636363634, 'recall': 0.8421052631578947, 'fprate': 0.2831050228310502, 'tprate': 0.8421052631578947}\n"
     ]
    }
   ],
   "source": [
    "valid_pred_df=assess_model(pred_prob[:,1],y_test[:,1],0.5)"
   ]
  },
  {
   "cell_type": "code",
   "execution_count": 69,
   "metadata": {
    "colab": {
     "base_uri": "https://localhost:8080/",
     "height": 472
    },
    "colab_type": "code",
    "executionInfo": {
     "elapsed": 22980,
     "status": "ok",
     "timestamp": 1575455766440,
     "user": {
      "displayName": "Tyn Long Tay",
      "photoUrl": "",
      "userId": "05995455900473544360"
     },
     "user_tz": -480
    },
    "id": "AzNgU_sXPm6V",
    "outputId": "8da68729-51ae-49bf-faf3-e4171a425c14"
   },
   "outputs": [
    {
     "data": {
      "image/png": "[encoded data removed]",
      "text/plain": [
       "<Figure size 720x504 with 1 Axes>"
      ]
     },
     "metadata": {
      "tags": []
     },
     "output_type": "display_data"
    }
   ],
   "source": [
    "plotprob(valid_pred_df)"
   ]
  },
  {
   "cell_type": "code",
   "execution_count": 70,
   "metadata": {
    "colab": {
     "base_uri": "https://localhost:8080/",
     "height": 472
    },
    "colab_type": "code",
    "executionInfo": {
     "elapsed": 24774,
     "status": "ok",
     "timestamp": 1575455768245,
     "user": {
      "displayName": "Tyn Long Tay",
      "photoUrl": "",
      "userId": "05995455900473544360"
     },
     "user_tz": -480
    },
    "id": "v1mpLZqoPp9-",
    "outputId": "92b7ddd5-85ef-4bb5-a0e2-43f9fb5601db"
   },
   "outputs": [
    {
     "data": {
      "image/png": "[encoded data removed]",
      "text/plain": [
       "<Figure size 720x504 with 1 Axes>"
      ]
     },
     "metadata": {
      "tags": []
     },
     "output_type": "display_data"
    }
   ],
   "source": [
    "rocauccurve(valid_pred_df)"
   ]
  },
  {
   "cell_type": "markdown",
   "metadata": {
    "colab_type": "text",
    "id": "G-H2PKxse5TZ"
   },
   "source": [
    "### Assessment Functions"
   ]
  },
  {
   "cell_type": "code",
   "execution_count": 0,
   "metadata": {
    "colab": {},
    "colab_type": "code",
    "id": "DXk2UlNTBsmL"
   },
   "outputs": [],
   "source": [
    "## Prints a Confusion Matrix with columns and indexes labeled correctly\n",
    "def printcm(Y,predictions,ground_truth):\n",
    "    \n",
    "    columns=pd.get_dummies(Y).columns\n",
    "    print(columns)\n",
    "    predictions=pd.DataFrame(predictions)\n",
    "    predictions[0]=predictions[0].map({n:col for n,col in enumerate(columns)})\n",
    "\n",
    "    columns2=['Real','Fake']\n",
    "    cm=pd.DataFrame(confusion_matrix(ground_truth,predictions[0]),columns=[('Predicted '+str(x)) for x in columns2])\n",
    "    cm['index']=cm['index']=[('Real '+str(x)) for x in columns2]\n",
    "    cm.set_index('index',inplace=True)\n",
    "    display(cm)"
   ]
  },
  {
   "cell_type": "code",
   "execution_count": 0,
   "metadata": {
    "colab": {},
    "colab_type": "code",
    "id": "P1tw-uhD5aWT"
   },
   "outputs": [],
   "source": [
    "#sets recall to a certain threshold, then checks precision of that point.\n",
    "def set_fprate(ground_truth, pred_proba,fp_threshold=0.10):\n",
    "    error,max_error=0,0\n",
    "    thresholds=np.linspace(1,0,2001)\n",
    "    pred_df=pd.DataFrame()\n",
    "    pred_df['true_values']=ground_truth\n",
    "    pred_df['pred_prob']=pred_proba\n",
    "    \n",
    "    for prob in thresholds:\n",
    "        x=FPR(pred_df,'true_values','pred_prob',prob)\n",
    "        if x>fp_threshold:#if the recall is above the set point, return precision\n",
    "            print(f'probability threshold where fp is {x} is {prob}')\n",
    "            return prob\n",
    "\n"
   ]
  },
  {
   "cell_type": "code",
   "execution_count": 0,
   "metadata": {
    "colab": {},
    "colab_type": "code",
    "id": "co6WxnR2R0Tv"
   },
   "outputs": [],
   "source": [
    "## prints  accuracy,f1,precision,recall scores and the confusion matrix\n",
    "def assess_model(pred_prob,y_test,threshold):   \n",
    "\n",
    "    pred_df=pd.DataFrame(pred_prob,columns=['pred_probs'])\n",
    "\n",
    "\n",
    "    pred_df['true_values']=y_test\n",
    "    pred_df['predict']=pred_df['pred_probs']>threshold\n",
    "    pred_df['predict']=pred_df['predict'].astype(int)\n",
    "    predictions=pred_df['predict'].values\n",
    "    method={}\n",
    "    \n",
    "    method['accuracy']=accuracy_score(y_test,predictions)\n",
    "    method['f']=f1_score(y_test,predictions)\n",
    "    method['precision']=precision_score(y_test,predictions)\n",
    "    method['recall']=recall_score(y_test,predictions)\n",
    "    method['fprate']=FPR(pred_df,'true_values','pred_probs',threshold)\n",
    "    method['tprate']=TPR(pred_df,'true_values','pred_probs',threshold)\n",
    "    columns=pd.get_dummies(y_test).columns\n",
    "    \n",
    "\n",
    "\n",
    "    printcm(y_test,predictions,y_test)\n",
    "    \n",
    "    print(method)\n",
    "\n",
    "    return pred_df"
   ]
  },
  {
   "cell_type": "code",
   "execution_count": 0,
   "metadata": {
    "colab": {},
    "colab_type": "code",
    "id": "pKl0T09LVOMV"
   },
   "outputs": [],
   "source": [
    "## returns precision and recall at a particular threshold\n",
    "def custom_pr(true_col,pred_prob_col,threshold,beta=1):\n",
    "    fbeta=0\n",
    "    df=pd.DataFrame()\n",
    "    df['true_col']=true_col\n",
    "    df['pred_prob_col']=pred_prob_col\n",
    "\n",
    "    TN = df[(df['true_col'] == 0) & (df['pred_prob_col'] <= threshold)].shape[0]\n",
    "    FP = df[(df['true_col'] == 0) & (df['pred_prob_col'] > threshold)].shape[0]\n",
    "    TP = df[(df['true_col'] == 1) & (df['pred_prob_col'] >= threshold)].shape[0]\n",
    "    FN = df[(df['true_col'] == 1) & (df['pred_prob_col'] < threshold)].shape[0]\n",
    "    #print(TN,FP,TP,FN)\n",
    "    \n",
    "    \n",
    "    if TP==0:\n",
    "        precision=0\n",
    "        recall=0\n",
    "    else:\n",
    "        precision=TP/(TP+FP)\n",
    "        recall=TP/(TP+FN)\n",
    "        \n",
    "    if (precision==0 or recall==0):\n",
    "        fbeta=0\n",
    "    else:\n",
    "        fbeta=(1+beta**2) * (precision * recall) / ((beta**2)*precision + recall)\n",
    "    return [precision,recall]"
   ]
  },
  {
   "cell_type": "code",
   "execution_count": 0,
   "metadata": {
    "colab": {},
    "colab_type": "code",
    "id": "AGd7sHjPXQQQ"
   },
   "outputs": [],
   "source": [
    "#sets recall to a certain threshold, then checks precision of that point.\n",
    "def set_recall(ground_truth, pred_proba,recall_threshold=0.95):\n",
    "    error,max_error=0,0\n",
    "    thresholds=np.linspace(1,0,2001)\n",
    "    \n",
    "    for prob in thresholds:\n",
    "        if custom_pr(ground_truth,pred_proba, prob)[1]>recall_threshold:#if the recall is above the set point, return precision\n",
    "            print(f'probability threshold is{prob}')\n",
    "            return custom_pr(ground_truth,pred_proba, prob)\n",
    "\n"
   ]
  },
  {
   "cell_type": "code",
   "execution_count": 0,
   "metadata": {
    "colab": {},
    "colab_type": "code",
    "id": "eNb53gXw9X8f"
   },
   "outputs": [],
   "source": [
    "# plots a probability distribution of the predictions\n",
    "def plotprob(pred_df):\n",
    "# Create figure.\n",
    "  plt.figure(figsize = (10,7))\n",
    "\n",
    "# Create two histograms of observations.\n",
    "  plt.hist(pred_df[pred_df['true_values'] == 0]['pred_probs'],\n",
    "          bins=25,\n",
    "          color='b',\n",
    "          alpha = 0.6,\n",
    "          label='Outcome = 0')\n",
    "  plt.hist(pred_df[pred_df['true_values'] == 1]['pred_probs'],\n",
    "          bins=25,\n",
    "          color='orange',\n",
    "          alpha = 0.6,\n",
    "          label='Outcome = 1')\n",
    "\n",
    "# Label axes.\n",
    "  plt.title('Distribution of P(Outcome = 1)', fontsize=22)\n",
    "  plt.ylabel('Frequency', fontsize=18)\n",
    "  plt.xlabel('Predicted Probability that Outcome = 1', fontsize=18)\n",
    "\n",
    "# Create legend.\n",
    "  plt.legend(fontsize=20);\n",
    "  pass"
   ]
  },
  {
   "cell_type": "code",
   "execution_count": 0,
   "metadata": {
    "colab": {},
    "colab_type": "code",
    "id": "_EA60DpV9oTF"
   },
   "outputs": [],
   "source": [
    "# Define function to calculate sensitivity. (True positive rate.)\n",
    "def TPR(df, true_col, pred_prob_col, threshold):\n",
    "    true_positive = df[(df[true_col] == 1) & (df[pred_prob_col] >= threshold)].shape[0]\n",
    "    false_negative = df[(df[true_col] == 1) & (df[pred_prob_col] < threshold)].shape[0]\n",
    "    return true_positive / (true_positive + false_negative)\n",
    "    \n",
    "\n",
    "# Define function to calculate 1 - specificity. (False positive rate.)\n",
    "def FPR(df, true_col, pred_prob_col, threshold):\n",
    "    true_negative = df[(df[true_col] == 0) & (df[pred_prob_col] <= threshold)].shape[0]\n",
    "    false_positive = df[(df[true_col] == 0) & (df[pred_prob_col] > threshold)].shape[0]\n",
    "    return 1 - (true_negative / (true_negative + false_positive))\n",
    "\n",
    "#define function to calculate f1 score for a particular threshold\n",
    "def f1(df,true_col,pred_prob_col,threshold):\n",
    "    TN = df[(df[true_col] == 0) & (df[pred_prob_col] <= threshold)].shape[0]\n",
    "    FP = df[(df[true_col] == 0) & (df[pred_prob_col] > threshold)].shape[0]\n",
    "    TP = df[(df[true_col] == 1) & (df[pred_prob_col] >= threshold)].shape[0]\n",
    "    FN = df[(df[true_col] == 1) & (df[pred_prob_col] < threshold)].shape[0]\n",
    "    if TP==0:\n",
    "        precision=0\n",
    "    else:\n",
    "        precision=TP/(TP+FP)\n",
    "        \n",
    "    recall=TP/(TP+FN)\n",
    "    if (precision==0 or recall==0):\n",
    "        f1=0\n",
    "    else:\n",
    "        f1=2 * (precision * recall) / (precision + recall)\n",
    "    return f1"
   ]
  },
  {
   "cell_type": "code",
   "execution_count": 0,
   "metadata": {
    "colab": {},
    "colab_type": "code",
    "id": "IqrIGLnN9_nA"
   },
   "outputs": [],
   "source": [
    "#plots the receiver operating curve\n",
    "def rocauccurve(pred_df):\n",
    "  # Create figure.\n",
    "  plt.figure(figsize = (10,7))\n",
    "  # Create threshold values. (Dashed red line in image.)\n",
    "  thresholds = np.linspace(0, 1, 200)\n",
    "  # Calculate sensitivity & 1-specificity for each threshold between 0 and 1.\n",
    "  tpr_values = [TPR(pred_df, 'true_values', 'pred_probs', prob) for prob in thresholds]\n",
    "  fpr_values = [FPR(pred_df, 'true_values', 'pred_probs', prob) for prob in thresholds]\n",
    "\n",
    "  # Plot ROC curve.\n",
    "  plt.plot(fpr_values, # False Positive Rate on X-axis\n",
    "          tpr_values,\n",
    "          label='ROC Curve')\n",
    "  # Plot ROC curve.\n",
    "  plt.plot(thresholds, # False Positive Rate on X-axis\n",
    "          thresholds,\n",
    "          label='ROC Curve')\n",
    "  # Label axes.\n",
    "  plt.title(f'ROC Curve with AUC = {round(roc_auc_score(pred_df[\"true_values\"], pred_df[\"pred_probs\"]),3)}', fontsize=22)\n",
    "  plt.ylabel('Sensitivity', fontsize=18)\n",
    "  plt.xlabel('1 - Specificity', fontsize=18)\n",
    "\n",
    "  # Create legend.\n",
    "  plt.legend(fontsize=16);"
   ]
  },
  {
   "cell_type": "code",
   "execution_count": 0,
   "metadata": {
    "colab": {},
    "colab_type": "code",
    "id": "byeGYCdp3jYn"
   },
   "outputs": [],
   "source": []
  }
 ],
 "metadata": {
  "accelerator": "GPU",
  "colab": {
   "collapsed_sections": [],
   "name": "BERT-binary classification.ipynb",
   "provenance": [
    {
     "file_id": "1LarQA1Q4iXF8FG2kmUnChoIdZVSe96U7",
     "timestamp": 1574750332915
    },
    {
     "file_id": "18SVeIFXWCiA9HL4WVCAFxlfH59ez6atc",
     "timestamp": 1574670282663
    },
    {
     "file_id": "1cjZpisdXL_HcVbEJdBde7Lk-TuOsRNhs",
     "timestamp": 1571236129031
    }
   ],
   "toc_visible": true
  },
  "kernelspec": {
   "display_name": "Python 3",
   "language": "python",
   "name": "python3"
  },
  "language_info": {
   "codemirror_mode": {
    "name": "ipython",
    "version": 3
   },
   "file_extension": ".py",
   "mimetype": "text/x-python",
   "name": "python",
   "nbconvert_exporter": "python",
   "pygments_lexer": "ipython3",
   "version": "3.7.3"
  },
  "toc": {
   "base_numbering": 1,
   "nav_menu": {},
   "number_sections": true,
   "sideBar": true,
   "skip_h1_title": false,
   "title_cell": "Table of Contents",
   "title_sidebar": "Contents",
   "toc_cell": false,
   "toc_position": {},
   "toc_section_display": true,
   "toc_window_display": false
  }
 },
 "nbformat": 4,
 "nbformat_minor": 1
}
