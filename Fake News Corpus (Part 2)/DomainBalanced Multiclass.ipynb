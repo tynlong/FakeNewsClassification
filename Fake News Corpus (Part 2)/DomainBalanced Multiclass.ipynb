{
 "cells": [
  {
   "cell_type": "markdown",
   "metadata": {
    "colab_type": "text",
    "id": "DrEj5SI6MITG"
   },
   "source": [
    "# Multiclass Classification of News Articles\n",
    "\n",
    "In this notebook, we build a binary text classifier to classify movie reviews as either positive or negative using [BERT](https://arxiv.org/abs/1810.04805), a pretrained NLP model that can be used for transfer learning on text data.  We will use the [*ktrain* library](https://github.com/amaiya/ktrain), a lightweight wrapper around Keras to help train (and deploy) neural networks.  For more information on *ktrain*, see [this Medium post](https://towardsdatascience.com/ktrain-a-lightweight-wrapper-for-keras-to-help-train-neural-networks-82851ba889c).\n",
    "\n",
    "We will begin by installing *ktrain* and importing the required *ktrain* modules."
   ]
  },
  {
   "cell_type": "markdown",
   "metadata": {
    "colab_type": "text",
    "id": "UP583ueAAzCR"
   },
   "source": [
    "## Installations and imports"
   ]
  },
  {
   "cell_type": "code",
   "execution_count": 2,
   "metadata": {
    "ExecuteTime": {
     "end_time": "2019-12-04T17:07:34.781682Z",
     "start_time": "2019-12-04T17:07:21.651313Z"
    },
    "colab": {
     "base_uri": "https://localhost:8080/",
     "height": 1000
    },
    "colab_type": "code",
    "executionInfo": {
     "elapsed": 31500,
     "status": "ok",
     "timestamp": 1575468769452,
     "user": {
      "displayName": "Tyn Long Tay",
      "photoUrl": "",
      "userId": "05995455900473544360"
     },
     "user_tz": -480
    },
    "id": "ijx0A5xdKb0W",
    "outputId": "216b6e31-1a9f-4a36-ede2-705d0d04cf91"
   },
   "outputs": [
    {
     "name": "stderr",
     "output_type": "stream",
     "text": [
      "Using TensorFlow backend.\n"
     ]
    },
    {
     "name": "stdout",
     "output_type": "stream",
     "text": [
      "Requirement already satisfied: ktrain in /Users/apple/anaconda3/lib/python3.7/site-packages (0.6.1)\n",
      "Requirement already satisfied: networkx==2.3 in /Users/apple/anaconda3/lib/python3.7/site-packages (from ktrain) (2.3)\n",
      "Requirement already satisfied: seqeval in /Users/apple/anaconda3/lib/python3.7/site-packages (from ktrain) (0.0.12)\n",
      "Requirement already satisfied: scikit-learn>=0.20.0 in /Users/apple/anaconda3/lib/python3.7/site-packages (from ktrain) (0.21.2)\n",
      "Requirement already satisfied: langdetect in /Users/apple/anaconda3/lib/python3.7/site-packages (from ktrain) (1.0.7)\n",
      "Requirement already satisfied: jieba in /Users/apple/anaconda3/lib/python3.7/site-packages (from ktrain) (0.39)\n",
      "Requirement already satisfied: bokeh in /Users/apple/anaconda3/lib/python3.7/site-packages (from ktrain) (1.2.0)\n",
      "Requirement already satisfied: matplotlib>=3.0.0 in /Users/apple/anaconda3/lib/python3.7/site-packages (from ktrain) (3.1.0)\n",
      "Requirement already satisfied: keras-bert in /Users/apple/anaconda3/lib/python3.7/site-packages (from ktrain) (0.80.0)\n",
      "Requirement already satisfied: fastprogress>=0.1.21 in /Users/apple/anaconda3/lib/python3.7/site-packages (from ktrain) (0.1.22)\n",
      "Requirement already satisfied: eli5>=0.10.0 in /Users/apple/anaconda3/lib/python3.7/site-packages (from ktrain) (0.10.1)\n",
      "Requirement already satisfied: joblib in /Users/apple/anaconda3/lib/python3.7/site-packages (from ktrain) (0.13.2)\n",
      "Requirement already satisfied: requests in /Users/apple/anaconda3/lib/python3.7/site-packages (from ktrain) (2.22.0)\n",
      "Requirement already satisfied: keras==2.2.4 in /Users/apple/anaconda3/lib/python3.7/site-packages (from ktrain) (2.2.4)\n",
      "Requirement already satisfied: pandas>=0.24.2 in /Users/apple/anaconda3/lib/python3.7/site-packages (from ktrain) (0.25.3)\n",
      "Requirement already satisfied: cchardet in /Users/apple/anaconda3/lib/python3.7/site-packages (from ktrain) (2.1.5)\n",
      "Requirement already satisfied: decorator>=4.3.0 in /Users/apple/anaconda3/lib/python3.7/site-packages (from networkx==2.3->ktrain) (4.4.0)\n",
      "Requirement already satisfied: numpy>=1.14.0 in /Users/apple/anaconda3/lib/python3.7/site-packages (from seqeval->ktrain) (1.17.3)\n",
      "Requirement already satisfied: scipy>=0.17.0 in /Users/apple/anaconda3/lib/python3.7/site-packages (from scikit-learn>=0.20.0->ktrain) (1.3.0)\n",
      "Requirement already satisfied: six in /Users/apple/anaconda3/lib/python3.7/site-packages (from langdetect->ktrain) (1.12.0)\n",
      "Requirement already satisfied: python-dateutil>=2.1 in /Users/apple/anaconda3/lib/python3.7/site-packages (from bokeh->ktrain) (2.8.0)\n",
      "Requirement already satisfied: pillow>=4.0 in /Users/apple/anaconda3/lib/python3.7/site-packages (from bokeh->ktrain) (6.1.0)\n",
      "Requirement already satisfied: tornado>=4.3 in /Users/apple/anaconda3/lib/python3.7/site-packages (from bokeh->ktrain) (6.0.3)\n",
      "Requirement already satisfied: PyYAML>=3.10 in /Users/apple/anaconda3/lib/python3.7/site-packages (from bokeh->ktrain) (5.1.1)\n",
      "Requirement already satisfied: packaging>=16.8 in /Users/apple/anaconda3/lib/python3.7/site-packages (from bokeh->ktrain) (19.0)\n",
      "Requirement already satisfied: Jinja2>=2.7 in /Users/apple/anaconda3/lib/python3.7/site-packages (from bokeh->ktrain) (2.10.1)\n",
      "Requirement already satisfied: cycler>=0.10 in /Users/apple/anaconda3/lib/python3.7/site-packages (from matplotlib>=3.0.0->ktrain) (0.10.0)\n",
      "Requirement already satisfied: kiwisolver>=1.0.1 in /Users/apple/anaconda3/lib/python3.7/site-packages (from matplotlib>=3.0.0->ktrain) (1.1.0)\n",
      "Requirement already satisfied: pyparsing!=2.0.4,!=2.1.2,!=2.1.6,>=2.0.1 in /Users/apple/anaconda3/lib/python3.7/site-packages (from matplotlib>=3.0.0->ktrain) (2.4.0)\n",
      "Requirement already satisfied: keras-transformer>=0.30.0 in /Users/apple/anaconda3/lib/python3.7/site-packages (from keras-bert->ktrain) (0.31.0)\n",
      "Requirement already satisfied: graphviz in /Users/apple/anaconda3/lib/python3.7/site-packages (from eli5>=0.10.0->ktrain) (0.13.2)\n",
      "Requirement already satisfied: attrs>16.0.0 in /Users/apple/anaconda3/lib/python3.7/site-packages (from eli5>=0.10.0->ktrain) (19.1.0)\n",
      "Requirement already satisfied: tabulate>=0.7.7 in /Users/apple/anaconda3/lib/python3.7/site-packages (from eli5>=0.10.0->ktrain) (0.8.6)\n",
      "Requirement already satisfied: urllib3!=1.25.0,!=1.25.1,<1.26,>=1.21.1 in /Users/apple/anaconda3/lib/python3.7/site-packages (from requests->ktrain) (1.24.2)\n",
      "Requirement already satisfied: idna<2.9,>=2.5 in /Users/apple/anaconda3/lib/python3.7/site-packages (from requests->ktrain) (2.8)\n",
      "Requirement already satisfied: certifi>=2017.4.17 in /Users/apple/anaconda3/lib/python3.7/site-packages (from requests->ktrain) (2019.9.11)\n",
      "Requirement already satisfied: chardet<3.1.0,>=3.0.2 in /Users/apple/anaconda3/lib/python3.7/site-packages (from requests->ktrain) (3.0.4)\n",
      "Requirement already satisfied: h5py in /Users/apple/anaconda3/lib/python3.7/site-packages (from keras==2.2.4->ktrain) (2.9.0)\n",
      "Requirement already satisfied: keras-applications>=1.0.6 in /Users/apple/anaconda3/lib/python3.7/site-packages (from keras==2.2.4->ktrain) (1.0.8)\n",
      "Requirement already satisfied: keras-preprocessing>=1.0.5 in /Users/apple/anaconda3/lib/python3.7/site-packages (from keras==2.2.4->ktrain) (1.1.0)\n",
      "Requirement already satisfied: pytz>=2017.2 in /Users/apple/anaconda3/lib/python3.7/site-packages (from pandas>=0.24.2->ktrain) (2019.1)\n",
      "Requirement already satisfied: MarkupSafe>=0.23 in /Users/apple/anaconda3/lib/python3.7/site-packages (from Jinja2>=2.7->bokeh->ktrain) (1.1.1)\n",
      "Requirement already satisfied: setuptools in /Users/apple/anaconda3/lib/python3.7/site-packages (from kiwisolver>=1.0.1->matplotlib>=3.0.0->ktrain) (41.0.1)\n",
      "Requirement already satisfied: keras-position-wise-feed-forward>=0.5.0 in /Users/apple/anaconda3/lib/python3.7/site-packages (from keras-transformer>=0.30.0->keras-bert->ktrain) (0.6.0)\n",
      "Requirement already satisfied: keras-embed-sim>=0.7.0 in /Users/apple/anaconda3/lib/python3.7/site-packages (from keras-transformer>=0.30.0->keras-bert->ktrain) (0.7.0)\n",
      "Requirement already satisfied: keras-multi-head>=0.22.0 in /Users/apple/anaconda3/lib/python3.7/site-packages (from keras-transformer>=0.30.0->keras-bert->ktrain) (0.22.0)\n",
      "Requirement already satisfied: keras-pos-embd>=0.10.0 in /Users/apple/anaconda3/lib/python3.7/site-packages (from keras-transformer>=0.30.0->keras-bert->ktrain) (0.11.0)\n",
      "Requirement already satisfied: keras-layer-normalization>=0.12.0 in /Users/apple/anaconda3/lib/python3.7/site-packages (from keras-transformer>=0.30.0->keras-bert->ktrain) (0.14.0)\n",
      "Requirement already satisfied: keras-self-attention==0.41.0 in /Users/apple/anaconda3/lib/python3.7/site-packages (from keras-multi-head>=0.22.0->keras-transformer>=0.30.0->keras-bert->ktrain) (0.41.0)\n",
      "using Keras version: 2.2.4\n"
     ]
    }
   ],
   "source": [
    "import pandas as pd\n",
    "import numpy as np\n",
    "import seaborn as sns\n",
    "import matplotlib.pyplot as plt\n",
    "# To allow interactive plot.\n",
    "\n",
    "from sklearn.model_selection import train_test_split\n",
    "\n",
    "from keras.models import Sequential\n",
    "from keras.layers import Dense,Embedding,SpatialDropout1D,LSTM,Bidirectional,Conv2D,Flatten\n",
    "from keras.utils import to_categorical\n",
    "from keras.preprocessing.text import Tokenizer\n",
    "from keras.preprocessing.sequence import pad_sequences\n",
    "from keras.callbacks import EarlyStopping,ModelCheckpoint\n",
    "from keras import metrics\n",
    "from keras import optimizers\n",
    "\n",
    "!pip install ktrain\n",
    "import ktrain\n",
    "from ktrain import text\n",
    "\n",
    "%matplotlib inline"
   ]
  },
  {
   "cell_type": "markdown",
   "metadata": {
    "colab_type": "text",
    "id": "B_b6171rdknd"
   },
   "source": [
    "### Mount Google Drive, where the files are stored"
   ]
  },
  {
   "cell_type": "markdown",
   "metadata": {
    "colab_type": "text",
    "id": "IjhNBvJFKxsI"
   },
   "source": [
    "### Next, we will fetch and extract the news dataset.\n",
    "\n",
    "**This news set has 10 domains equally represented, with one domain in each newstype set aside as a test set**"
   ]
  },
  {
   "cell_type": "code",
   "execution_count": 1,
   "metadata": {
    "ExecuteTime": {
     "end_time": "2019-12-04T17:07:17.755582Z",
     "start_time": "2019-12-04T17:07:17.750724Z"
    },
    "colab": {},
    "colab_type": "code",
    "id": "Xg2cDiKdf5Mb"
   },
   "outputs": [],
   "source": [
    "newstypes=['fake',\n",
    " 'conspiracy',\n",
    " 'political',\n",
    " 'junksci',\n",
    " 'unreliable',\n",
    " 'bias',\n",
    " 'hate',\n",
    " 'reliable',\n",
    " 'satire',\n",
    " 'clickbait']\n",
    "filepath='balanced domains/'\n"
   ]
  },
  {
   "cell_type": "code",
   "execution_count": 3,
   "metadata": {
    "ExecuteTime": {
     "end_time": "2019-12-04T17:07:37.126270Z",
     "start_time": "2019-12-04T17:07:34.784536Z"
    },
    "colab": {
     "base_uri": "https://localhost:8080/",
     "height": 163
    },
    "colab_type": "code",
    "executionInfo": {
     "elapsed": 12900,
     "status": "ok",
     "timestamp": 1575469989387,
     "user": {
      "displayName": "Tyn Long Tay",
      "photoUrl": "",
      "userId": "05995455900473544360"
     },
     "user_tz": -480
    },
    "id": "CheRAzYZg2bv",
    "outputId": "0e583f8b-84e9-4f53-c4aa-a21eff9e6557"
   },
   "outputs": [
    {
     "name": "stdout",
     "output_type": "stream",
     "text": [
      "conspiracy has shape of (4500, 15)\n",
      "political has shape of (4500, 15)\n",
      "junksci has shape of (4500, 15)\n",
      "unreliable has shape of (4500, 15)\n",
      "bias has shape of (4500, 15)\n",
      "hate has shape of (4500, 15)\n",
      "reliable has shape of (4500, 15)\n",
      "satire has shape of (4500, 15)\n",
      "clickbait has shape of (4500, 15)\n"
     ]
    }
   ],
   "source": [
    "#Training dataset consisting of 500 articles from 9 domains each\n",
    "train=pd.read_csv(filepath+'domain_fake')\n",
    "for news in newstypes[1:]:\n",
    "  train2=pd.read_csv(filepath+'domain_'+news)\n",
    "  print(f'{news} has shape of {train2.shape}')\n",
    "  train=pd.concat([train2,train],axis=0)\n",
    "\n",
    "#Test dataset consisting of 500 articles from 1 domain each\n",
    "test=pd.read_csv(filepath+'test_fake')\n",
    "for news in newstypes[1:]:\n",
    "  test2=pd.read_csv(filepath+'test_'+news)\n",
    "  test=pd.concat([test2,test],axis=0)  "
   ]
  },
  {
   "cell_type": "code",
   "execution_count": 4,
   "metadata": {
    "ExecuteTime": {
     "end_time": "2019-12-04T17:07:39.013243Z",
     "start_time": "2019-12-04T17:07:39.002172Z"
    },
    "colab": {
     "base_uri": "https://localhost:8080/",
     "height": 33
    },
    "colab_type": "code",
    "executionInfo": {
     "elapsed": 10498,
     "status": "ok",
     "timestamp": 1575469989390,
     "user": {
      "displayName": "Tyn Long Tay",
      "photoUrl": "",
      "userId": "05995455900473544360"
     },
     "user_tz": -480
    },
    "id": "m1TRl8DsSbCa",
    "outputId": "8ca371fd-aa77-43e0-d078-add19f41f29e"
   },
   "outputs": [
    {
     "data": {
      "text/plain": [
       "(45000, 15)"
      ]
     },
     "execution_count": 4,
     "metadata": {},
     "output_type": "execute_result"
    }
   ],
   "source": [
    "train.shape"
   ]
  },
  {
   "cell_type": "code",
   "execution_count": 5,
   "metadata": {
    "ExecuteTime": {
     "end_time": "2019-12-04T17:07:39.277080Z",
     "start_time": "2019-12-04T17:07:39.264820Z"
    },
    "colab": {
     "base_uri": "https://localhost:8080/",
     "height": 33
    },
    "colab_type": "code",
    "executionInfo": {
     "elapsed": 9987,
     "status": "ok",
     "timestamp": 1575469989391,
     "user": {
      "displayName": "Tyn Long Tay",
      "photoUrl": "",
      "userId": "05995455900473544360"
     },
     "user_tz": -480
    },
    "id": "jL-YMycQvzFv",
    "outputId": "0e23c639-1b3e-4036-c7d0-0ea8714b9ae4"
   },
   "outputs": [
    {
     "data": {
      "text/plain": [
       "(5000, 15)"
      ]
     },
     "execution_count": 5,
     "metadata": {},
     "output_type": "execute_result"
    }
   ],
   "source": [
    "test.shape"
   ]
  },
  {
   "cell_type": "markdown",
   "metadata": {
    "colab_type": "text",
    "id": "1Nm5-uiiMj0I"
   },
   "source": [
    "## STEP 1:  Load and Preprocess the Dataset\n",
    "\n",
    "The `texts_from_folder` function will load the training and validation data from the specified folder and automatically preprocess it according to BERT's requirements.  In doing so, the BERT model and vocabulary will be automatically downloaded."
   ]
  },
  {
   "cell_type": "code",
   "execution_count": 8,
   "metadata": {
    "colab": {
     "base_uri": "https://localhost:8080/",
     "height": 196
    },
    "colab_type": "code",
    "executionInfo": {
     "elapsed": 9277,
     "status": "ok",
     "timestamp": 1575469989392,
     "user": {
      "displayName": "Tyn Long Tay",
      "photoUrl": "",
      "userId": "05995455900473544360"
     },
     "user_tz": -480
    },
    "id": "U7MewCIElo7B",
    "outputId": "dbbc76ea-2898-41ce-d50c-1f4f9a223cf2"
   },
   "outputs": [
    {
     "data": {
      "text/plain": [
       "fake          4500\n",
       "conspiracy    4500\n",
       "political     4500\n",
       "junksci       4500\n",
       "unreliable    4500\n",
       "bias          4500\n",
       "hate          4500\n",
       "reliable      4500\n",
       "satire        4500\n",
       "clickbait     4500\n",
       "dtype: int64"
      ]
     },
     "execution_count": 8,
     "metadata": {
      "tags": []
     },
     "output_type": "execute_result"
    }
   ],
   "source": [
    "train[newstypes].sum()"
   ]
  },
  {
   "cell_type": "markdown",
   "metadata": {
    "colab_type": "text",
    "id": "wuVC2OB7NMqR"
   },
   "source": [
    "### Preprocess the text using bert"
   ]
  },
  {
   "cell_type": "code",
   "execution_count": 9,
   "metadata": {
    "colab": {
     "base_uri": "https://localhost:8080/",
     "height": 245
    },
    "colab_type": "code",
    "executionInfo": {
     "elapsed": 305267,
     "status": "ok",
     "timestamp": 1575470285914,
     "user": {
      "displayName": "Tyn Long Tay",
      "photoUrl": "",
      "userId": "05995455900473544360"
     },
     "user_tz": -480
    },
    "id": "GTo2Mdcx05oU",
    "outputId": "d6580b43-86e1-41f1-ae4c-9880c7b59c27"
   },
   "outputs": [
    {
     "name": "stdout",
     "output_type": "stream",
     "text": [
      "downloading pretrained BERT model (uncased_L-12_H-768_A-12.zip)...\n",
      "[██████████████████████████████████████████████████]\n",
      "extracting pretrained BERT model...\n",
      "done.\n",
      "\n",
      "cleanup downloaded zip...\n",
      "done.\n",
      "\n",
      "preprocessing train...\n",
      "language: en\n"
     ]
    },
    {
     "data": {
      "text/html": [
       "done."
      ],
      "text/plain": [
       "<IPython.core.display.HTML object>"
      ]
     },
     "metadata": {
      "tags": []
     },
     "output_type": "display_data"
    },
    {
     "name": "stdout",
     "output_type": "stream",
     "text": [
      "preprocessing test...\n",
      "language: en\n"
     ]
    },
    {
     "data": {
      "text/html": [
       "done."
      ],
      "text/plain": [
       "<IPython.core.display.HTML object>"
      ]
     },
     "metadata": {
      "tags": []
     },
     "output_type": "display_data"
    }
   ],
   "source": [
    "(x_train, y_train), (x_val, y_val), preproc=text.texts_from_df(train_df=train,\n",
    "                                                                 text_column='content',\n",
    "                                                                 label_columns=newstypes,\n",
    "                                                                 maxlen=128,\n",
    "                                                                 preprocess_mode='bert',\n",
    "                                                                  val_pct=0.1)"
   ]
  },
  {
   "cell_type": "code",
   "execution_count": 10,
   "metadata": {
    "colab": {
     "base_uri": "https://localhost:8080/",
     "height": 115
    },
    "colab_type": "code",
    "executionInfo": {
     "elapsed": 414077,
     "status": "ok",
     "timestamp": 1575470394887,
     "user": {
      "displayName": "Tyn Long Tay",
      "photoUrl": "",
      "userId": "05995455900473544360"
     },
     "user_tz": -480
    },
    "id": "hp9qvDRjyvl0",
    "outputId": "d95f5abb-b5dc-4bed-b021-c59b92cd2fa3"
   },
   "outputs": [
    {
     "name": "stdout",
     "output_type": "stream",
     "text": [
      "preprocessing train...\n",
      "language: en\n"
     ]
    },
    {
     "data": {
      "text/html": [
       "done."
      ],
      "text/plain": [
       "<IPython.core.display.HTML object>"
      ]
     },
     "metadata": {
      "tags": []
     },
     "output_type": "display_data"
    },
    {
     "name": "stdout",
     "output_type": "stream",
     "text": [
      "preprocessing test...\n",
      "language: en\n"
     ]
    },
    {
     "data": {
      "text/html": [
       "done."
      ],
      "text/plain": [
       "<IPython.core.display.HTML object>"
      ]
     },
     "metadata": {
      "tags": []
     },
     "output_type": "display_data"
    }
   ],
   "source": [
    "(x_test, y_test), (x_test2, y_test2), preproc=text.texts_from_df(train_df=test,\n",
    "                                                                 val_df=test,\n",
    "                                                                 text_column='content',\n",
    "                                                                 label_columns=newstypes,\n",
    "                                                                 maxlen=128,\n",
    "                                                                 preprocess_mode='bert')"
   ]
  },
  {
   "cell_type": "markdown",
   "metadata": {
    "colab_type": "text",
    "id": "_Eh8CLd0Mpd5"
   },
   "source": [
    "## STEP 2:  Load a pretrained BERT model and wrap it in a `ktrain.Learner` object\n",
    "\n",
    "This step can be condensed into a single line of code, but we execute it as two lines for clarity. (You can ignore the deprecation warnings arising from Keras 2.2.4 with TensorFlow 1.14.0.)  "
   ]
  },
  {
   "cell_type": "code",
   "execution_count": 11,
   "metadata": {
    "colab": {
     "base_uri": "https://localhost:8080/",
     "height": 66
    },
    "colab_type": "code",
    "executionInfo": {
     "elapsed": 439001,
     "status": "ok",
     "timestamp": 1575470420193,
     "user": {
      "displayName": "Tyn Long Tay",
      "photoUrl": "",
      "userId": "05995455900473544360"
     },
     "user_tz": -480
    },
    "id": "YVCCpjtKwfTs",
    "outputId": "bc57945f-bb15-43d9-85a4-ab5d016e68cd"
   },
   "outputs": [
    {
     "name": "stdout",
     "output_type": "stream",
     "text": [
      "Is Multi-Label? False\n",
      "maxlen is 128\n",
      "done.\n"
     ]
    }
   ],
   "source": [
    "model = text.text_classifier('bert', (x_train, y_train), preproc=preproc)\n",
    "learner = ktrain.get_learner(model,train_data=(x_train, y_train), val_data=(x_val, y_val), batch_size=8,)"
   ]
  },
  {
   "cell_type": "markdown",
   "metadata": {
    "colab_type": "text",
    "id": "-g9dwBJqNgvR"
   },
   "source": [
    "## STEP 3:  Fake News \n",
    "\n",
    "We employ the `learner.fit_onecycle` method in *ktrain* that employs the use of a [1cycle learning  rate schedule](https://arxiv.org/pdf/1803.09820.pdf).  We use a learning rate of 2e-5 based on recommendations from [the original paper](https://arxiv.org/abs/1810.04805).\n",
    "\n",
    "As can be seen, we achieve a **93.92% validation accuracy** in a single epoch."
   ]
  },
  {
   "cell_type": "code",
   "execution_count": 12,
   "metadata": {
    "colab": {
     "base_uri": "https://localhost:8080/",
     "height": 131
    },
    "colab_type": "code",
    "executionInfo": {
     "elapsed": 2602,
     "status": "ok",
     "timestamp": 1575473823993,
     "user": {
      "displayName": "Tyn Long Tay",
      "photoUrl": "",
      "userId": "05995455900473544360"
     },
     "user_tz": -480
    },
    "id": "IhHGCuPhv5Ew",
    "outputId": "d0d13f3a-9962-4345-f3b8-6e933b5ce36e"
   },
   "outputs": [
    {
     "name": "stdout",
     "output_type": "stream",
     "text": [
      "\n",
      "\n",
      "begin training using onecycle policy with max lr of 2e-05...\n",
      "Train on 40500 samples, validate on 4500 samples\n",
      "Epoch 1/1\n",
      "40500/40500 [==============================] - 2773s 68ms/step - loss: 1.1950 - acc: 0.6008 - val_loss: 0.7991 - val_acc: 0.7311\n"
     ]
    },
    {
     "data": {
      "text/plain": [
       "<keras.callbacks.History at 0x7fc1c05abfd0>"
      ]
     },
     "execution_count": 12,
     "metadata": {
      "tags": []
     },
     "output_type": "execute_result"
    }
   ],
   "source": [
    "learner.fit_onecycle(2e-5, 1,checkpoint_folder='/content/drive/My Drive/Capstone_DSI/')"
   ]
  },
  {
   "cell_type": "markdown",
   "metadata": {
    "colab_type": "text",
    "id": "WBE749i3QaMu"
   },
   "source": [
    "Since it does not appear we are overfitting yet, we could train for an additional epoch or two for even higher accuracy.  \n",
    "\n",
    "Feel free to try it out on your own."
   ]
  },
  {
   "cell_type": "code",
   "execution_count": 0,
   "metadata": {
    "colab": {},
    "colab_type": "code",
    "id": "qHaTvGWw1f_V"
   },
   "outputs": [],
   "source": [
    "#model.load_weights(\"/content/drive/My Drive/Capstone_DSI/Multiclass Checkpoints/weights-01.hdf5\")"
   ]
  },
  {
   "cell_type": "code",
   "execution_count": 18,
   "metadata": {
    "colab": {
     "base_uri": "https://localhost:8080/",
     "height": 293
    },
    "colab_type": "code",
    "executionInfo": {
     "elapsed": 66473,
     "status": "ok",
     "timestamp": 1575474305114,
     "user": {
      "displayName": "Tyn Long Tay",
      "photoUrl": "",
      "userId": "05995455900473544360"
     },
     "user_tz": -480
    },
    "id": "FbsXJ1ySqc0X",
    "outputId": "228a711b-19a7-4a0a-b527-8804ae55789c"
   },
   "outputs": [
    {
     "name": "stdout",
     "output_type": "stream",
     "text": [
      "              precision    recall  f1-score   support\n",
      "\n",
      "        fake       0.70      0.67      0.69       449\n",
      "  conspiracy       0.83      0.77      0.80       433\n",
      "   political       0.49      0.65      0.56       453\n",
      "     junksci       0.78      0.89      0.83       447\n",
      "  unreliable       0.64      0.71      0.67       468\n",
      "        bias       0.76      0.57      0.65       451\n",
      "        hate       0.73      0.70      0.71       445\n",
      "    reliable       0.91      0.84      0.87       460\n",
      "      satire       0.86      0.81      0.83       445\n",
      "   clickbait       0.72      0.70      0.71       449\n",
      "\n",
      "    accuracy                           0.73      4500\n",
      "   macro avg       0.74      0.73      0.73      4500\n",
      "weighted avg       0.74      0.73      0.73      4500\n",
      "\n"
     ]
    }
   ],
   "source": [
    "cm=(learner.validate(val_data=(x_val, y_val), class_names=newstypes))"
   ]
  },
  {
   "cell_type": "code",
   "execution_count": 23,
   "metadata": {
    "colab": {
     "base_uri": "https://localhost:8080/",
     "height": 448
    },
    "colab_type": "code",
    "executionInfo": {
     "elapsed": 1003,
     "status": "ok",
     "timestamp": 1575474559397,
     "user": {
      "displayName": "Tyn Long Tay",
      "photoUrl": "",
      "userId": "05995455900473544360"
     },
     "user_tz": -480
    },
    "id": "rqWbvVuja7x_",
    "outputId": "e6cc1bba-3e6a-4c1e-be21-0fb85b919219"
   },
   "outputs": [
    {
     "data": {
      "text/html": [
       "<div>\n",
       "<style scoped>\n",
       "    .dataframe tbody tr th:only-of-type {\n",
       "        vertical-align: middle;\n",
       "    }\n",
       "\n",
       "    .dataframe tbody tr th {\n",
       "        vertical-align: top;\n",
       "    }\n",
       "\n",
       "    .dataframe thead th {\n",
       "        text-align: right;\n",
       "    }\n",
       "</style>\n",
       "<table border=\"1\" class=\"dataframe\">\n",
       "  <thead>\n",
       "    <tr style=\"text-align: right;\">\n",
       "      <th></th>\n",
       "      <th>Predicted fake</th>\n",
       "      <th>Predicted conspiracy</th>\n",
       "      <th>Predicted political</th>\n",
       "      <th>Predicted junksci</th>\n",
       "      <th>Predicted unreliable</th>\n",
       "      <th>Predicted bias</th>\n",
       "      <th>Predicted hate</th>\n",
       "      <th>Predicted reliable</th>\n",
       "      <th>Predicted satire</th>\n",
       "      <th>Predicted clickbait</th>\n",
       "    </tr>\n",
       "  </thead>\n",
       "  <tbody>\n",
       "    <tr>\n",
       "      <th>Real fake</th>\n",
       "      <td>0.602</td>\n",
       "      <td>0.016</td>\n",
       "      <td>0.064</td>\n",
       "      <td>0.018</td>\n",
       "      <td>0.064</td>\n",
       "      <td>0.020</td>\n",
       "      <td>0.060</td>\n",
       "      <td>0.000</td>\n",
       "      <td>0.006</td>\n",
       "      <td>0.048</td>\n",
       "    </tr>\n",
       "    <tr>\n",
       "      <th>Real conspiracy</th>\n",
       "      <td>0.018</td>\n",
       "      <td>0.668</td>\n",
       "      <td>0.034</td>\n",
       "      <td>0.042</td>\n",
       "      <td>0.038</td>\n",
       "      <td>0.024</td>\n",
       "      <td>0.016</td>\n",
       "      <td>0.004</td>\n",
       "      <td>0.004</td>\n",
       "      <td>0.018</td>\n",
       "    </tr>\n",
       "    <tr>\n",
       "      <th>Real political</th>\n",
       "      <td>0.040</td>\n",
       "      <td>0.028</td>\n",
       "      <td>0.586</td>\n",
       "      <td>0.028</td>\n",
       "      <td>0.034</td>\n",
       "      <td>0.038</td>\n",
       "      <td>0.040</td>\n",
       "      <td>0.046</td>\n",
       "      <td>0.028</td>\n",
       "      <td>0.038</td>\n",
       "    </tr>\n",
       "    <tr>\n",
       "      <th>Real junksci</th>\n",
       "      <td>0.006</td>\n",
       "      <td>0.020</td>\n",
       "      <td>0.010</td>\n",
       "      <td>0.794</td>\n",
       "      <td>0.020</td>\n",
       "      <td>0.006</td>\n",
       "      <td>0.010</td>\n",
       "      <td>0.000</td>\n",
       "      <td>0.010</td>\n",
       "      <td>0.018</td>\n",
       "    </tr>\n",
       "    <tr>\n",
       "      <th>Real unreliable</th>\n",
       "      <td>0.058</td>\n",
       "      <td>0.020</td>\n",
       "      <td>0.040</td>\n",
       "      <td>0.026</td>\n",
       "      <td>0.662</td>\n",
       "      <td>0.034</td>\n",
       "      <td>0.038</td>\n",
       "      <td>0.002</td>\n",
       "      <td>0.016</td>\n",
       "      <td>0.040</td>\n",
       "    </tr>\n",
       "    <tr>\n",
       "      <th>Real bias</th>\n",
       "      <td>0.034</td>\n",
       "      <td>0.024</td>\n",
       "      <td>0.190</td>\n",
       "      <td>0.008</td>\n",
       "      <td>0.052</td>\n",
       "      <td>0.518</td>\n",
       "      <td>0.026</td>\n",
       "      <td>0.006</td>\n",
       "      <td>0.014</td>\n",
       "      <td>0.030</td>\n",
       "    </tr>\n",
       "    <tr>\n",
       "      <th>Real hate</th>\n",
       "      <td>0.032</td>\n",
       "      <td>0.012</td>\n",
       "      <td>0.072</td>\n",
       "      <td>0.018</td>\n",
       "      <td>0.070</td>\n",
       "      <td>0.022</td>\n",
       "      <td>0.622</td>\n",
       "      <td>0.004</td>\n",
       "      <td>0.012</td>\n",
       "      <td>0.026</td>\n",
       "    </tr>\n",
       "    <tr>\n",
       "      <th>Real reliable</th>\n",
       "      <td>0.004</td>\n",
       "      <td>0.004</td>\n",
       "      <td>0.088</td>\n",
       "      <td>0.010</td>\n",
       "      <td>0.014</td>\n",
       "      <td>0.002</td>\n",
       "      <td>0.004</td>\n",
       "      <td>0.776</td>\n",
       "      <td>0.006</td>\n",
       "      <td>0.012</td>\n",
       "    </tr>\n",
       "    <tr>\n",
       "      <th>Real satire</th>\n",
       "      <td>0.018</td>\n",
       "      <td>0.002</td>\n",
       "      <td>0.038</td>\n",
       "      <td>0.036</td>\n",
       "      <td>0.026</td>\n",
       "      <td>0.006</td>\n",
       "      <td>0.016</td>\n",
       "      <td>0.012</td>\n",
       "      <td>0.720</td>\n",
       "      <td>0.016</td>\n",
       "    </tr>\n",
       "    <tr>\n",
       "      <th>Real clickbait</th>\n",
       "      <td>0.044</td>\n",
       "      <td>0.010</td>\n",
       "      <td>0.062</td>\n",
       "      <td>0.040</td>\n",
       "      <td>0.050</td>\n",
       "      <td>0.012</td>\n",
       "      <td>0.022</td>\n",
       "      <td>0.004</td>\n",
       "      <td>0.022</td>\n",
       "      <td>0.632</td>\n",
       "    </tr>\n",
       "  </tbody>\n",
       "</table>\n",
       "</div>"
      ],
      "text/plain": [
       "                 Predicted fake  ...  Predicted clickbait\n",
       "Real fake                 0.602  ...                0.048\n",
       "Real conspiracy           0.018  ...                0.018\n",
       "Real political            0.040  ...                0.038\n",
       "Real junksci              0.006  ...                0.018\n",
       "Real unreliable           0.058  ...                0.040\n",
       "Real bias                 0.034  ...                0.030\n",
       "Real hate                 0.032  ...                0.026\n",
       "Real reliable             0.004  ...                0.012\n",
       "Real satire               0.018  ...                0.016\n",
       "Real clickbait            0.044  ...                0.632\n",
       "\n",
       "[10 rows x 10 columns]"
      ]
     },
     "execution_count": 23,
     "metadata": {
      "tags": []
     },
     "output_type": "execute_result"
    }
   ],
   "source": [
    "cm=pd.DataFrame(cm/500,columns=[('Predicted '+str(x)) for x in newstypes],index=[('Real '+str(x)) for x in newstypes])\n",
    "cm"
   ]
  },
  {
   "cell_type": "code",
   "execution_count": 28,
   "metadata": {
    "colab": {
     "base_uri": "https://localhost:8080/",
     "height": 597
    },
    "colab_type": "code",
    "executionInfo": {
     "elapsed": 1041,
     "status": "ok",
     "timestamp": 1575474746756,
     "user": {
      "displayName": "Tyn Long Tay",
      "photoUrl": "",
      "userId": "05995455900473544360"
     },
     "user_tz": -480
    },
    "id": "GefN8eQEmi6a",
    "outputId": "902518f0-14d9-4541-bd0f-402403be72c3"
   },
   "outputs": [
    {
     "data": {
      "text/plain": [
       "<matplotlib.axes._subplots.AxesSubplot at 0x7fc16893d198>"
      ]
     },
     "execution_count": 28,
     "metadata": {
      "tags": []
     },
     "output_type": "execute_result"
    },
    {
     "data": {
      "image/png": "[encoded data removed]",
      "text/plain": [
       "<Figure size 720x576 with 2 Axes>"
      ]
     },
     "metadata": {
      "tags": []
     },
     "output_type": "display_data"
    }
   ],
   "source": [
    "plt.figure(figsize=(10,8))\n",
    "sns.heatmap(cm, cmap=\"Blues\")"
   ]
  },
  {
   "cell_type": "code",
   "execution_count": 29,
   "metadata": {
    "colab": {
     "base_uri": "https://localhost:8080/",
     "height": 293
    },
    "colab_type": "code",
    "executionInfo": {
     "elapsed": 73090,
     "status": "ok",
     "timestamp": 1575475214166,
     "user": {
      "displayName": "Tyn Long Tay",
      "photoUrl": "",
      "userId": "05995455900473544360"
     },
     "user_tz": -480
    },
    "id": "sQNnlNcgdNxX",
    "outputId": "e3b89a84-bcaf-4fe3-97bc-7c3ded583342"
   },
   "outputs": [
    {
     "name": "stdout",
     "output_type": "stream",
     "text": [
      "              precision    recall  f1-score   support\n",
      "\n",
      "        fake       0.13      0.09      0.11       500\n",
      "  conspiracy       0.29      0.22      0.25       500\n",
      "   political       0.19      0.32      0.24       500\n",
      "     junksci       0.66      0.80      0.72       500\n",
      "  unreliable       0.20      0.15      0.17       500\n",
      "        bias       0.26      0.14      0.19       500\n",
      "        hate       0.53      0.64      0.58       500\n",
      "    reliable       0.77      0.64      0.70       500\n",
      "      satire       0.37      0.41      0.39       500\n",
      "   clickbait       0.37      0.44      0.41       500\n",
      "\n",
      "    accuracy                           0.39      5000\n",
      "   macro avg       0.38      0.39      0.37      5000\n",
      "weighted avg       0.38      0.39      0.37      5000\n",
      "\n"
     ]
    }
   ],
   "source": [
    "cm2=(learner.validate(val_data=(x_test, y_test), class_names=newstypes))"
   ]
  },
  {
   "cell_type": "code",
   "execution_count": 34,
   "metadata": {
    "colab": {
     "base_uri": "https://localhost:8080/",
     "height": 597
    },
    "colab_type": "code",
    "executionInfo": {
     "elapsed": 936,
     "status": "ok",
     "timestamp": 1575475709403,
     "user": {
      "displayName": "Tyn Long Tay",
      "photoUrl": "",
      "userId": "05995455900473544360"
     },
     "user_tz": -480
    },
    "id": "BtgHtyOhqY3H",
    "outputId": "b1dde9a3-b313-4d41-c31e-1b85be76bbc3"
   },
   "outputs": [
    {
     "data": {
      "text/plain": [
       "<matplotlib.axes._subplots.AxesSubplot at 0x7fc168654d30>"
      ]
     },
     "execution_count": 34,
     "metadata": {
      "tags": []
     },
     "output_type": "execute_result"
    },
    {
     "data": {
      "image/png": "[encoded data removed]",
      "text/plain": [
       "<Figure size 720x576 with 2 Axes>"
      ]
     },
     "metadata": {
      "tags": []
     },
     "output_type": "display_data"
    }
   ],
   "source": [
    "cm2=pd.DataFrame(cm2/500,columns=[('Predicted '+str(x)) for x in newstypes],index=[('Real '+str(x)) for x in newstypes])\n",
    "plt.figure(figsize=(10,8))\n",
    "sns.heatmap(cm2, cmap=\"Blues\")"
   ]
  },
  {
   "cell_type": "code",
   "execution_count": 35,
   "metadata": {
    "colab": {
     "base_uri": "https://localhost:8080/",
     "height": 448
    },
    "colab_type": "code",
    "executionInfo": {
     "elapsed": 818,
     "status": "ok",
     "timestamp": 1575475726509,
     "user": {
      "displayName": "Tyn Long Tay",
      "photoUrl": "",
      "userId": "05995455900473544360"
     },
     "user_tz": -480
    },
    "id": "wJqk928kq7nk",
    "outputId": "2d01534d-9064-456c-ea93-fc777c6cb665"
   },
   "outputs": [
    {
     "data": {
      "text/html": [
       "<div>\n",
       "<style scoped>\n",
       "    .dataframe tbody tr th:only-of-type {\n",
       "        vertical-align: middle;\n",
       "    }\n",
       "\n",
       "    .dataframe tbody tr th {\n",
       "        vertical-align: top;\n",
       "    }\n",
       "\n",
       "    .dataframe thead th {\n",
       "        text-align: right;\n",
       "    }\n",
       "</style>\n",
       "<table border=\"1\" class=\"dataframe\">\n",
       "  <thead>\n",
       "    <tr style=\"text-align: right;\">\n",
       "      <th></th>\n",
       "      <th>Predicted fake</th>\n",
       "      <th>Predicted conspiracy</th>\n",
       "      <th>Predicted political</th>\n",
       "      <th>Predicted junksci</th>\n",
       "      <th>Predicted unreliable</th>\n",
       "      <th>Predicted bias</th>\n",
       "      <th>Predicted hate</th>\n",
       "      <th>Predicted reliable</th>\n",
       "      <th>Predicted satire</th>\n",
       "      <th>Predicted clickbait</th>\n",
       "    </tr>\n",
       "  </thead>\n",
       "  <tbody>\n",
       "    <tr>\n",
       "      <th>Real fake</th>\n",
       "      <td>0.094</td>\n",
       "      <td>0.014</td>\n",
       "      <td>0.226</td>\n",
       "      <td>0.070</td>\n",
       "      <td>0.036</td>\n",
       "      <td>0.004</td>\n",
       "      <td>0.036</td>\n",
       "      <td>0.088</td>\n",
       "      <td>0.134</td>\n",
       "      <td>0.298</td>\n",
       "    </tr>\n",
       "    <tr>\n",
       "      <th>Real conspiracy</th>\n",
       "      <td>0.088</td>\n",
       "      <td>0.218</td>\n",
       "      <td>0.176</td>\n",
       "      <td>0.116</td>\n",
       "      <td>0.034</td>\n",
       "      <td>0.094</td>\n",
       "      <td>0.078</td>\n",
       "      <td>0.012</td>\n",
       "      <td>0.170</td>\n",
       "      <td>0.014</td>\n",
       "    </tr>\n",
       "    <tr>\n",
       "      <th>Real political</th>\n",
       "      <td>0.054</td>\n",
       "      <td>0.088</td>\n",
       "      <td>0.316</td>\n",
       "      <td>0.032</td>\n",
       "      <td>0.168</td>\n",
       "      <td>0.114</td>\n",
       "      <td>0.192</td>\n",
       "      <td>0.014</td>\n",
       "      <td>0.006</td>\n",
       "      <td>0.016</td>\n",
       "    </tr>\n",
       "    <tr>\n",
       "      <th>Real junksci</th>\n",
       "      <td>0.000</td>\n",
       "      <td>0.104</td>\n",
       "      <td>0.034</td>\n",
       "      <td>0.800</td>\n",
       "      <td>0.026</td>\n",
       "      <td>0.004</td>\n",
       "      <td>0.008</td>\n",
       "      <td>0.002</td>\n",
       "      <td>0.002</td>\n",
       "      <td>0.020</td>\n",
       "    </tr>\n",
       "    <tr>\n",
       "      <th>Real unreliable</th>\n",
       "      <td>0.110</td>\n",
       "      <td>0.044</td>\n",
       "      <td>0.116</td>\n",
       "      <td>0.050</td>\n",
       "      <td>0.148</td>\n",
       "      <td>0.008</td>\n",
       "      <td>0.024</td>\n",
       "      <td>0.000</td>\n",
       "      <td>0.312</td>\n",
       "      <td>0.188</td>\n",
       "    </tr>\n",
       "    <tr>\n",
       "      <th>Real bias</th>\n",
       "      <td>0.062</td>\n",
       "      <td>0.192</td>\n",
       "      <td>0.166</td>\n",
       "      <td>0.110</td>\n",
       "      <td>0.122</td>\n",
       "      <td>0.144</td>\n",
       "      <td>0.140</td>\n",
       "      <td>0.016</td>\n",
       "      <td>0.030</td>\n",
       "      <td>0.018</td>\n",
       "    </tr>\n",
       "    <tr>\n",
       "      <th>Real hate</th>\n",
       "      <td>0.000</td>\n",
       "      <td>0.042</td>\n",
       "      <td>0.058</td>\n",
       "      <td>0.002</td>\n",
       "      <td>0.066</td>\n",
       "      <td>0.124</td>\n",
       "      <td>0.640</td>\n",
       "      <td>0.058</td>\n",
       "      <td>0.008</td>\n",
       "      <td>0.002</td>\n",
       "    </tr>\n",
       "    <tr>\n",
       "      <th>Real reliable</th>\n",
       "      <td>0.090</td>\n",
       "      <td>0.020</td>\n",
       "      <td>0.076</td>\n",
       "      <td>0.018</td>\n",
       "      <td>0.070</td>\n",
       "      <td>0.006</td>\n",
       "      <td>0.008</td>\n",
       "      <td>0.644</td>\n",
       "      <td>0.012</td>\n",
       "      <td>0.056</td>\n",
       "    </tr>\n",
       "    <tr>\n",
       "      <th>Real satire</th>\n",
       "      <td>0.038</td>\n",
       "      <td>0.010</td>\n",
       "      <td>0.314</td>\n",
       "      <td>0.006</td>\n",
       "      <td>0.044</td>\n",
       "      <td>0.006</td>\n",
       "      <td>0.036</td>\n",
       "      <td>0.004</td>\n",
       "      <td>0.414</td>\n",
       "      <td>0.128</td>\n",
       "    </tr>\n",
       "    <tr>\n",
       "      <th>Real clickbait</th>\n",
       "      <td>0.166</td>\n",
       "      <td>0.014</td>\n",
       "      <td>0.204</td>\n",
       "      <td>0.016</td>\n",
       "      <td>0.034</td>\n",
       "      <td>0.040</td>\n",
       "      <td>0.044</td>\n",
       "      <td>0.000</td>\n",
       "      <td>0.040</td>\n",
       "      <td>0.442</td>\n",
       "    </tr>\n",
       "  </tbody>\n",
       "</table>\n",
       "</div>"
      ],
      "text/plain": [
       "                 Predicted fake  ...  Predicted clickbait\n",
       "Real fake                 0.094  ...                0.298\n",
       "Real conspiracy           0.088  ...                0.014\n",
       "Real political            0.054  ...                0.016\n",
       "Real junksci              0.000  ...                0.020\n",
       "Real unreliable           0.110  ...                0.188\n",
       "Real bias                 0.062  ...                0.018\n",
       "Real hate                 0.000  ...                0.002\n",
       "Real reliable             0.090  ...                0.056\n",
       "Real satire               0.038  ...                0.128\n",
       "Real clickbait            0.166  ...                0.442\n",
       "\n",
       "[10 rows x 10 columns]"
      ]
     },
     "execution_count": 35,
     "metadata": {
      "tags": []
     },
     "output_type": "execute_result"
    }
   ],
   "source": [
    "cm2"
   ]
  },
  {
   "cell_type": "code",
   "execution_count": 0,
   "metadata": {
    "colab": {},
    "colab_type": "code",
    "id": "cJ32pFYmd3pc"
   },
   "outputs": [],
   "source": [
    "df=pd.DataFrame(cm2/25000,columns=[('Predicted '+str(x)) for x in newstypes],index=[('Real '+str(x)) for x in newstypes])"
   ]
  },
  {
   "cell_type": "code",
   "execution_count": 31,
   "metadata": {
    "colab": {
     "base_uri": "https://localhost:8080/",
     "height": 33
    },
    "colab_type": "code",
    "executionInfo": {
     "elapsed": 63881,
     "status": "ok",
     "timestamp": 1575475214170,
     "user": {
      "displayName": "Tyn Long Tay",
      "photoUrl": "",
      "userId": "05995455900473544360"
     },
     "user_tz": -480
    },
    "id": "Tbmy9npR2H4P",
    "outputId": "114541b8-6a0d-4b74-f593-ff94d81ddba6"
   },
   "outputs": [
    {
     "name": "stdout",
     "output_type": "stream",
     "text": [
      "Overall Accuracy: 1.2866666666666665e-06\n"
     ]
    }
   ],
   "source": [
    "sumTP=[]\n",
    "sumPrecision=[]\n",
    "sumRecall=[]\n",
    "for n,news in enumerate(newstypes):\n",
    "  TP=df.iloc[n,n]\n",
    "  sumTP.append(TP)\n",
    "  FP=df.iloc[n,0:].sum()-TP\n",
    "  FN=df.iloc[0:,n].sum()-TP\n",
    "  \n",
    "  \n",
    "  Precision=TP / (TP + FP)\n",
    "  Recall=TP/(TP+FN)\n",
    "  sumPrecision.append(Precision)\n",
    "  sumRecall.append(Recall)\n",
    "  #print(f'For {news} Precision: {Precision} Recall: {Recall}')\n",
    "\n",
    "outdf=pd.DataFrame()\n",
    "outdf['Newstypes']=newstypes\n",
    "outdf['Precision']=sumPrecision\n",
    "outdf['Recall']=sumRecall\n",
    "\n",
    "Accuracy=np.sum(sumTP)/60000\n",
    "print(f'Overall Accuracy: {Accuracy}')"
   ]
  },
  {
   "cell_type": "code",
   "execution_count": 0,
   "metadata": {
    "colab": {},
    "colab_type": "code",
    "id": "yqpcfvrrovzk"
   },
   "outputs": [],
   "source": []
  }
 ],
 "metadata": {
  "accelerator": "GPU",
  "colab": {
   "collapsed_sections": [],
   "machine_shape": "hm",
   "name": "DomainBalanced Multiclass.ipynb",
   "provenance": [
    {
     "file_id": "1L9c_DZRBjVcMWHOF35Rbt5NC2r6izqeR",
     "timestamp": 1575209217286
    },
    {
     "file_id": "1AuLPSVeu99noLd4N83nowVrXHtj_C0u-",
     "timestamp": 1574760954610
    },
    {
     "file_id": "1LarQA1Q4iXF8FG2kmUnChoIdZVSe96U7",
     "timestamp": 1574750332915
    },
    {
     "file_id": "18SVeIFXWCiA9HL4WVCAFxlfH59ez6atc",
     "timestamp": 1574670282663
    },
    {
     "file_id": "1cjZpisdXL_HcVbEJdBde7Lk-TuOsRNhs",
     "timestamp": 1571236129031
    }
   ],
   "toc_visible": true
  },
  "kernelspec": {
   "display_name": "Python 3",
   "language": "python",
   "name": "python3"
  },
  "language_info": {
   "codemirror_mode": {
    "name": "ipython",
    "version": 3
   },
   "file_extension": ".py",
   "mimetype": "text/x-python",
   "name": "python",
   "nbconvert_exporter": "python",
   "pygments_lexer": "ipython3",
   "version": "3.7.3"
  },
  "toc": {
   "base_numbering": 1,
   "nav_menu": {},
   "number_sections": true,
   "sideBar": true,
   "skip_h1_title": false,
   "title_cell": "Table of Contents",
   "title_sidebar": "Contents",
   "toc_cell": false,
   "toc_position": {},
   "toc_section_display": true,
   "toc_window_display": false
  }
 },
 "nbformat": 4,
 "nbformat_minor": 1
}
